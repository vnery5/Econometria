{
 "cells": [
  {
   "cell_type": "markdown",
   "metadata": {
    "id": "ue3atmYDsrgK"
   },
   "source": [
    "# Modelos de Resposta Binária: **Estimando Probabilidades**\n",
    "\n",
    "Qual o impacto de um ano adicional de estudo na decisão da mulher de entrar (=1) ou não (=0) na força de trabalho? \n",
    "\n",
    "E do número de filhos? Há diferença entre filhos pequenos e aqueles com mais idade?\n",
    "\n",
    "----"
   ]
  },
  {
   "cell_type": "markdown",
   "metadata": {
    "id": "Yf7lWKcVjC3E"
   },
   "source": [
    "## Leitura dos Dados"
   ]
  },
  {
   "cell_type": "code",
   "execution_count": 1,
   "metadata": {
    "colab": {
     "base_uri": "https://localhost:8080/",
     "height": 107
    },
    "executionInfo": {
     "elapsed": 1655,
     "status": "ok",
     "timestamp": 1638631809244,
     "user": {
      "displayName": "Vinicius Nery",
      "photoUrl": "https://lh3.googleusercontent.com/a-/AOh14GgskpJ_NRKHH95grqz01_Kgh6MLO26xbaMREp6wPhE=s64",
      "userId": "12869815464542738621"
     },
     "user_tz": 180
    },
    "id": "wrR02oUkRkAB",
    "outputId": "b32c5954-5acb-450b-b35d-bbfcbcd8bb05"
   },
   "outputs": [
    {
     "data": {
      "text/plain": "'\\nVamos usar o statsmodels (probit e logit) para os modelos, mas outro\\nmódulo conhecido para executar regressões logísticas, especialmente no\\ncontexto de Machine Learning, é o sklearn (LogisticRegression)\\n'"
     },
     "execution_count": 1,
     "metadata": {},
     "output_type": "execute_result"
    }
   ],
   "source": [
    "## Importando o que for necessário\n",
    "# Manipulação de dados\n",
    "import pandas as pd\n",
    "import numpy as np\n",
    "\n",
    "# Testes e regressões\n",
    "from scipy import stats\n",
    "import statsmodels.stats.api as sms\n",
    "from statsmodels.formula.api import ols, probit, logit  # modelos binários!\n",
    "\n",
    "# Gráficos\n",
    "import matplotlib.pyplot as plt\n",
    "import seaborn as sns\n",
    "from matplotlib import style\n",
    "\n",
    "style.use('ggplot')  # estilo do R\n",
    "\n",
    "\"\"\"\n",
    "Vamos usar o statsmodels (probit e logit) para os modelos, mas outro\n",
    "módulo conhecido para executar regressões logísticas, especialmente no\n",
    "contexto de Machine Learning, é o sklearn (LogisticRegression)\n",
    "\"\"\""
   ]
  },
  {
   "cell_type": "code",
   "execution_count": 2,
   "metadata": {
    "colab": {
     "base_uri": "https://localhost:8080/"
    },
    "executionInfo": {
     "elapsed": 24042,
     "status": "ok",
     "timestamp": 1638631839081,
     "user": {
      "displayName": "Vinicius Nery",
      "photoUrl": "https://lh3.googleusercontent.com/a-/AOh14GgskpJ_NRKHH95grqz01_Kgh6MLO26xbaMREp6wPhE=s64",
      "userId": "12869815464542738621"
     },
     "user_tz": 180
    },
    "id": "-bhytBXKiwGI",
    "outputId": "2d3a73d5-cd3a-4b5e-9fe7-05066e0b8195"
   },
   "outputs": [
    {
     "name": "stdout",
     "output_type": "stream",
     "text": [
      "Mounted at /content/drive\n"
     ]
    }
   ],
   "source": [
    "### Montando o Google Drive\n",
    "# from google.colab import drive\n",
    "# drive.mount('/content/drive')"
   ]
  },
  {
   "cell_type": "code",
   "execution_count": 3,
   "metadata": {
    "colab": {
     "base_uri": "https://localhost:8080/"
    },
    "executionInfo": {
     "elapsed": 1993,
     "status": "ok",
     "timestamp": 1638631844055,
     "user": {
      "displayName": "Vinicius Nery",
      "photoUrl": "https://lh3.googleusercontent.com/a-/AOh14GgskpJ_NRKHH95grqz01_Kgh6MLO26xbaMREp6wPhE=s64",
      "userId": "12869815464542738621"
     },
     "user_tz": 180
    },
    "id": "clixYWPVizo_",
    "outputId": "857b5f43-a446-4b40-dc08-aebcd3d4493d"
   },
   "outputs": [
    {
     "name": "stdout",
     "output_type": "stream",
     "text": [
      "Linhas: 753; Colunas: 22\n"
     ]
    }
   ],
   "source": [
    "## Lendo os dados\n",
    "sCaminho = \"/Users/vinicius/Meu Drive/UnB/Econometria/datasets/IDP/\"\n",
    "sArquivo = \"mroz.dta\"\n",
    "\n",
    "## Lendo o DataFrame\n",
    "data = pd.read_stata(f\"{sCaminho}{sArquivo}\")\n",
    "\n",
    "# Vendo o tamanho da base\n",
    "print(f\"Linhas: {data.shape[0]}; Colunas: {data.shape[1]}\")"
   ]
  },
  {
   "cell_type": "code",
   "execution_count": 4,
   "metadata": {
    "colab": {
     "base_uri": "https://localhost:8080/",
     "height": 383
    },
    "executionInfo": {
     "elapsed": 288,
     "status": "ok",
     "timestamp": 1638631846441,
     "user": {
      "displayName": "Vinicius Nery",
      "photoUrl": "https://lh3.googleusercontent.com/a-/AOh14GgskpJ_NRKHH95grqz01_Kgh6MLO26xbaMREp6wPhE=s64",
      "userId": "12869815464542738621"
     },
     "user_tz": 180
    },
    "id": "rEDAnNbXg4J9",
    "outputId": "2d443c11-8330-49db-eeb4-63b336e8698b"
   },
   "outputs": [
    {
     "data": {
      "text/plain": "   inlf   hours  kidslt6  kidsge6   age  educ    wage  repwage  hushrs  \\\n0   1.0  1610.0      1.0      0.0  32.0  12.0  3.3540     2.65  2708.0   \n1   1.0  1656.0      0.0      2.0  30.0  12.0  1.3889     2.65  2310.0   \n2   1.0  1980.0      1.0      3.0  35.0  12.0  4.5455     4.04  3072.0   \n3   1.0   456.0      0.0      3.0  34.0  12.0  1.0965     3.25  1920.0   \n4   1.0  1568.0      1.0      2.0  31.0  14.0  4.5918     3.60  2000.0   \n5   1.0  2032.0      0.0      0.0  54.0  12.0  4.7421     4.70  1040.0   \n6   1.0  1440.0      0.0      2.0  37.0  16.0  8.3333     5.95  2670.0   \n7   1.0  1020.0      0.0      0.0  54.0  12.0  7.8431     9.98  4120.0   \n8   1.0  1458.0      0.0      2.0  48.0  12.0  2.1262     0.00  1995.0   \n9   1.0  1600.0      0.0      2.0  39.0  12.0  4.6875     4.15  2100.0   \n\n   husage  ...   faminc     mtr  motheduc  fatheduc  unem  city  exper  \\\n0    34.0  ...  16310.0  0.7215      12.0       7.0   5.0   0.0   14.0   \n1    30.0  ...  21800.0  0.6615       7.0       7.0  11.0   1.0    5.0   \n2    40.0  ...  21040.0  0.6915      12.0       7.0   5.0   0.0   15.0   \n3    53.0  ...   7300.0  0.7815       7.0       7.0   5.0   0.0    6.0   \n4    32.0  ...  27300.0  0.6215      12.0      14.0   9.5   1.0    7.0   \n5    57.0  ...  19495.0  0.6915      14.0       7.0   7.5   1.0   33.0   \n6    37.0  ...  21152.0  0.6915      14.0       7.0   5.0   0.0   11.0   \n7    53.0  ...  18900.0  0.6915       3.0       3.0   5.0   0.0   35.0   \n8    52.0  ...  20405.0  0.7515       7.0       7.0   3.0   0.0   24.0   \n9    43.0  ...  20425.0  0.6915       7.0       7.0   5.0   0.0   21.0   \n\n    nwifeinc     lwage  expersq  \n0  10.910060  1.210154    196.0  \n1  19.499981  0.328512     25.0  \n2  12.039910  1.514138    225.0  \n3   6.799996  0.092123     36.0  \n4  20.100060  1.524272     49.0  \n5   9.859054  1.556480   1089.0  \n6   9.152048  2.120260    121.0  \n7  10.900040  2.059634   1225.0  \n8  17.305000  0.754336    576.0  \n9  12.925000  1.544899    441.0  \n\n[10 rows x 22 columns]",
      "text/html": "<div>\n<style scoped>\n    .dataframe tbody tr th:only-of-type {\n        vertical-align: middle;\n    }\n\n    .dataframe tbody tr th {\n        vertical-align: top;\n    }\n\n    .dataframe thead th {\n        text-align: right;\n    }\n</style>\n<table border=\"1\" class=\"dataframe\">\n  <thead>\n    <tr style=\"text-align: right;\">\n      <th></th>\n      <th>inlf</th>\n      <th>hours</th>\n      <th>kidslt6</th>\n      <th>kidsge6</th>\n      <th>age</th>\n      <th>educ</th>\n      <th>wage</th>\n      <th>repwage</th>\n      <th>hushrs</th>\n      <th>husage</th>\n      <th>...</th>\n      <th>faminc</th>\n      <th>mtr</th>\n      <th>motheduc</th>\n      <th>fatheduc</th>\n      <th>unem</th>\n      <th>city</th>\n      <th>exper</th>\n      <th>nwifeinc</th>\n      <th>lwage</th>\n      <th>expersq</th>\n    </tr>\n  </thead>\n  <tbody>\n    <tr>\n      <th>0</th>\n      <td>1.0</td>\n      <td>1610.0</td>\n      <td>1.0</td>\n      <td>0.0</td>\n      <td>32.0</td>\n      <td>12.0</td>\n      <td>3.3540</td>\n      <td>2.65</td>\n      <td>2708.0</td>\n      <td>34.0</td>\n      <td>...</td>\n      <td>16310.0</td>\n      <td>0.7215</td>\n      <td>12.0</td>\n      <td>7.0</td>\n      <td>5.0</td>\n      <td>0.0</td>\n      <td>14.0</td>\n      <td>10.910060</td>\n      <td>1.210154</td>\n      <td>196.0</td>\n    </tr>\n    <tr>\n      <th>1</th>\n      <td>1.0</td>\n      <td>1656.0</td>\n      <td>0.0</td>\n      <td>2.0</td>\n      <td>30.0</td>\n      <td>12.0</td>\n      <td>1.3889</td>\n      <td>2.65</td>\n      <td>2310.0</td>\n      <td>30.0</td>\n      <td>...</td>\n      <td>21800.0</td>\n      <td>0.6615</td>\n      <td>7.0</td>\n      <td>7.0</td>\n      <td>11.0</td>\n      <td>1.0</td>\n      <td>5.0</td>\n      <td>19.499981</td>\n      <td>0.328512</td>\n      <td>25.0</td>\n    </tr>\n    <tr>\n      <th>2</th>\n      <td>1.0</td>\n      <td>1980.0</td>\n      <td>1.0</td>\n      <td>3.0</td>\n      <td>35.0</td>\n      <td>12.0</td>\n      <td>4.5455</td>\n      <td>4.04</td>\n      <td>3072.0</td>\n      <td>40.0</td>\n      <td>...</td>\n      <td>21040.0</td>\n      <td>0.6915</td>\n      <td>12.0</td>\n      <td>7.0</td>\n      <td>5.0</td>\n      <td>0.0</td>\n      <td>15.0</td>\n      <td>12.039910</td>\n      <td>1.514138</td>\n      <td>225.0</td>\n    </tr>\n    <tr>\n      <th>3</th>\n      <td>1.0</td>\n      <td>456.0</td>\n      <td>0.0</td>\n      <td>3.0</td>\n      <td>34.0</td>\n      <td>12.0</td>\n      <td>1.0965</td>\n      <td>3.25</td>\n      <td>1920.0</td>\n      <td>53.0</td>\n      <td>...</td>\n      <td>7300.0</td>\n      <td>0.7815</td>\n      <td>7.0</td>\n      <td>7.0</td>\n      <td>5.0</td>\n      <td>0.0</td>\n      <td>6.0</td>\n      <td>6.799996</td>\n      <td>0.092123</td>\n      <td>36.0</td>\n    </tr>\n    <tr>\n      <th>4</th>\n      <td>1.0</td>\n      <td>1568.0</td>\n      <td>1.0</td>\n      <td>2.0</td>\n      <td>31.0</td>\n      <td>14.0</td>\n      <td>4.5918</td>\n      <td>3.60</td>\n      <td>2000.0</td>\n      <td>32.0</td>\n      <td>...</td>\n      <td>27300.0</td>\n      <td>0.6215</td>\n      <td>12.0</td>\n      <td>14.0</td>\n      <td>9.5</td>\n      <td>1.0</td>\n      <td>7.0</td>\n      <td>20.100060</td>\n      <td>1.524272</td>\n      <td>49.0</td>\n    </tr>\n    <tr>\n      <th>5</th>\n      <td>1.0</td>\n      <td>2032.0</td>\n      <td>0.0</td>\n      <td>0.0</td>\n      <td>54.0</td>\n      <td>12.0</td>\n      <td>4.7421</td>\n      <td>4.70</td>\n      <td>1040.0</td>\n      <td>57.0</td>\n      <td>...</td>\n      <td>19495.0</td>\n      <td>0.6915</td>\n      <td>14.0</td>\n      <td>7.0</td>\n      <td>7.5</td>\n      <td>1.0</td>\n      <td>33.0</td>\n      <td>9.859054</td>\n      <td>1.556480</td>\n      <td>1089.0</td>\n    </tr>\n    <tr>\n      <th>6</th>\n      <td>1.0</td>\n      <td>1440.0</td>\n      <td>0.0</td>\n      <td>2.0</td>\n      <td>37.0</td>\n      <td>16.0</td>\n      <td>8.3333</td>\n      <td>5.95</td>\n      <td>2670.0</td>\n      <td>37.0</td>\n      <td>...</td>\n      <td>21152.0</td>\n      <td>0.6915</td>\n      <td>14.0</td>\n      <td>7.0</td>\n      <td>5.0</td>\n      <td>0.0</td>\n      <td>11.0</td>\n      <td>9.152048</td>\n      <td>2.120260</td>\n      <td>121.0</td>\n    </tr>\n    <tr>\n      <th>7</th>\n      <td>1.0</td>\n      <td>1020.0</td>\n      <td>0.0</td>\n      <td>0.0</td>\n      <td>54.0</td>\n      <td>12.0</td>\n      <td>7.8431</td>\n      <td>9.98</td>\n      <td>4120.0</td>\n      <td>53.0</td>\n      <td>...</td>\n      <td>18900.0</td>\n      <td>0.6915</td>\n      <td>3.0</td>\n      <td>3.0</td>\n      <td>5.0</td>\n      <td>0.0</td>\n      <td>35.0</td>\n      <td>10.900040</td>\n      <td>2.059634</td>\n      <td>1225.0</td>\n    </tr>\n    <tr>\n      <th>8</th>\n      <td>1.0</td>\n      <td>1458.0</td>\n      <td>0.0</td>\n      <td>2.0</td>\n      <td>48.0</td>\n      <td>12.0</td>\n      <td>2.1262</td>\n      <td>0.00</td>\n      <td>1995.0</td>\n      <td>52.0</td>\n      <td>...</td>\n      <td>20405.0</td>\n      <td>0.7515</td>\n      <td>7.0</td>\n      <td>7.0</td>\n      <td>3.0</td>\n      <td>0.0</td>\n      <td>24.0</td>\n      <td>17.305000</td>\n      <td>0.754336</td>\n      <td>576.0</td>\n    </tr>\n    <tr>\n      <th>9</th>\n      <td>1.0</td>\n      <td>1600.0</td>\n      <td>0.0</td>\n      <td>2.0</td>\n      <td>39.0</td>\n      <td>12.0</td>\n      <td>4.6875</td>\n      <td>4.15</td>\n      <td>2100.0</td>\n      <td>43.0</td>\n      <td>...</td>\n      <td>20425.0</td>\n      <td>0.6915</td>\n      <td>7.0</td>\n      <td>7.0</td>\n      <td>5.0</td>\n      <td>0.0</td>\n      <td>21.0</td>\n      <td>12.925000</td>\n      <td>1.544899</td>\n      <td>441.0</td>\n    </tr>\n  </tbody>\n</table>\n<p>10 rows × 22 columns</p>\n</div>"
     },
     "execution_count": 4,
     "metadata": {},
     "output_type": "execute_result"
    }
   ],
   "source": [
    "## Vendo o DataFrame\n",
    "data.head(10)\n",
    "\n",
    "# inlf: dummy qu indica se está na força de trabalho (labor force)\n",
    "# hours: horas trabalhadas no ano\n",
    "# kidslt6: número de filhos com menos de 6 anos\n",
    "# kidsge6: número de filhos com mais de 6 anos\n",
    "# wage: salário/hora estimado\n",
    "# repwage: salário/hora reportado\n",
    "\n",
    "# prefixo hus: dados do marido (husband)\n",
    "\n",
    "# faminc: renda familiar total\n",
    "# mtr: taxa marginal do imposto de renda (marginal tax rate)\n",
    "# motheduc, fatheduc: anos de escolaridade dos pais\n",
    "# unem: taxa de desemprego na cidade onde mora\n",
    "# city: dummy quee indica se mora em grandes cidades\n",
    "# exper: anos de experiênca\n",
    "# nwifeinc: (faminc - wage*hours)/1000 (renda familiar não proveniente da mulher)"
   ]
  },
  {
   "cell_type": "code",
   "execution_count": 5,
   "metadata": {
    "colab": {
     "base_uri": "https://localhost:8080/",
     "height": 320
    },
    "executionInfo": {
     "elapsed": 309,
     "status": "ok",
     "timestamp": 1638631848759,
     "user": {
      "displayName": "Vinicius Nery",
      "photoUrl": "https://lh3.googleusercontent.com/a-/AOh14GgskpJ_NRKHH95grqz01_Kgh6MLO26xbaMREp6wPhE=s64",
      "userId": "12869815464542738621"
     },
     "user_tz": 180
    },
    "id": "iEOtcm3UD6JX",
    "outputId": "5588f874-623f-4852-e705-303ba6112c06"
   },
   "outputs": [
    {
     "data": {
      "text/html": [
       "<div>\n",
       "<style scoped>\n",
       "    .dataframe tbody tr th:only-of-type {\n",
       "        vertical-align: middle;\n",
       "    }\n",
       "\n",
       "    .dataframe tbody tr th {\n",
       "        vertical-align: top;\n",
       "    }\n",
       "\n",
       "    .dataframe thead th {\n",
       "        text-align: right;\n",
       "    }\n",
       "</style>\n",
       "<table border=\"1\" class=\"dataframe\">\n",
       "  <thead>\n",
       "    <tr style=\"text-align: right;\">\n",
       "      <th></th>\n",
       "      <th>inlf</th>\n",
       "      <th>hours</th>\n",
       "      <th>kidslt6</th>\n",
       "      <th>kidsge6</th>\n",
       "      <th>age</th>\n",
       "      <th>educ</th>\n",
       "      <th>wage</th>\n",
       "      <th>repwage</th>\n",
       "      <th>hushrs</th>\n",
       "      <th>husage</th>\n",
       "      <th>huseduc</th>\n",
       "      <th>huswage</th>\n",
       "      <th>faminc</th>\n",
       "      <th>mtr</th>\n",
       "      <th>motheduc</th>\n",
       "      <th>fatheduc</th>\n",
       "      <th>unem</th>\n",
       "      <th>city</th>\n",
       "      <th>exper</th>\n",
       "      <th>nwifeinc</th>\n",
       "      <th>lwage</th>\n",
       "      <th>expersq</th>\n",
       "    </tr>\n",
       "  </thead>\n",
       "  <tbody>\n",
       "    <tr>\n",
       "      <th>count</th>\n",
       "      <td>753.000000</td>\n",
       "      <td>753.000000</td>\n",
       "      <td>753.000000</td>\n",
       "      <td>753.000000</td>\n",
       "      <td>753.000000</td>\n",
       "      <td>753.000000</td>\n",
       "      <td>428.000000</td>\n",
       "      <td>753.000000</td>\n",
       "      <td>753.000000</td>\n",
       "      <td>753.000000</td>\n",
       "      <td>753.000000</td>\n",
       "      <td>753.000000</td>\n",
       "      <td>753.000000</td>\n",
       "      <td>753.000000</td>\n",
       "      <td>753.000000</td>\n",
       "      <td>753.000000</td>\n",
       "      <td>753.000000</td>\n",
       "      <td>753.000000</td>\n",
       "      <td>753.000000</td>\n",
       "      <td>753.000000</td>\n",
       "      <td>428.000000</td>\n",
       "      <td>753.000000</td>\n",
       "    </tr>\n",
       "    <tr>\n",
       "      <th>mean</th>\n",
       "      <td>0.568393</td>\n",
       "      <td>740.576355</td>\n",
       "      <td>0.237716</td>\n",
       "      <td>1.353254</td>\n",
       "      <td>42.537849</td>\n",
       "      <td>12.286853</td>\n",
       "      <td>4.177680</td>\n",
       "      <td>1.849734</td>\n",
       "      <td>2267.270996</td>\n",
       "      <td>45.120850</td>\n",
       "      <td>12.491368</td>\n",
       "      <td>7.482180</td>\n",
       "      <td>23080.595703</td>\n",
       "      <td>0.678862</td>\n",
       "      <td>9.250996</td>\n",
       "      <td>8.808765</td>\n",
       "      <td>8.623506</td>\n",
       "      <td>0.642762</td>\n",
       "      <td>10.630810</td>\n",
       "      <td>20.128967</td>\n",
       "      <td>1.190173</td>\n",
       "      <td>178.038513</td>\n",
       "    </tr>\n",
       "    <tr>\n",
       "      <th>std</th>\n",
       "      <td>0.495631</td>\n",
       "      <td>871.314392</td>\n",
       "      <td>0.523957</td>\n",
       "      <td>1.319876</td>\n",
       "      <td>8.072577</td>\n",
       "      <td>2.280245</td>\n",
       "      <td>3.310283</td>\n",
       "      <td>2.419891</td>\n",
       "      <td>595.566650</td>\n",
       "      <td>8.058786</td>\n",
       "      <td>3.020799</td>\n",
       "      <td>4.230559</td>\n",
       "      <td>12190.203125</td>\n",
       "      <td>0.083495</td>\n",
       "      <td>3.367467</td>\n",
       "      <td>3.572287</td>\n",
       "      <td>3.114935</td>\n",
       "      <td>0.479505</td>\n",
       "      <td>8.069145</td>\n",
       "      <td>11.634795</td>\n",
       "      <td>0.723198</td>\n",
       "      <td>249.630646</td>\n",
       "    </tr>\n",
       "    <tr>\n",
       "      <th>min</th>\n",
       "      <td>0.000000</td>\n",
       "      <td>0.000000</td>\n",
       "      <td>0.000000</td>\n",
       "      <td>0.000000</td>\n",
       "      <td>30.000000</td>\n",
       "      <td>5.000000</td>\n",
       "      <td>0.128200</td>\n",
       "      <td>0.000000</td>\n",
       "      <td>175.000000</td>\n",
       "      <td>30.000000</td>\n",
       "      <td>3.000000</td>\n",
       "      <td>0.412100</td>\n",
       "      <td>1500.000000</td>\n",
       "      <td>0.441500</td>\n",
       "      <td>0.000000</td>\n",
       "      <td>0.000000</td>\n",
       "      <td>3.000000</td>\n",
       "      <td>0.000000</td>\n",
       "      <td>0.000000</td>\n",
       "      <td>-0.029058</td>\n",
       "      <td>-2.054164</td>\n",
       "      <td>0.000000</td>\n",
       "    </tr>\n",
       "    <tr>\n",
       "      <th>25%</th>\n",
       "      <td>0.000000</td>\n",
       "      <td>0.000000</td>\n",
       "      <td>0.000000</td>\n",
       "      <td>0.000000</td>\n",
       "      <td>36.000000</td>\n",
       "      <td>12.000000</td>\n",
       "      <td>2.262600</td>\n",
       "      <td>0.000000</td>\n",
       "      <td>1928.000000</td>\n",
       "      <td>38.000000</td>\n",
       "      <td>11.000000</td>\n",
       "      <td>4.788300</td>\n",
       "      <td>15428.000000</td>\n",
       "      <td>0.621500</td>\n",
       "      <td>7.000000</td>\n",
       "      <td>7.000000</td>\n",
       "      <td>7.500000</td>\n",
       "      <td>0.000000</td>\n",
       "      <td>4.000000</td>\n",
       "      <td>13.025040</td>\n",
       "      <td>0.816509</td>\n",
       "      <td>16.000000</td>\n",
       "    </tr>\n",
       "    <tr>\n",
       "      <th>50%</th>\n",
       "      <td>1.000000</td>\n",
       "      <td>288.000000</td>\n",
       "      <td>0.000000</td>\n",
       "      <td>1.000000</td>\n",
       "      <td>43.000000</td>\n",
       "      <td>12.000000</td>\n",
       "      <td>3.481900</td>\n",
       "      <td>0.000000</td>\n",
       "      <td>2164.000000</td>\n",
       "      <td>46.000000</td>\n",
       "      <td>12.000000</td>\n",
       "      <td>6.975800</td>\n",
       "      <td>20880.000000</td>\n",
       "      <td>0.691500</td>\n",
       "      <td>10.000000</td>\n",
       "      <td>7.000000</td>\n",
       "      <td>7.500000</td>\n",
       "      <td>1.000000</td>\n",
       "      <td>9.000000</td>\n",
       "      <td>17.700001</td>\n",
       "      <td>1.247574</td>\n",
       "      <td>81.000000</td>\n",
       "    </tr>\n",
       "    <tr>\n",
       "      <th>75%</th>\n",
       "      <td>1.000000</td>\n",
       "      <td>1516.000000</td>\n",
       "      <td>0.000000</td>\n",
       "      <td>2.000000</td>\n",
       "      <td>49.000000</td>\n",
       "      <td>13.000000</td>\n",
       "      <td>4.970750</td>\n",
       "      <td>3.580000</td>\n",
       "      <td>2553.000000</td>\n",
       "      <td>52.000000</td>\n",
       "      <td>15.000000</td>\n",
       "      <td>9.166700</td>\n",
       "      <td>28200.000000</td>\n",
       "      <td>0.721500</td>\n",
       "      <td>12.000000</td>\n",
       "      <td>12.000000</td>\n",
       "      <td>11.000000</td>\n",
       "      <td>1.000000</td>\n",
       "      <td>15.000000</td>\n",
       "      <td>24.466000</td>\n",
       "      <td>1.603571</td>\n",
       "      <td>225.000000</td>\n",
       "    </tr>\n",
       "    <tr>\n",
       "      <th>max</th>\n",
       "      <td>1.000000</td>\n",
       "      <td>4950.000000</td>\n",
       "      <td>3.000000</td>\n",
       "      <td>8.000000</td>\n",
       "      <td>60.000000</td>\n",
       "      <td>17.000000</td>\n",
       "      <td>25.000000</td>\n",
       "      <td>9.980000</td>\n",
       "      <td>5010.000000</td>\n",
       "      <td>60.000000</td>\n",
       "      <td>17.000000</td>\n",
       "      <td>40.508999</td>\n",
       "      <td>96000.000000</td>\n",
       "      <td>0.941500</td>\n",
       "      <td>17.000000</td>\n",
       "      <td>17.000000</td>\n",
       "      <td>14.000000</td>\n",
       "      <td>1.000000</td>\n",
       "      <td>45.000000</td>\n",
       "      <td>96.000000</td>\n",
       "      <td>3.218876</td>\n",
       "      <td>2025.000000</td>\n",
       "    </tr>\n",
       "  </tbody>\n",
       "</table>\n",
       "</div>"
      ],
      "text/plain": [
       "             inlf        hours     kidslt6  ...    nwifeinc       lwage      expersq\n",
       "count  753.000000   753.000000  753.000000  ...  753.000000  428.000000   753.000000\n",
       "mean     0.568393   740.576355    0.237716  ...   20.128967    1.190173   178.038513\n",
       "std      0.495631   871.314392    0.523957  ...   11.634795    0.723198   249.630646\n",
       "min      0.000000     0.000000    0.000000  ...   -0.029058   -2.054164     0.000000\n",
       "25%      0.000000     0.000000    0.000000  ...   13.025040    0.816509    16.000000\n",
       "50%      1.000000   288.000000    0.000000  ...   17.700001    1.247574    81.000000\n",
       "75%      1.000000  1516.000000    0.000000  ...   24.466000    1.603571   225.000000\n",
       "max      1.000000  4950.000000    3.000000  ...   96.000000    3.218876  2025.000000\n",
       "\n",
       "[8 rows x 22 columns]"
      ]
     },
     "execution_count": 5,
     "metadata": {},
     "output_type": "execute_result"
    }
   ],
   "source": [
    "## Descrevendo o DataFrame\n",
    "data.describe()"
   ]
  },
  {
   "cell_type": "markdown",
   "metadata": {
    "id": "Dh1IpCLSD6JZ"
   },
   "source": [
    "## Modelo de Probabilidade Linear (MPL): MQO aplicado a variáveis binárias"
   ]
  },
  {
   "cell_type": "markdown",
   "metadata": {
    "id": "P5qP4op1D6Ja"
   },
   "source": [
    "O modelo mais simples para estimar a probabilidade consiste em usar MQO para determinar o impacto das variáveis na \"escolha\" das mulheres de trabalhar ou não.\n",
    "Para isso, basta colocar a variável binária de decisão como a variável dependente no modelo. \n",
    "\n",
    "Contudo, há um *trade-off* entre simplicidade e robustez do modelo:\n",
    "\n",
    "- O MPL pode gerar resultados menores que 0 ou maiores que 1 (por definição, $0 ≤ Prob ≤ 1$). De modo geral, o MPL funciona melhor com os valores de variáveis independentes próximos à **média** da amostra.\n",
    "\n",
    "- Estatisticamente, a distribuição de uma variável binária é do tipo Bernoulli, e não normal.\n",
    "\n",
    "- Ainda falando de estatística, a variânca de uma variável aleatória com distribuição Bernoulli é $var(y | X) = p(1-p)$, onde $p$ é a probabilidade. Como $p$ é função do vetor $X$, o erro jamais será homoscedástico (variância constante ao longo de $X$), o que inviabiliza nossos erros-padrão e torna inválida qualquer inferência estatística não-robusta.\n",
    "\n",
    "- Por fim, como o modelo é linear, todos os efeitos das variáveis independentes são constantes. No exemplo, passar de 0 pra 1 filho com menos de 6 anos teria o mesmo efeito de passar de 2 pra 3, o que parece pouco verossímil."
   ]
  },
  {
   "cell_type": "code",
   "execution_count": 6,
   "metadata": {
    "colab": {
     "base_uri": "https://localhost:8080/"
    },
    "executionInfo": {
     "elapsed": 288,
     "status": "ok",
     "timestamp": 1638631883915,
     "user": {
      "displayName": "Vinicius Nery",
      "photoUrl": "https://lh3.googleusercontent.com/a-/AOh14GgskpJ_NRKHH95grqz01_Kgh6MLO26xbaMREp6wPhE=s64",
      "userId": "12869815464542738621"
     },
     "user_tz": 180
    },
    "id": "bpvPRO_UD6Jx",
    "outputId": "c4c2ec79-b4fa-4683-bc41-3d3508dd1cae"
   },
   "outputs": [
    {
     "name": "stdout",
     "output_type": "stream",
     "text": [
      "                            OLS Regression Results                            \n",
      "==============================================================================\n",
      "Dep. Variable:                   inlf   R-squared:                       0.264\n",
      "Model:                            OLS   Adj. R-squared:                  0.257\n",
      "Method:                 Least Squares   F-statistic:                     62.48\n",
      "Date:                Sat, 04 Dec 2021   Prob (F-statistic):           1.30e-70\n",
      "Time:                        15:31:23   Log-Likelihood:                -423.89\n",
      "No. Observations:                 753   AIC:                             863.8\n",
      "Df Residuals:                     745   BIC:                             900.8\n",
      "Df Model:                           7                                         \n",
      "Covariance Type:                  HC1                                         \n",
      "=================================================================================\n",
      "                    coef    std err          t      P>|t|      [0.025      0.975]\n",
      "---------------------------------------------------------------------------------\n",
      "Intercept         0.5855      0.152      3.846      0.000       0.287       0.884\n",
      "nwifeinc         -0.0034      0.002     -2.233      0.026      -0.006      -0.000\n",
      "educ              0.0380      0.007      5.229      0.000       0.024       0.052\n",
      "exper             0.0395      0.006      6.797      0.000       0.028       0.051\n",
      "I(exper ** 2)    -0.0006      0.000     -3.138      0.002      -0.001      -0.000\n",
      "age              -0.0161      0.002     -6.707      0.000      -0.021      -0.011\n",
      "kidslt6          -0.2618      0.032     -8.237      0.000      -0.324      -0.199\n",
      "kidsge6           0.0130      0.014      0.962      0.337      -0.014       0.040\n",
      "==============================================================================\n",
      "Omnibus:                      169.137   Durbin-Watson:                   0.494\n",
      "Prob(Omnibus):                  0.000   Jarque-Bera (JB):               36.741\n",
      "Skew:                          -0.196   Prob(JB):                     1.05e-08\n",
      "Kurtosis:                       1.991   Cond. No.                     3.06e+03\n",
      "==============================================================================\n",
      "\n",
      "Warnings:\n",
      "[1] Standard Errors are heteroscedasticity robust (HC1)\n",
      "[2] The condition number is large, 3.06e+03. This might indicate that there are\n",
      "strong multicollinearity or other numerical problems.\n"
     ]
    }
   ],
   "source": [
    "## Criando o MPL\n",
    "# Formula (com experiência quadrática)\n",
    "formula = \"inlf ~ nwifeinc + educ + exper + I(exper**2) + age + kidslt6 + kidsge6\"\n",
    "\n",
    "# Modelo com covariância robusta\n",
    "modelo_mpl = ols(formula=formula, data=data).fit(cov_type=\"HC1\", use_t=True)\n",
    "\n",
    "# Resultados\n",
    "print(modelo_mpl.summary())\n",
    "\n",
    "# nwifeinc: quanto maior a renda da família, menor a chance de a mulher trabalhar\n",
    "# educ: um ano a mais de estudo aumenta em 3,8% a chance da mulher participar do mercado de trabalho, tudo o mais constante\n",
    "# kidslt6: ter filhos menores diminui muito (-26,18%) a chance de a mulher trabalhar; \n",
    "# filhos maiores, por outro lado, não afetam de forma estatisticamente significativa essa probabilidade"
   ]
  },
  {
   "cell_type": "code",
   "execution_count": 7,
   "metadata": {
    "colab": {
     "base_uri": "https://localhost:8080/"
    },
    "executionInfo": {
     "elapsed": 269,
     "status": "ok",
     "timestamp": 1638631894970,
     "user": {
      "displayName": "Vinicius Nery",
      "photoUrl": "https://lh3.googleusercontent.com/a-/AOh14GgskpJ_NRKHH95grqz01_Kgh6MLO26xbaMREp6wPhE=s64",
      "userId": "12869815464542738621"
     },
     "user_tz": 180
    },
    "id": "yuFw_zcSD6Jy",
    "outputId": "beb9c968-6096-4866-97f3-b0d45b6ee49b"
   },
   "outputs": [
    {
     "name": "stdout",
     "output_type": "stream",
     "text": [
      "P-valor: 0.0009523498962160502\n",
      "H0: homoscedasticidade\n"
     ]
    }
   ],
   "source": [
    "## Vamos realizar um teste de Breusch-Pagan para verificar a heteoscedasticidade\n",
    "# Lembrando: o teste é um diagnóstico que indica se precisamos ou não usar os erros robustos acima\n",
    "# e seu resultado não é afetado pela matriz de covariância usada no modelo\n",
    "teste_heteroscedasticidade = sms.het_breuschpagan(modelo_mpl.resid, modelo_mpl.model.exog)\n",
    "\n",
    "# Pegando o p-valor\n",
    "print(f\"P-valor: {teste_heteroscedasticidade[3]}\")\n",
    "print(\"H0: homoscedasticidade.\")\n",
    "\n",
    "# Como esperado, os valores são heteroscedásticos"
   ]
  },
  {
   "cell_type": "code",
   "execution_count": 8,
   "metadata": {
    "colab": {
     "base_uri": "https://localhost:8080/",
     "height": 300
    },
    "executionInfo": {
     "elapsed": 303,
     "status": "ok",
     "timestamp": 1638631907033,
     "user": {
      "displayName": "Vinicius Nery",
      "photoUrl": "https://lh3.googleusercontent.com/a-/AOh14GgskpJ_NRKHH95grqz01_Kgh6MLO26xbaMREp6wPhE=s64",
      "userId": "12869815464542738621"
     },
     "user_tz": 180
    },
    "id": "0JSWVvXbD6Jy",
    "outputId": "36a47bc9-1792-467d-cc56-11b38b0bcdb9"
   },
   "outputs": [
    {
     "data": {
      "text/html": [
       "<div>\n",
       "<style scoped>\n",
       "    .dataframe tbody tr th:only-of-type {\n",
       "        vertical-align: middle;\n",
       "    }\n",
       "\n",
       "    .dataframe tbody tr th {\n",
       "        vertical-align: top;\n",
       "    }\n",
       "\n",
       "    .dataframe thead th {\n",
       "        text-align: right;\n",
       "    }\n",
       "</style>\n",
       "<table border=\"1\" class=\"dataframe\">\n",
       "  <thead>\n",
       "    <tr style=\"text-align: right;\">\n",
       "      <th></th>\n",
       "      <th>inlf</th>\n",
       "      <th>pred_mpl</th>\n",
       "    </tr>\n",
       "  </thead>\n",
       "  <tbody>\n",
       "    <tr>\n",
       "      <th>count</th>\n",
       "      <td>753.000000</td>\n",
       "      <td>753.000000</td>\n",
       "    </tr>\n",
       "    <tr>\n",
       "      <th>mean</th>\n",
       "      <td>0.568393</td>\n",
       "      <td>0.568393</td>\n",
       "    </tr>\n",
       "    <tr>\n",
       "      <th>std</th>\n",
       "      <td>0.495631</td>\n",
       "      <td>0.254763</td>\n",
       "    </tr>\n",
       "    <tr>\n",
       "      <th>min</th>\n",
       "      <td>0.000000</td>\n",
       "      <td>-0.345110</td>\n",
       "    </tr>\n",
       "    <tr>\n",
       "      <th>25%</th>\n",
       "      <td>0.000000</td>\n",
       "      <td>0.401575</td>\n",
       "    </tr>\n",
       "    <tr>\n",
       "      <th>50%</th>\n",
       "      <td>1.000000</td>\n",
       "      <td>0.587970</td>\n",
       "    </tr>\n",
       "    <tr>\n",
       "      <th>75%</th>\n",
       "      <td>1.000000</td>\n",
       "      <td>0.759198</td>\n",
       "    </tr>\n",
       "    <tr>\n",
       "      <th>max</th>\n",
       "      <td>1.000000</td>\n",
       "      <td>1.127151</td>\n",
       "    </tr>\n",
       "  </tbody>\n",
       "</table>\n",
       "</div>"
      ],
      "text/plain": [
       "             inlf    pred_mpl\n",
       "count  753.000000  753.000000\n",
       "mean     0.568393    0.568393\n",
       "std      0.495631    0.254763\n",
       "min      0.000000   -0.345110\n",
       "25%      0.000000    0.401575\n",
       "50%      1.000000    0.587970\n",
       "75%      1.000000    0.759198\n",
       "max      1.000000    1.127151"
      ]
     },
     "execution_count": 8,
     "metadata": {},
     "output_type": "execute_result"
    }
   ],
   "source": [
    "## O que é mais interessante é ver os valores previstos pelo modelo\n",
    "# Pegando os valores previstos e adicionando como coluna\n",
    "data[\"pred_mpl\"] = modelo_mpl.predict()\n",
    "\n",
    "data[[\"inlf\", \"pred_mpl\"]].describe()\n",
    "\n",
    "# Valor mínimo de -0.34 e máximo de 1.12, o que não faz sentido!"
   ]
  },
  {
   "cell_type": "code",
   "execution_count": 9,
   "metadata": {
    "colab": {
     "base_uri": "https://localhost:8080/",
     "height": 577
    },
    "executionInfo": {
     "elapsed": 903,
     "status": "ok",
     "timestamp": 1638631911230,
     "user": {
      "displayName": "Vinicius Nery",
      "photoUrl": "https://lh3.googleusercontent.com/a-/AOh14GgskpJ_NRKHH95grqz01_Kgh6MLO26xbaMREp6wPhE=s64",
      "userId": "12869815464542738621"
     },
     "user_tz": 180
    },
    "id": "teqfaXJuD6Jz",
    "outputId": "6c2bdd17-982a-4f5c-d808-f2216b6e216f"
   },
   "outputs": [
    {
     "data": {
      "text/plain": [
       "<matplotlib.legend.Legend at 0x7fc0fd6a2c50>"
      ]
     },
     "execution_count": 9,
     "metadata": {},
     "output_type": "execute_result"
    },
    {
     "data": {
      "image/png": "[encoded data removed]",
      "text/plain": [
       "<Figure size 600x600 with 1 Axes>"
      ]
     },
     "metadata": {
      "needs_background": "light"
     },
     "output_type": "display_data"
    }
   ],
   "source": [
    "## Plottando\n",
    "# Objeto gráfico\n",
    "fig, ax = plt.subplots(figsize=(6,6), dpi=100)\n",
    "\n",
    "# Valores observados\n",
    "sns.scatterplot(x=\"educ\", y=\"inlf\", data=data, label=\"Observados\")\n",
    "\n",
    "# Previstos\n",
    "sns.scatterplot(x=\"educ\", y=\"pred_mpl\", data=data, label=\"Previstos\")\n",
    "\n",
    "# Linhas horizontais no 0 e no 1\n",
    "plt.hlines(y=0, xmin=5, xmax=18, linestyles=\"--\", color='k', alpha=0.5)\n",
    "plt.hlines(y=1, xmin=5, xmax=18, linestyles=\"--\", color='k', alpha=0.5)\n",
    "\n",
    "# Áreas sombreadas para indicar probabilidades inválidas\n",
    "plt.fill_between(x=np.arange(5, 18, 0.1), y1=1, y2=1.2, color='k', alpha=0.3)\n",
    "plt.fill_between(x=np.arange(5, 18, 0.1), y1=0, y2=-0.4, color='k', alpha=0.3)\n",
    "\n",
    "# Títulos e Eixos\n",
    "plt.title(\"Previsão do MPL\")\n",
    "plt.xlabel(\"Anos de Educação\")\n",
    "plt.ylabel(\"Probabilidade de estar na Força de Trabalho\")\n",
    "\n",
    "# Legenda\n",
    "plt.legend(facecolor=None, frameon=False, loc='lower right')"
   ]
  },
  {
   "cell_type": "markdown",
   "metadata": {
    "id": "1z_tn24TD6Jz"
   },
   "source": [
    "## Probit e Logit"
   ]
  },
  {
   "cell_type": "markdown",
   "metadata": {
    "id": "7E2wKIA9D6J0"
   },
   "source": [
    "Para contornar os problemas do MPL, podemos usar modelos que se baseiam em funções que, por construção, sempre produzem valores entre 0 e 1.\n",
    "\n",
    "Esse é o caso da **função de distribuição normal acumulada** - que dará origem ao modelo *probit* - e da **função logística**, que produzirá o *logit* ou a famosa *Regressão Logística*.\n",
    "\n",
    "Note que as funções usadas não são mais lineares, ou seja, não podemos usar MQO comum para a estimação. Matematicamente, os estimadores usados são os de máxima verossimilhança (MV), que já contém propriedades desejáveis contra heteroscedasticidades e inconsistências/viéses."
   ]
  },
  {
   "cell_type": "markdown",
   "metadata": {
    "id": "i2cVS4bmD6J0"
   },
   "source": [
    "### Comportamento das Funções"
   ]
  },
  {
   "cell_type": "code",
   "execution_count": 11,
   "metadata": {
    "executionInfo": {
     "elapsed": 271,
     "status": "ok",
     "timestamp": 1638631949676,
     "user": {
      "displayName": "Vinicius Nery",
      "photoUrl": "https://lh3.googleusercontent.com/a-/AOh14GgskpJ_NRKHH95grqz01_Kgh6MLO26xbaMREp6wPhE=s64",
      "userId": "12869815464542738621"
     },
     "user_tz": 180
    },
    "id": "4NPFhQgoD6J0"
   },
   "outputs": [],
   "source": [
    "### Vamos simular dados para ver os gráficos das funções usadas\n",
    "## Usando o scipy.stats para gerar a distribuição acumulada de uma função logística\n",
    "## Para compatibilizar com a norrmal, vamos usar o intervalo de -4 a 4\n",
    "# cdf: cumulative distribution function\n",
    "vLogistica = stats.logistic.cdf(np.arange(-4, 4, 0.1))\n",
    "\n",
    "## Usando o mesmo método para gerar a distribuição acumulada da normal\n",
    "vNormal = stats.norm.cdf(np.arange(-4, 4, 0.1))"
   ]
  },
  {
   "cell_type": "code",
   "execution_count": 12,
   "metadata": {
    "colab": {
     "base_uri": "https://localhost:8080/",
     "height": 300
    },
    "executionInfo": {
     "elapsed": 335,
     "status": "ok",
     "timestamp": 1638631951310,
     "user": {
      "displayName": "Vinicius Nery",
      "photoUrl": "https://lh3.googleusercontent.com/a-/AOh14GgskpJ_NRKHH95grqz01_Kgh6MLO26xbaMREp6wPhE=s64",
      "userId": "12869815464542738621"
     },
     "user_tz": 180
    },
    "id": "VoWACUjPD6J1",
    "outputId": "af820ca7-c1be-4212-eb32-402c1e4abd5e"
   },
   "outputs": [
    {
     "data": {
      "text/plain": [
       "Text(0, 0.5, 'Probabilidade')"
      ]
     },
     "execution_count": 12,
     "metadata": {},
     "output_type": "execute_result"
    },
    {
     "data": {
      "image/png": "[encoded data removed]",
      "text/plain": [
       "<Figure size 432x288 with 1 Axes>"
      ]
     },
     "metadata": {
      "needs_background": "light"
     },
     "output_type": "display_data"
    }
   ],
   "source": [
    "## Plottando\n",
    "# Logística\n",
    "plt.plot(vLogistica)\n",
    "\n",
    "# Normal\n",
    "plt.plot(vNormal)\n",
    "\n",
    "# Legenda\n",
    "plt.legend(frameon=False, facecolor=None, labels=[\"Logística\", 'Normal'])\n",
    "\n",
    "# Títulos\n",
    "plt.title(\"Logística vs Normal\")\n",
    "plt.ylabel(\"Probabilidade\")\n",
    "\n",
    "# Logística: mais suave\n",
    "# Normal: mais concentrada nos valores médios/medianos"
   ]
  },
  {
   "cell_type": "markdown",
   "metadata": {
    "id": "jlYei4wlD6J1"
   },
   "source": [
    "### Modelos"
   ]
  },
  {
   "cell_type": "markdown",
   "metadata": {
    "id": "QRykKnWJD6J1"
   },
   "source": [
    "#### Logit"
   ]
  },
  {
   "cell_type": "code",
   "execution_count": 13,
   "metadata": {
    "colab": {
     "base_uri": "https://localhost:8080/"
    },
    "executionInfo": {
     "elapsed": 285,
     "status": "ok",
     "timestamp": 1638631984089,
     "user": {
      "displayName": "Vinicius Nery",
      "photoUrl": "https://lh3.googleusercontent.com/a-/AOh14GgskpJ_NRKHH95grqz01_Kgh6MLO26xbaMREp6wPhE=s64",
      "userId": "12869815464542738621"
     },
     "user_tz": 180
    },
    "id": "USrmagQGD6J2",
    "outputId": "dc8fa9f3-4bb6-417e-9bd4-15cc85793f9e"
   },
   "outputs": [
    {
     "name": "stdout",
     "output_type": "stream",
     "text": [
      "Optimization terminated successfully.\n",
      "         Current function value: 0.533553\n",
      "         Iterations 6\n",
      "                           Logit Regression Results                           \n",
      "==============================================================================\n",
      "Dep. Variable:                   inlf   No. Observations:                  753\n",
      "Model:                          Logit   Df Residuals:                      745\n",
      "Method:                           MLE   Df Model:                            7\n",
      "Date:                Sat, 04 Dec 2021   Pseudo R-squ.:                  0.2197\n",
      "Time:                        15:33:04   Log-Likelihood:                -401.77\n",
      "converged:                       True   LL-Null:                       -514.87\n",
      "Covariance Type:                  HC1   LLR p-value:                 3.159e-45\n",
      "=================================================================================\n",
      "                    coef    std err          t      P>|t|      [0.025      0.975]\n",
      "---------------------------------------------------------------------------------\n",
      "Intercept         0.4255      0.859      0.495      0.621      -1.261       2.112\n",
      "nwifeinc         -0.0213      0.009     -2.353      0.019      -0.039      -0.004\n",
      "educ              0.2212      0.044      4.979      0.000       0.134       0.308\n",
      "exper             0.2059      0.032      6.380      0.000       0.143       0.269\n",
      "I(exper ** 2)    -0.0032      0.001     -3.117      0.002      -0.005      -0.001\n",
      "age              -0.0880      0.014     -6.100      0.000      -0.116      -0.060\n",
      "kidslt6          -1.4434      0.203     -7.109      0.000      -1.842      -1.045\n",
      "kidsge6           0.0601      0.080      0.753      0.452      -0.097       0.217\n",
      "=================================================================================\n"
     ]
    }
   ],
   "source": [
    "## Usaremos a mesma fórmula do MPL\n",
    "## Convenientemente, por usarmos o statsmodels, a sintaxe é igual à de um MQO normal\n",
    "modelo_logit = logit(formula, data).fit(use_t=True, cov_type='HC1')\n",
    "\n",
    "## Printando sumário\n",
    "print(modelo_logit.summary())"
   ]
  },
  {
   "cell_type": "markdown",
   "metadata": {
    "id": "8MK7LWc5D6J2"
   },
   "source": [
    "Note que o sumário é um pouco diferente das regressões comuns, haja vista a não-linearidade e a estimação por máxima-verossimilhança (method=MLE). A grosso modo:\n",
    "\n",
    "- $R^2$ se torna o **Pseudo-R2** e tem interpretação igual a antes (quanto mais próximo de 1, melhor)\n",
    "- Log-Likelihood e LLR p-value são os valores das estatísticas $F$ e $Prob(F)$, que indicam a signficância do modelo. No caso acima, o p-valor é muito baixo e, logo, o modelo é significante."
   ]
  },
  {
   "cell_type": "markdown",
   "metadata": {
    "id": "TcNAv-nsD6J2"
   },
   "source": [
    "Contudo, como o modelo não é linear, os valores dos parâmetros acima não refletem os valores marginais das variáveis (matematicamente, eles não são iguais à derivada parcial em virtude da regra da cadeia). \n",
    "\n",
    "De fato, temos que colocar os coeficientes estimados e os valores das características individuais na função do modelo, o que não é tão fácil de se fazer.\n",
    "\n",
    "Além disso, há diversas formas de se realizar essa tarefa. Seguindo o que recomenda Wooldridge (2011), vamos usar o efeito parcial médio (em inglês, *APE* ou *overall*). Resumidamente, calcula-se o efeito parcial para cada indivíduo da amostra e depois tira-se a média desses efeitos.\n",
    "\n",
    "Mais detalhes podem ser vistos no capítulo 17 de seu livro \"Introdução à Econometria\"."
   ]
  },
  {
   "cell_type": "code",
   "execution_count": 14,
   "metadata": {
    "colab": {
     "base_uri": "https://localhost:8080/"
    },
    "executionInfo": {
     "elapsed": 279,
     "status": "ok",
     "timestamp": 1638632030337,
     "user": {
      "displayName": "Vinicius Nery",
      "photoUrl": "https://lh3.googleusercontent.com/a-/AOh14GgskpJ_NRKHH95grqz01_Kgh6MLO26xbaMREp6wPhE=s64",
      "userId": "12869815464542738621"
     },
     "user_tz": 180
    },
    "id": "wDLAWSMdD6J3",
    "outputId": "2713d614-c263-4727-ff50-0601304d99b3"
   },
   "outputs": [
    {
     "name": "stdout",
     "output_type": "stream",
     "text": [
      "        Logit Marginal Effects       \n",
      "=====================================\n",
      "Dep. Variable:                   inlf\n",
      "Method:                          dydx\n",
      "At:                           overall\n",
      "=================================================================================\n",
      "                   dy/dx    std err          z      P>|z|      [0.025      0.975]\n",
      "---------------------------------------------------------------------------------\n",
      "nwifeinc         -0.0038      0.002     -2.395      0.017      -0.007      -0.001\n",
      "educ              0.0395      0.007      5.275      0.000       0.025       0.054\n",
      "exper             0.0368      0.005      7.055      0.000       0.027       0.047\n",
      "I(exper ** 2)    -0.0006      0.000     -3.190      0.001      -0.001      -0.000\n",
      "age              -0.0157      0.002     -6.592      0.000      -0.020      -0.011\n",
      "kidslt6          -0.2578      0.032     -7.971      0.000      -0.321      -0.194\n",
      "kidsge6           0.0107      0.014      0.754      0.451      -0.017       0.039\n",
      "=================================================================================\n"
     ]
    }
   ],
   "source": [
    "## Captando os efeitos marginais\n",
    "efeitos_marginais_logit = modelo_logit.get_margeff(at='overall')\n",
    "print(efeitos_marginais_logit.summary())"
   ]
  },
  {
   "cell_type": "markdown",
   "metadata": {
    "id": "gODI6f1JD6J3"
   },
   "source": [
    "O modelo logit indica que o efeito parcial médio de um ano a mais de estudo é de cerca de 3,95%, maior que o observado no MPL. O resultado de kidslt6 é similar ao visto no MPL."
   ]
  },
  {
   "cell_type": "code",
   "execution_count": 15,
   "metadata": {
    "colab": {
     "base_uri": "https://localhost:8080/"
    },
    "executionInfo": {
     "elapsed": 495,
     "status": "ok",
     "timestamp": 1638632082776,
     "user": {
      "displayName": "Vinicius Nery",
      "photoUrl": "https://lh3.googleusercontent.com/a-/AOh14GgskpJ_NRKHH95grqz01_Kgh6MLO26xbaMREp6wPhE=s64",
      "userId": "12869815464542738621"
     },
     "user_tz": 180
    },
    "id": "GVOC_XvVD6J3",
    "outputId": "2e1fec34-aa2a-4cdf-ca86-e82ccf2a7b9d"
   },
   "outputs": [
    {
     "name": "stdout",
     "output_type": "stream",
     "text": [
      "        Logit Marginal Effects       \n",
      "=====================================\n",
      "Dep. Variable:                   inlf\n",
      "Method:                          dydx\n",
      "At:                              zero\n",
      "=================================================================================\n",
      "                   dy/dx    std err          z      P>|z|      [0.025      0.975]\n",
      "---------------------------------------------------------------------------------\n",
      "nwifeinc         -0.0051      0.002     -2.097      0.036      -0.010      -0.000\n",
      "educ              0.0529      0.018      2.953      0.003       0.018       0.088\n",
      "exper             0.0492      0.013      3.882      0.000       0.024       0.074\n",
      "I(exper ** 2)    -0.0008      0.000     -2.529      0.011      -0.001      -0.000\n",
      "age              -0.0210      0.003     -8.195      0.000      -0.026      -0.016\n",
      "kidslt6          -0.3450      0.065     -5.342      0.000      -0.472      -0.218\n",
      "kidsge6           0.0144      0.020      0.704      0.482      -0.026       0.054\n",
      "=================================================================================\n"
     ]
    }
   ],
   "source": [
    "## Contudo, podemos também ver os efeitos no zero, ou seja, uma mudança de 0 para 1, o que não era possível no MPL\n",
    "efeitos_marginais_logit0 = modelo_logit.get_margeff(at='zero')\n",
    "print(efeitos_marginais_logit0.summary())\n",
    "\n",
    "# Vemos que os valores de educ aumentam, ou seja, anos adicionais em mulheres com maior escolaridade\n",
    "# afetam menos sua decisão do que entre as mulheres menos educadas\n",
    "\n",
    "# Além disso, o efeito do primeiro filho menor de 6 anos é muito mais pronunciado, em linha com o que esperávamos"
   ]
  },
  {
   "cell_type": "code",
   "execution_count": 16,
   "metadata": {
    "colab": {
     "base_uri": "https://localhost:8080/",
     "height": 300
    },
    "executionInfo": {
     "elapsed": 383,
     "status": "ok",
     "timestamp": 1638632093247,
     "user": {
      "displayName": "Vinicius Nery",
      "photoUrl": "https://lh3.googleusercontent.com/a-/AOh14GgskpJ_NRKHH95grqz01_Kgh6MLO26xbaMREp6wPhE=s64",
      "userId": "12869815464542738621"
     },
     "user_tz": 180
    },
    "id": "iUXaaXyKD6J4",
    "outputId": "1b329a06-6dc8-4792-ecc9-e9a74a6ecb16"
   },
   "outputs": [
    {
     "data": {
      "text/html": [
       "<div>\n",
       "<style scoped>\n",
       "    .dataframe tbody tr th:only-of-type {\n",
       "        vertical-align: middle;\n",
       "    }\n",
       "\n",
       "    .dataframe tbody tr th {\n",
       "        vertical-align: top;\n",
       "    }\n",
       "\n",
       "    .dataframe thead th {\n",
       "        text-align: right;\n",
       "    }\n",
       "</style>\n",
       "<table border=\"1\" class=\"dataframe\">\n",
       "  <thead>\n",
       "    <tr style=\"text-align: right;\">\n",
       "      <th></th>\n",
       "      <th>inlf</th>\n",
       "      <th>pred_logit</th>\n",
       "    </tr>\n",
       "  </thead>\n",
       "  <tbody>\n",
       "    <tr>\n",
       "      <th>count</th>\n",
       "      <td>753.000000</td>\n",
       "      <td>753.000000</td>\n",
       "    </tr>\n",
       "    <tr>\n",
       "      <th>mean</th>\n",
       "      <td>0.568393</td>\n",
       "      <td>0.568393</td>\n",
       "    </tr>\n",
       "    <tr>\n",
       "      <th>std</th>\n",
       "      <td>0.495631</td>\n",
       "      <td>0.258518</td>\n",
       "    </tr>\n",
       "    <tr>\n",
       "      <th>min</th>\n",
       "      <td>0.000000</td>\n",
       "      <td>0.008672</td>\n",
       "    </tr>\n",
       "    <tr>\n",
       "      <th>25%</th>\n",
       "      <td>0.000000</td>\n",
       "      <td>0.366410</td>\n",
       "    </tr>\n",
       "    <tr>\n",
       "      <th>50%</th>\n",
       "      <td>1.000000</td>\n",
       "      <td>0.610925</td>\n",
       "    </tr>\n",
       "    <tr>\n",
       "      <th>75%</th>\n",
       "      <td>1.000000</td>\n",
       "      <td>0.796720</td>\n",
       "    </tr>\n",
       "    <tr>\n",
       "      <th>max</th>\n",
       "      <td>1.000000</td>\n",
       "      <td>0.968541</td>\n",
       "    </tr>\n",
       "  </tbody>\n",
       "</table>\n",
       "</div>"
      ],
      "text/plain": [
       "             inlf  pred_logit\n",
       "count  753.000000  753.000000\n",
       "mean     0.568393    0.568393\n",
       "std      0.495631    0.258518\n",
       "min      0.000000    0.008672\n",
       "25%      0.000000    0.366410\n",
       "50%      1.000000    0.610925\n",
       "75%      1.000000    0.796720\n",
       "max      1.000000    0.968541"
      ]
     },
     "execution_count": 16,
     "metadata": {},
     "output_type": "execute_result"
    }
   ],
   "source": [
    "## Por fim, grafando os resultados\n",
    "# Pegando os valores previstos e adicionando como coluna\n",
    "data[\"pred_logit\"] = modelo_logit.predict()\n",
    "\n",
    "data[[\"inlf\", \"pred_logit\"]].describe()\n",
    "\n",
    "# Nenhum valor menor que 0 ou maior que 1!"
   ]
  },
  {
   "cell_type": "code",
   "execution_count": 17,
   "metadata": {
    "colab": {
     "base_uri": "https://localhost:8080/",
     "height": 577
    },
    "executionInfo": {
     "elapsed": 988,
     "status": "ok",
     "timestamp": 1638632101052,
     "user": {
      "displayName": "Vinicius Nery",
      "photoUrl": "https://lh3.googleusercontent.com/a-/AOh14GgskpJ_NRKHH95grqz01_Kgh6MLO26xbaMREp6wPhE=s64",
      "userId": "12869815464542738621"
     },
     "user_tz": 180
    },
    "id": "jmBys3BAD6J4",
    "outputId": "0255c228-a16a-4817-a6af-ff2c9de4fac2"
   },
   "outputs": [
    {
     "data": {
      "text/plain": [
       "<matplotlib.legend.Legend at 0x7fc0e304b450>"
      ]
     },
     "execution_count": 17,
     "metadata": {},
     "output_type": "execute_result"
    },
    {
     "data": {
      "image/png": "[encoded data removed]",
      "text/plain": [
       "<Figure size 600x600 with 1 Axes>"
      ]
     },
     "metadata": {
      "needs_background": "light"
     },
     "output_type": "display_data"
    }
   ],
   "source": [
    "## Plottando\n",
    "# Objeto gráfico\n",
    "fig, ax = plt.subplots(figsize=(6,6), dpi=100)\n",
    "\n",
    "# Valores observados\n",
    "sns.scatterplot(x=\"educ\", y=\"inlf\", data=data, label=\"Observados\")\n",
    "\n",
    "# Previstos\n",
    "sns.scatterplot(x=\"educ\", y=\"pred_logit\", data=data, label=\"Previstos Logit\")\n",
    "\n",
    "# Linhas horizontais no 0 e no 1\n",
    "plt.hlines(y=0, xmin=5, xmax=18, linestyles=\"--\", color='k', alpha=0.5)\n",
    "plt.hlines(y=1, xmin=5, xmax=18, linestyles=\"--\", color='k', alpha=0.5)\n",
    "\n",
    "# Áreas sombreadas para indicar probabilidades inválidas\n",
    "plt.fill_between(x=np.arange(5, 18, 0.1), y1=1, y2=1.2, color='k', alpha=0.3)\n",
    "plt.fill_between(x=np.arange(5, 18, 0.1), y1=0, y2=-0.4, color='k', alpha=0.3)\n",
    "\n",
    "# Títulos e Eixos\n",
    "plt.title(\"Previsão do Logit\")\n",
    "plt.xlabel(\"Anos de Educação\")\n",
    "plt.ylabel(\"Probabilidade de estar na Força de Trabalho\")\n",
    "\n",
    "# Legenda\n",
    "plt.legend(facecolor=None, frameon=False, loc='lower right')"
   ]
  },
  {
   "cell_type": "markdown",
   "metadata": {
    "id": "KNSr5E3TD6J5"
   },
   "source": [
    "#### Probit"
   ]
  },
  {
   "cell_type": "code",
   "execution_count": 18,
   "metadata": {
    "colab": {
     "base_uri": "https://localhost:8080/"
    },
    "executionInfo": {
     "elapsed": 317,
     "status": "ok",
     "timestamp": 1638632108848,
     "user": {
      "displayName": "Vinicius Nery",
      "photoUrl": "https://lh3.googleusercontent.com/a-/AOh14GgskpJ_NRKHH95grqz01_Kgh6MLO26xbaMREp6wPhE=s64",
      "userId": "12869815464542738621"
     },
     "user_tz": 180
    },
    "id": "Mjk-TrPHD6J5",
    "outputId": "583a4bf1-aa2e-4962-9bbe-948e0d49afee"
   },
   "outputs": [
    {
     "name": "stdout",
     "output_type": "stream",
     "text": [
      "Optimization terminated successfully.\n",
      "         Current function value: 0.532938\n",
      "         Iterations 5\n",
      "                          Probit Regression Results                           \n",
      "==============================================================================\n",
      "Dep. Variable:                   inlf   No. Observations:                  753\n",
      "Model:                         Probit   Df Residuals:                      745\n",
      "Method:                           MLE   Df Model:                            7\n",
      "Date:                Sat, 04 Dec 2021   Pseudo R-squ.:                  0.2206\n",
      "Time:                        15:35:08   Log-Likelihood:                -401.30\n",
      "converged:                       True   LL-Null:                       -514.87\n",
      "Covariance Type:                  HC1   LLR p-value:                 2.009e-45\n",
      "=================================================================================\n",
      "                    coef    std err          t      P>|t|      [0.025      0.975]\n",
      "---------------------------------------------------------------------------------\n",
      "Intercept         0.2701      0.505      0.535      0.593      -0.721       1.261\n",
      "nwifeinc         -0.0120      0.005     -2.266      0.024      -0.022      -0.002\n",
      "educ              0.1309      0.026      5.073      0.000       0.080       0.182\n",
      "exper             0.1233      0.019      6.547      0.000       0.086       0.160\n",
      "I(exper ** 2)    -0.0019      0.001     -3.143      0.002      -0.003      -0.001\n",
      "age              -0.0529      0.008     -6.331      0.000      -0.069      -0.036\n",
      "kidslt6          -0.8683      0.116     -7.477      0.000      -1.096      -0.640\n",
      "kidsge6           0.0360      0.045      0.795      0.427      -0.053       0.125\n",
      "=================================================================================\n"
     ]
    }
   ],
   "source": [
    "## Seguiremos o mesmo procedimento acima a fim de comparar as estimativas\n",
    "modelo_probit = probit(formula, data).fit(use_t=True, cov_type='HC1')\n",
    "\n",
    "## Printando sumário\n",
    "print(modelo_probit.summary())\n",
    "\n",
    "# O pseudo R2 do probit é ligeiramente maior (+ 0.0009), mas nada muito grande\n",
    "# Ambos os modelos são significativos (vide LLR p-value)"
   ]
  },
  {
   "cell_type": "code",
   "execution_count": 19,
   "metadata": {
    "colab": {
     "base_uri": "https://localhost:8080/"
    },
    "executionInfo": {
     "elapsed": 2144,
     "status": "ok",
     "timestamp": 1638632154204,
     "user": {
      "displayName": "Vinicius Nery",
      "photoUrl": "https://lh3.googleusercontent.com/a-/AOh14GgskpJ_NRKHH95grqz01_Kgh6MLO26xbaMREp6wPhE=s64",
      "userId": "12869815464542738621"
     },
     "user_tz": 180
    },
    "id": "2Z09lUX8D6J6",
    "outputId": "40f737b6-d0ed-4e4c-f8b1-b433796eb3a9"
   },
   "outputs": [
    {
     "name": "stdout",
     "output_type": "stream",
     "text": [
      "Probit:\n",
      "       Probit Marginal Effects       \n",
      "=====================================\n",
      "Dep. Variable:                   inlf\n",
      "Method:                          dydx\n",
      "At:                           overall\n",
      "=================================================================================\n",
      "                   dy/dx    std err          z      P>|z|      [0.025      0.975]\n",
      "---------------------------------------------------------------------------------\n",
      "nwifeinc         -0.0036      0.002     -2.296      0.022      -0.007      -0.001\n",
      "educ              0.0394      0.007      5.323      0.000       0.025       0.054\n",
      "exper             0.0371      0.005      7.115      0.000       0.027       0.047\n",
      "I(exper ** 2)    -0.0006      0.000     -3.200      0.001      -0.001      -0.000\n",
      "age              -0.0159      0.002     -6.779      0.000      -0.020      -0.011\n",
      "kidslt6          -0.2612      0.032     -8.252      0.000      -0.323      -0.199\n",
      "kidsge6           0.0108      0.014      0.797      0.426      -0.016       0.037\n",
      "=================================================================================\n",
      "Logit:\n",
      "        Logit Marginal Effects       \n",
      "=====================================\n",
      "Dep. Variable:                   inlf\n",
      "Method:                          dydx\n",
      "At:                           overall\n",
      "=================================================================================\n",
      "                   dy/dx    std err          z      P>|z|      [0.025      0.975]\n",
      "---------------------------------------------------------------------------------\n",
      "nwifeinc         -0.0038      0.002     -2.395      0.017      -0.007      -0.001\n",
      "educ              0.0395      0.007      5.275      0.000       0.025       0.054\n",
      "exper             0.0368      0.005      7.055      0.000       0.027       0.047\n",
      "I(exper ** 2)    -0.0006      0.000     -3.190      0.001      -0.001      -0.000\n",
      "age              -0.0157      0.002     -6.592      0.000      -0.020      -0.011\n",
      "kidslt6          -0.2578      0.032     -7.971      0.000      -0.321      -0.194\n",
      "kidsge6           0.0107      0.014      0.754      0.451      -0.017       0.039\n",
      "=================================================================================\n"
     ]
    }
   ],
   "source": [
    "## Captando os efeitos marginais\n",
    "efeitos_marginais_probit = modelo_probit.get_margeff(at='overall')\n",
    "print(\"Probit:\")\n",
    "print(efeitos_marginais_probit.summary())\n",
    "\n",
    "print(\"Logit:\")\n",
    "print(efeitos_marginais_logit.summary())\n",
    "\n",
    "# Educ iguais, mas probit preve um efeito maior para a queda na participação em virtude de filhos pequenos"
   ]
  },
  {
   "cell_type": "code",
   "execution_count": null,
   "metadata": {
    "id": "Gj1bu5p1D6J7",
    "outputId": "ffc60d7e-938b-4964-89b4-6f0b75b5bd70"
   },
   "outputs": [
    {
     "name": "stdout",
     "output_type": "stream",
     "text": [
      "Probit:\n",
      "       Probit Marginal Effects       \n",
      "=====================================\n",
      "Dep. Variable:                   inlf\n",
      "Method:                          dydx\n",
      "At:                              zero\n",
      "=================================================================================\n",
      "                   dy/dx    std err          z      P>|z|      [0.025      0.975]\n",
      "---------------------------------------------------------------------------------\n",
      "nwifeinc         -0.0046      0.002     -2.102      0.036      -0.009      -0.000\n",
      "educ              0.0504      0.015      3.343      0.001       0.021       0.080\n",
      "exper             0.0474      0.011      4.503      0.000       0.027       0.068\n",
      "I(exper ** 2)    -0.0007      0.000     -2.701      0.007      -0.001      -0.000\n",
      "age              -0.0203      0.002     -9.707      0.000      -0.024      -0.016\n",
      "kidslt6          -0.3340      0.052     -6.398      0.000      -0.436      -0.232\n",
      "kidsge6           0.0138      0.018      0.755      0.450      -0.022       0.050\n",
      "=================================================================================\n",
      "Logit:\n",
      "        Logit Marginal Effects       \n",
      "=====================================\n",
      "Dep. Variable:                   inlf\n",
      "Method:                          dydx\n",
      "At:                              zero\n",
      "=================================================================================\n",
      "                   dy/dx    std err          z      P>|z|      [0.025      0.975]\n",
      "---------------------------------------------------------------------------------\n",
      "nwifeinc         -0.0051      0.002     -2.097      0.036      -0.010      -0.000\n",
      "educ              0.0529      0.018      2.953      0.003       0.018       0.088\n",
      "exper             0.0492      0.013      3.882      0.000       0.024       0.074\n",
      "I(exper ** 2)    -0.0008      0.000     -2.529      0.011      -0.001      -0.000\n",
      "age              -0.0210      0.003     -8.195      0.000      -0.026      -0.016\n",
      "kidslt6          -0.3450      0.065     -5.342      0.000      -0.472      -0.218\n",
      "kidsge6           0.0144      0.020      0.704      0.482      -0.026       0.054\n",
      "=================================================================================\n"
     ]
    }
   ],
   "source": [
    "## Captando os efeitos marginais no 0\n",
    "efeitos_marginais_probit0 = modelo_probit.get_margeff(at='zero')\n",
    "print(\"Probit:\")\n",
    "print(efeitos_marginais_probit0.summary())\n",
    "\n",
    "print(\"Logit:\")\n",
    "print(efeitos_marginais_logit0.summary())\n",
    "\n",
    "# Logit capta um efeito positivo da educação maior\n",
    "# Diferentemente do observado nas médias, o efeito de kidslt6 no logit é 1 p.p. maior (em módulo) que o do probit"
   ]
  },
  {
   "cell_type": "code",
   "execution_count": 20,
   "metadata": {
    "colab": {
     "base_uri": "https://localhost:8080/",
     "height": 300
    },
    "executionInfo": {
     "elapsed": 302,
     "status": "ok",
     "timestamp": 1638632168452,
     "user": {
      "displayName": "Vinicius Nery",
      "photoUrl": "https://lh3.googleusercontent.com/a-/AOh14GgskpJ_NRKHH95grqz01_Kgh6MLO26xbaMREp6wPhE=s64",
      "userId": "12869815464542738621"
     },
     "user_tz": 180
    },
    "id": "9yejuAJJD6J7",
    "outputId": "a3e7d223-fa68-479a-f02b-b657b49249f0"
   },
   "outputs": [
    {
     "data": {
      "text/html": [
       "<div>\n",
       "<style scoped>\n",
       "    .dataframe tbody tr th:only-of-type {\n",
       "        vertical-align: middle;\n",
       "    }\n",
       "\n",
       "    .dataframe tbody tr th {\n",
       "        vertical-align: top;\n",
       "    }\n",
       "\n",
       "    .dataframe thead th {\n",
       "        text-align: right;\n",
       "    }\n",
       "</style>\n",
       "<table border=\"1\" class=\"dataframe\">\n",
       "  <thead>\n",
       "    <tr style=\"text-align: right;\">\n",
       "      <th></th>\n",
       "      <th>inlf</th>\n",
       "      <th>pred_logit</th>\n",
       "      <th>pred_probit</th>\n",
       "    </tr>\n",
       "  </thead>\n",
       "  <tbody>\n",
       "    <tr>\n",
       "      <th>count</th>\n",
       "      <td>753.000000</td>\n",
       "      <td>753.000000</td>\n",
       "      <td>753.000000</td>\n",
       "    </tr>\n",
       "    <tr>\n",
       "      <th>mean</th>\n",
       "      <td>0.568393</td>\n",
       "      <td>0.568393</td>\n",
       "      <td>0.570109</td>\n",
       "    </tr>\n",
       "    <tr>\n",
       "      <th>std</th>\n",
       "      <td>0.495631</td>\n",
       "      <td>0.258518</td>\n",
       "      <td>0.258361</td>\n",
       "    </tr>\n",
       "    <tr>\n",
       "      <th>min</th>\n",
       "      <td>0.000000</td>\n",
       "      <td>0.008672</td>\n",
       "      <td>0.002475</td>\n",
       "    </tr>\n",
       "    <tr>\n",
       "      <th>25%</th>\n",
       "      <td>0.000000</td>\n",
       "      <td>0.366410</td>\n",
       "      <td>0.370959</td>\n",
       "    </tr>\n",
       "    <tr>\n",
       "      <th>50%</th>\n",
       "      <td>1.000000</td>\n",
       "      <td>0.610925</td>\n",
       "      <td>0.609547</td>\n",
       "    </tr>\n",
       "    <tr>\n",
       "      <th>75%</th>\n",
       "      <td>1.000000</td>\n",
       "      <td>0.796720</td>\n",
       "      <td>0.794346</td>\n",
       "    </tr>\n",
       "    <tr>\n",
       "      <th>max</th>\n",
       "      <td>1.000000</td>\n",
       "      <td>0.968541</td>\n",
       "      <td>0.979904</td>\n",
       "    </tr>\n",
       "  </tbody>\n",
       "</table>\n",
       "</div>"
      ],
      "text/plain": [
       "             inlf  pred_logit  pred_probit\n",
       "count  753.000000  753.000000   753.000000\n",
       "mean     0.568393    0.568393     0.570109\n",
       "std      0.495631    0.258518     0.258361\n",
       "min      0.000000    0.008672     0.002475\n",
       "25%      0.000000    0.366410     0.370959\n",
       "50%      1.000000    0.610925     0.609547\n",
       "75%      1.000000    0.796720     0.794346\n",
       "max      1.000000    0.968541     0.979904"
      ]
     },
     "execution_count": 20,
     "metadata": {},
     "output_type": "execute_result"
    }
   ],
   "source": [
    "## Por fim, grafando os resultados\n",
    "# Pegando os valores previstos e adicionando como coluna\n",
    "data[\"pred_probit\"] = modelo_probit.predict()\n",
    "\n",
    "data[[\"inlf\", \"pred_logit\", \"pred_probit\"]].describe()"
   ]
  },
  {
   "cell_type": "code",
   "execution_count": 21,
   "metadata": {
    "colab": {
     "base_uri": "https://localhost:8080/",
     "height": 577
    },
    "executionInfo": {
     "elapsed": 1052,
     "status": "ok",
     "timestamp": 1638632171368,
     "user": {
      "displayName": "Vinicius Nery",
      "photoUrl": "https://lh3.googleusercontent.com/a-/AOh14GgskpJ_NRKHH95grqz01_Kgh6MLO26xbaMREp6wPhE=s64",
      "userId": "12869815464542738621"
     },
     "user_tz": 180
    },
    "id": "cr6-aaeSD6J8",
    "outputId": "1c1554d0-8d2d-4bb2-b048-e15318c087d8"
   },
   "outputs": [
    {
     "data": {
      "text/plain": [
       "<matplotlib.legend.Legend at 0x7fc0e2ef4590>"
      ]
     },
     "execution_count": 21,
     "metadata": {},
     "output_type": "execute_result"
    },
    {
     "data": {
      "image/png": "[encoded data removed]",
      "text/plain": [
       "<Figure size 600x600 with 1 Axes>"
      ]
     },
     "metadata": {
      "needs_background": "light"
     },
     "output_type": "display_data"
    }
   ],
   "source": [
    "## Plottando\n",
    "# Objeto gráfico\n",
    "fig, ax = plt.subplots(figsize=(6,6), dpi=100)\n",
    "\n",
    "# Valores observados\n",
    "sns.scatterplot(x=\"educ\", y=\"inlf\", data=data, label=\"Observados\")\n",
    "\n",
    "# Previstos\n",
    "sns.scatterplot(x=\"educ\", y=\"pred_probit\", data=data, label=\"Previstos Logit\")\n",
    "\n",
    "# Linhas horizontais no 0 e no 1\n",
    "plt.hlines(y=0, xmin=5, xmax=18, linestyles=\"--\", color='k', alpha=0.5)\n",
    "plt.hlines(y=1, xmin=5, xmax=18, linestyles=\"--\", color='k', alpha=0.5)\n",
    "\n",
    "# Áreas sombreadas para indicar probabilidades inválidas\n",
    "plt.fill_between(x=np.arange(5, 18, 0.1), y1=1, y2=1.2, color='k', alpha=0.3)\n",
    "plt.fill_between(x=np.arange(5, 18, 0.1), y1=0, y2=-0.4, color='k', alpha=0.3)\n",
    "\n",
    "# Títulos e Eixos\n",
    "plt.title(\"Previsão do Probit\")\n",
    "plt.xlabel(\"Anos de Educação\")\n",
    "plt.ylabel(\"Probabilidade de estar na Força de Trabalho\")\n",
    "\n",
    "# Legenda\n",
    "plt.legend(facecolor=None, frameon=False, loc='lower right')"
   ]
  },
  {
   "cell_type": "markdown",
   "metadata": {
    "id": "DWKP2OEMt1Eu"
   },
   "source": [
    "# Obrigado!"
   ]
  }
 ],
 "metadata": {
  "colab": {
   "collapsed_sections": [],
   "name": "Aula_2021_12_16_ModelosBinarios.ipynb",
   "provenance": []
  },
  "kernelspec": {
   "display_name": "Python 3",
   "name": "python3"
  },
  "language_info": {
   "codemirror_mode": {
    "name": "ipython",
    "version": 3
   },
   "file_extension": ".py",
   "mimetype": "text/x-python",
   "name": "python",
   "nbconvert_exporter": "python",
   "pygments_lexer": "ipython3",
   "version": "3.8.10"
  }
 },
 "nbformat": 4,
 "nbformat_minor": 0
}