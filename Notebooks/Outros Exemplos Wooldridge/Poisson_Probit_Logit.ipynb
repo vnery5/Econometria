{
 "metadata": {
  "language_info": {
   "codemirror_mode": {
    "name": "ipython",
    "version": 3
   },
   "file_extension": ".py",
   "mimetype": "text/x-python",
   "name": "python",
   "nbconvert_exporter": "python",
   "pygments_lexer": "ipython3",
   "version": "3.7.7"
  },
  "orig_nbformat": 2,
  "kernelspec": {
   "name": "python377jvsc74a57bd08b633cbbc14e145906599cefe47c3dba10dc0e2c3bc4a9e7fbbaa016a7f81938",
   "display_name": "Python 3.7.7 64-bit ('myenv': conda)"
  }
 },
 "nbformat": 4,
 "nbformat_minor": 2,
 "cells": [
  {
   "cell_type": "code",
   "execution_count": 1,
   "source": [
    "## importando as funcoes\n",
    "from econometric_functions import *\n",
    "import wooldridge"
   ],
   "outputs": [],
   "metadata": {}
  },
  {
   "cell_type": "markdown",
   "source": [
    "## C10"
   ],
   "metadata": {}
  },
  {
   "cell_type": "code",
   "execution_count": 4,
   "source": [
    "## coletando os dados\n",
    "df = wooldridge.dataWoo('smoke')\n",
    "df"
   ],
   "outputs": [
    {
     "data": {
      "text/plain": "     educ    cigpric  white  age  income  cigs  restaurn    lincome  agesq  \\\n0    16.0  60.506001      1   46   20000     0         0   9.903487   2116   \n1    16.0  57.882999      1   40   30000     0         0  10.308952   1600   \n2    12.0  57.664001      1   58   30000     3         0  10.308952   3364   \n3    13.5  57.882999      1   30   20000     0         0   9.903487    900   \n4    10.0  58.320000      1   17   20000     0         0   9.903487    289   \n..    ...        ...    ...  ...     ...   ...       ...        ...    ...   \n802  18.0  61.818001      0   52   30000    20         0  10.308952   2704   \n803  18.0  61.675999      1   31   12500     0         0   9.433484    961   \n804  16.0  60.707001      1   30   20000     0         0   9.903487    900   \n805  10.0  59.987999      1   18   20000     0         0   9.903487    324   \n806  10.0  59.652000      1   47   30000    20         0  10.308952   2209   \n\n     lcigpric  \n0    4.102743  \n1    4.058424  \n2    4.054633  \n3    4.058424  \n4    4.065945  \n..        ...  \n802  4.124195  \n803  4.121895  \n804  4.106059  \n805  4.094144  \n806  4.088528  \n\n[807 rows x 10 columns]",
      "text/html": "<div>\n<style scoped>\n    .dataframe tbody tr th:only-of-type {\n        vertical-align: middle;\n    }\n\n    .dataframe tbody tr th {\n        vertical-align: top;\n    }\n\n    .dataframe thead th {\n        text-align: right;\n    }\n</style>\n<table border=\"1\" class=\"dataframe\">\n  <thead>\n    <tr style=\"text-align: right;\">\n      <th></th>\n      <th>educ</th>\n      <th>cigpric</th>\n      <th>white</th>\n      <th>age</th>\n      <th>income</th>\n      <th>cigs</th>\n      <th>restaurn</th>\n      <th>lincome</th>\n      <th>agesq</th>\n      <th>lcigpric</th>\n    </tr>\n  </thead>\n  <tbody>\n    <tr>\n      <th>0</th>\n      <td>16.0</td>\n      <td>60.506001</td>\n      <td>1</td>\n      <td>46</td>\n      <td>20000</td>\n      <td>0</td>\n      <td>0</td>\n      <td>9.903487</td>\n      <td>2116</td>\n      <td>4.102743</td>\n    </tr>\n    <tr>\n      <th>1</th>\n      <td>16.0</td>\n      <td>57.882999</td>\n      <td>1</td>\n      <td>40</td>\n      <td>30000</td>\n      <td>0</td>\n      <td>0</td>\n      <td>10.308952</td>\n      <td>1600</td>\n      <td>4.058424</td>\n    </tr>\n    <tr>\n      <th>2</th>\n      <td>12.0</td>\n      <td>57.664001</td>\n      <td>1</td>\n      <td>58</td>\n      <td>30000</td>\n      <td>3</td>\n      <td>0</td>\n      <td>10.308952</td>\n      <td>3364</td>\n      <td>4.054633</td>\n    </tr>\n    <tr>\n      <th>3</th>\n      <td>13.5</td>\n      <td>57.882999</td>\n      <td>1</td>\n      <td>30</td>\n      <td>20000</td>\n      <td>0</td>\n      <td>0</td>\n      <td>9.903487</td>\n      <td>900</td>\n      <td>4.058424</td>\n    </tr>\n    <tr>\n      <th>4</th>\n      <td>10.0</td>\n      <td>58.320000</td>\n      <td>1</td>\n      <td>17</td>\n      <td>20000</td>\n      <td>0</td>\n      <td>0</td>\n      <td>9.903487</td>\n      <td>289</td>\n      <td>4.065945</td>\n    </tr>\n    <tr>\n      <th>...</th>\n      <td>...</td>\n      <td>...</td>\n      <td>...</td>\n      <td>...</td>\n      <td>...</td>\n      <td>...</td>\n      <td>...</td>\n      <td>...</td>\n      <td>...</td>\n      <td>...</td>\n    </tr>\n    <tr>\n      <th>802</th>\n      <td>18.0</td>\n      <td>61.818001</td>\n      <td>0</td>\n      <td>52</td>\n      <td>30000</td>\n      <td>20</td>\n      <td>0</td>\n      <td>10.308952</td>\n      <td>2704</td>\n      <td>4.124195</td>\n    </tr>\n    <tr>\n      <th>803</th>\n      <td>18.0</td>\n      <td>61.675999</td>\n      <td>1</td>\n      <td>31</td>\n      <td>12500</td>\n      <td>0</td>\n      <td>0</td>\n      <td>9.433484</td>\n      <td>961</td>\n      <td>4.121895</td>\n    </tr>\n    <tr>\n      <th>804</th>\n      <td>16.0</td>\n      <td>60.707001</td>\n      <td>1</td>\n      <td>30</td>\n      <td>20000</td>\n      <td>0</td>\n      <td>0</td>\n      <td>9.903487</td>\n      <td>900</td>\n      <td>4.106059</td>\n    </tr>\n    <tr>\n      <th>805</th>\n      <td>10.0</td>\n      <td>59.987999</td>\n      <td>1</td>\n      <td>18</td>\n      <td>20000</td>\n      <td>0</td>\n      <td>0</td>\n      <td>9.903487</td>\n      <td>324</td>\n      <td>4.094144</td>\n    </tr>\n    <tr>\n      <th>806</th>\n      <td>10.0</td>\n      <td>59.652000</td>\n      <td>1</td>\n      <td>47</td>\n      <td>30000</td>\n      <td>20</td>\n      <td>0</td>\n      <td>10.308952</td>\n      <td>2209</td>\n      <td>4.088528</td>\n    </tr>\n  </tbody>\n</table>\n<p>807 rows × 10 columns</p>\n</div>"
     },
     "execution_count": 4,
     "metadata": {},
     "output_type": "execute_result"
    }
   ],
   "metadata": {}
  },
  {
   "cell_type": "code",
   "execution_count": 5,
   "source": [
    "#a) vendo quantas pessoas na amostra fugam x cigarros por dia\n",
    "print(df['cigs'].value_counts())\n",
    "\n",
    "# i) 497 pessoas dizem não fumar nenhum cigarro (61,5%), enquanto 101 (12,5%) reportam fumar 20 cigarros por dia. Esse grande número de pessoas pode se dar em virtude de 20 ser a quantidade de cigarros em uma caixa típica.\n",
    "\n",
    "# ii) Dado o ponto de acumulação em cigs = 20, a distribuição Poisson pode não ser a mais apropriada, já que ela é determinada inteiramente por uma taxa de frequência e é uniforme."
   ],
   "outputs": [
    {
     "name": "stdout",
     "output_type": "stream",
     "text": [
      "0     497\n",
      "20    101\n",
      "30     42\n",
      "40     37\n",
      "10     28\n",
      "15     23\n",
      "60      8\n",
      "5       7\n",
      "1       7\n",
      "25      7\n",
      "50      6\n",
      "2       5\n",
      "3       5\n",
      "12      4\n",
      "18      3\n",
      "6       3\n",
      "28      3\n",
      "8       3\n",
      "9       2\n",
      "7       2\n",
      "13      2\n",
      "4       2\n",
      "35      2\n",
      "11      2\n",
      "16      1\n",
      "14      1\n",
      "19      1\n",
      "33      1\n",
      "80      1\n",
      "55      1\n",
      "Name: cigs, dtype: int64\n"
     ]
    }
   ],
   "metadata": {}
  },
  {
   "cell_type": "code",
   "execution_count": 6,
   "source": [
    "## estimando um modelo poisson\n",
    "formula = 'cigs ~ lcigpric + lincome + white + educ + age + agesq'\n",
    "mod = poisson_reg(formula = formula, data = df)\n",
    "\n",
    "# iii) A elasticidade-preço é -0,35 (o que faz sentido, já que é um bem viciante e inelástico) e a elasticidade-renda é 0,08.\n",
    "# iv) Usando os erros-padrão normais, ambas as elasticidade são significantes ao nível de 5%, mas a elasticidade-preço não o é ao nível de 1%.\n",
    "# v) σ é 4,54; como esperado, a distribuição não tem a propriedade de média = variância por não ser uma Poisson. Os erros-padrão precisam ser multiplicados por 4,54."
   ],
   "outputs": [
    {
     "name": "stdout",
     "output_type": "stream",
     "text": [
      "                          Poisson Regression Results                          \n",
      "==============================================================================\n",
      "Dep. Variable:                   cigs   No. Observations:                  807\n",
      "Model:                        Poisson   Df Residuals:                      800\n",
      "Method:                           MLE   Df Model:                            6\n",
      "Date:                Sat, 26 Feb 2022   Pseudo R-squ.:                 0.05342\n",
      "Time:                        12:31:27   Log-Likelihood:                -8184.0\n",
      "converged:                       True   LL-Null:                       -8645.9\n",
      "Covariance Type:            nonrobust   LLR p-value:                2.853e-196\n",
      "==============================================================================\n",
      "                 coef    std err          t      P>|t|      [0.025      0.975]\n",
      "------------------------------------------------------------------------------\n",
      "Intercept      1.4628      0.615      2.380      0.018       0.257       2.669\n",
      "lcigpric      -0.3553      0.144     -2.468      0.014      -0.638      -0.073\n",
      "lincome        0.0846      0.020      4.209      0.000       0.045       0.124\n",
      "white         -0.0019      0.037     -0.051      0.959      -0.075       0.071\n",
      "educ          -0.0601      0.004    -14.209      0.000      -0.068      -0.052\n",
      "age            0.1152      0.005     23.220      0.000       0.105       0.125\n",
      "agesq         -0.0014   5.69e-05    -24.247      0.000      -0.001      -0.001\n",
      "==============================================================================\n",
      "The coefficient to determine over/underdispersion is σ = 4.54, which must be close to one for standard errors to be valid. If not, they must be multiplied by 4.54.\n",
      "##############################################################################\n",
      "       Poisson Marginal Effects      \n",
      "=====================================\n",
      "Dep. Variable:                   cigs\n",
      "Method:                          dydx\n",
      "At:                           overall\n",
      "==============================================================================\n",
      "                dy/dx    std err          z      P>|z|      [0.025      0.975]\n",
      "------------------------------------------------------------------------------\n",
      "lcigpric      -3.0859      1.251     -2.467      0.014      -5.538      -0.634\n",
      "lincome        0.7352      0.175      4.204      0.000       0.392       1.078\n",
      "white         -0.0165      0.323     -0.051      0.959      -0.650       0.617\n",
      "educ          -0.5220      0.037    -14.008      0.000      -0.595      -0.449\n",
      "age            1.0007      0.045     22.375      0.000       0.913       1.088\n",
      "agesq         -0.0120      0.001    -23.290      0.000      -0.013      -0.011\n",
      "==============================================================================\n",
      "\n",
      "Marginal effects on certain values can be found using 'mod.get_margeff(atexog = values).summary()', where values must be generated using:\n",
      "values = dict(zip(range(1,n), values.tolist())).update({0:1})\n",
      "\n",
      "Usually, the wanted effect of the poisson coefficients is it's semi-elasticity, which is 100*[exp(ß) - 1].\n",
      "To predict values using the CDF, use mod.predict(X). X can be blank (use values from the dataset\n",
      "or a K x N Dimensional array, where K = number of variables and N = number of observations.\n"
     ]
    }
   ],
   "metadata": {}
  },
  {
   "cell_type": "code",
   "execution_count": 5,
   "source": [
    "## calculando os novos erros-padrão e estatisticas t\n",
    "t = mod.params/(mod.bse*4.54)\n",
    "print(\"Estatísticas t:\")\n",
    "print(t)\n",
    "\n",
    "# vi) as estatísticas t das elasticidades caem para menos de 1, tornando-as insignificantes até ao nível de 10%\n",
    "# vii) educ e idade continuam bem significantes, com estatísticas t superiores a 3 e 5, respectivamente. O coeficiente de educ indica que um aumento de um ano na educação reduz o número de cigarros em aproximadamente 6%."
   ],
   "outputs": [
    {
     "output_type": "stream",
     "name": "stdout",
     "text": [
      "Estatísticas t:\n",
      "Intercept    0.524332\n",
      "lcigpric    -0.543628\n",
      "lincome      0.927131\n",
      "white       -0.011253\n",
      "educ        -3.129646\n",
      "age          5.114548\n",
      "agesq       -5.340671\n",
      "dtype: float64\n"
     ]
    }
   ],
   "metadata": {}
  },
  {
   "cell_type": "code",
   "execution_count": 6,
   "source": [
    "## vendo os valores máximos e mínimos previstos\n",
    "yhat = mod.predict()\n",
    "print(f\"O máximo é {max(yhat)} e o mínimo é {min(yhat)}\")\n",
    "# viii) O valor máximo previsto pelo modelo é 18,83, não prevendo nenhum valor de 20 cigarros por dia, muito visto na amostra. O mínimo é cerca de meio cigarro por dia (0,51), ou seja, todos da amostra fumariam ao menos um cigarro, algo que é bem longe da verdade nas observações"
   ],
   "outputs": [
    {
     "output_type": "stream",
     "name": "stdout",
     "text": [
      "O máximo é 18.83566820399585 e o mínimo é 0.5150123221210979\n"
     ]
    }
   ],
   "metadata": {}
  },
  {
   "cell_type": "code",
   "execution_count": 7,
   "source": [
    "## plotando as distribuicoes\n",
    "sns.set_style(style=\"white\")\n",
    "fig, ax = plt.subplots(figsize = (6,4))\n",
    "\n",
    "# plottanndo as curvas\n",
    "sns.distplot(df['cigs'], hist = False, color = 'r', label = 'Valores Reais', bins = 1)\n",
    "sns.distplot(yhat, hist = False, color = 'g', label = 'Valores Modelados', bins = 1)\n",
    "## deixando o gráfico bonitinho\n",
    "sns.despine()\n",
    "ax.legend(loc='upper right', frameon = False)\n",
    "## labels dos eixos\n",
    "ax.set_xlabel(\"Número de Cigarros\", fontname = \"Arial\")\n",
    "ax.set_ylabel(\"Proporção da Distribuição dos Valores\", fontname = \"Arial\")"
   ],
   "outputs": [
    {
     "output_type": "execute_result",
     "data": {
      "text/plain": [
       "Text(0, 0.5, 'Proporção da Distribuição dos Valores')"
      ]
     },
     "metadata": {},
     "execution_count": 7
    },
    {
     "output_type": "display_data",
     "data": {
      "text/plain": [
       "<Figure size 432x288 with 1 Axes>"
      ],
      "image/png": "[encoded data removed]",
      "image/svg+xml": "<?xml version=\"1.0\" encoding=\"utf-8\" standalone=\"no\"?>\n<!DOCTYPE svg PUBLIC \"-//W3C//DTD SVG 1.1//EN\"\n  \"http://www.w3.org/Graphics/SVG/1.1/DTD/svg11.dtd\">\n<!-- Created with matplotlib (https://matplotlib.org/) -->\n<svg height=\"261.369687pt\" version=\"1.1\" viewBox=\"0 0 388.80625 261.369687\" width=\"388.80625pt\" xmlns=\"http://www.w3.org/2000/svg\" xmlns:xlink=\"http://www.w3.org/1999/xlink\">\n <defs>\n  <style type=\"text/css\">\n*{stroke-linecap:butt;stroke-linejoin:round;}\n  </style>\n </defs>\n <g id=\"figure_1\">\n  <g id=\"patch_1\">\n   <path d=\"M 0 261.369687 \nL 388.80625 261.369687 \nL 388.80625 0 \nL 0 0 \nz\n\" style=\"fill:#ffffff;\"/>\n  </g>\n  <g id=\"axes_1\">\n   <g id=\"patch_2\">\n    <path d=\"M 46.80625 224.64 \nL 381.60625 224.64 \nL 381.60625 7.2 \nL 46.80625 7.2 \nz\n\" style=\"fill:#ffffff;\"/>\n   </g>\n   <g id=\"matplotlib.axis_1\">\n    <g id=\"xtick_1\">\n     <g id=\"text_1\">\n      <!-- 0 -->\n      <defs>\n       <path d=\"M 4.15625 35.296875 \nQ 4.15625 48 6.765625 55.734375 \nQ 9.375 63.484375 14.515625 67.671875 \nQ 19.671875 71.875 27.484375 71.875 \nQ 33.25 71.875 37.59375 69.546875 \nQ 41.9375 67.234375 44.765625 62.859375 \nQ 47.609375 58.5 49.21875 52.21875 \nQ 50.828125 45.953125 50.828125 35.296875 \nQ 50.828125 22.703125 48.234375 14.96875 \nQ 45.65625 7.234375 40.5 3 \nQ 35.359375 -1.21875 27.484375 -1.21875 \nQ 17.140625 -1.21875 11.234375 6.203125 \nQ 4.15625 15.140625 4.15625 35.296875 \nz\nM 13.1875 35.296875 \nQ 13.1875 17.671875 17.3125 11.828125 \nQ 21.4375 6 27.484375 6 \nQ 33.546875 6 37.671875 11.859375 \nQ 41.796875 17.71875 41.796875 35.296875 \nQ 41.796875 52.984375 37.671875 58.78125 \nQ 33.546875 64.59375 27.390625 64.59375 \nQ 21.34375 64.59375 17.71875 59.46875 \nQ 13.1875 52.9375 13.1875 35.296875 \nz\n\" id=\"ArialMT-48\"/>\n      </defs>\n      <g style=\"fill:#262626;\" transform=\"translate(93.065334 238.797812)scale(0.1 -0.1)\">\n       <use xlink:href=\"#ArialMT-48\"/>\n      </g>\n     </g>\n    </g>\n    <g id=\"xtick_2\">\n     <g id=\"text_2\">\n      <!-- 20 -->\n      <defs>\n       <path d=\"M 50.34375 8.453125 \nL 50.34375 0 \nL 3.03125 0 \nQ 2.9375 3.171875 4.046875 6.109375 \nQ 5.859375 10.9375 9.828125 15.625 \nQ 13.8125 20.3125 21.34375 26.46875 \nQ 33.015625 36.03125 37.109375 41.625 \nQ 41.21875 47.21875 41.21875 52.203125 \nQ 41.21875 57.421875 37.46875 61 \nQ 33.734375 64.59375 27.734375 64.59375 \nQ 21.390625 64.59375 17.578125 60.78125 \nQ 13.765625 56.984375 13.71875 50.25 \nL 4.6875 51.171875 \nQ 5.609375 61.28125 11.65625 66.578125 \nQ 17.71875 71.875 27.9375 71.875 \nQ 38.234375 71.875 44.234375 66.15625 \nQ 50.25 60.453125 50.25 52 \nQ 50.25 47.703125 48.484375 43.546875 \nQ 46.734375 39.40625 42.65625 34.8125 \nQ 38.578125 30.21875 29.109375 22.21875 \nQ 21.1875 15.578125 18.9375 13.203125 \nQ 16.703125 10.84375 15.234375 8.453125 \nz\n\" id=\"ArialMT-50\"/>\n      </defs>\n      <g style=\"fill:#262626;\" transform=\"translate(149.465089 238.797812)scale(0.1 -0.1)\">\n       <use xlink:href=\"#ArialMT-50\"/>\n       <use x=\"55.615234\" xlink:href=\"#ArialMT-48\"/>\n      </g>\n     </g>\n    </g>\n    <g id=\"xtick_3\">\n     <g id=\"text_3\">\n      <!-- 40 -->\n      <defs>\n       <path d=\"M 32.328125 0 \nL 32.328125 17.140625 \nL 1.265625 17.140625 \nL 1.265625 25.203125 \nL 33.9375 71.578125 \nL 41.109375 71.578125 \nL 41.109375 25.203125 \nL 50.78125 25.203125 \nL 50.78125 17.140625 \nL 41.109375 17.140625 \nL 41.109375 0 \nz\nM 32.328125 25.203125 \nL 32.328125 57.46875 \nL 9.90625 25.203125 \nz\n\" id=\"ArialMT-52\"/>\n      </defs>\n      <g style=\"fill:#262626;\" transform=\"translate(208.645313 238.797812)scale(0.1 -0.1)\">\n       <use xlink:href=\"#ArialMT-52\"/>\n       <use x=\"55.615234\" xlink:href=\"#ArialMT-48\"/>\n      </g>\n     </g>\n    </g>\n    <g id=\"xtick_4\">\n     <g id=\"text_4\">\n      <!-- 60 -->\n      <defs>\n       <path d=\"M 49.75 54.046875 \nL 41.015625 53.375 \nQ 39.84375 58.546875 37.703125 60.890625 \nQ 34.125 64.65625 28.90625 64.65625 \nQ 24.703125 64.65625 21.53125 62.3125 \nQ 17.390625 59.28125 14.984375 53.46875 \nQ 12.59375 47.65625 12.5 36.921875 \nQ 15.671875 41.75 20.265625 44.09375 \nQ 24.859375 46.4375 29.890625 46.4375 \nQ 38.671875 46.4375 44.84375 39.96875 \nQ 51.03125 33.5 51.03125 23.25 \nQ 51.03125 16.5 48.125 10.71875 \nQ 45.21875 4.9375 40.140625 1.859375 \nQ 35.0625 -1.21875 28.609375 -1.21875 \nQ 17.625 -1.21875 10.6875 6.859375 \nQ 3.765625 14.9375 3.765625 33.5 \nQ 3.765625 54.25 11.421875 63.671875 \nQ 18.109375 71.875 29.4375 71.875 \nQ 37.890625 71.875 43.28125 67.140625 \nQ 48.6875 62.40625 49.75 54.046875 \nz\nM 13.875 23.1875 \nQ 13.875 18.65625 15.796875 14.5 \nQ 17.71875 10.359375 21.1875 8.171875 \nQ 24.65625 6 28.46875 6 \nQ 34.03125 6 38.03125 10.484375 \nQ 42.046875 14.984375 42.046875 22.703125 \nQ 42.046875 30.125 38.078125 34.390625 \nQ 34.125 38.671875 28.125 38.671875 \nQ 22.171875 38.671875 18.015625 34.390625 \nQ 13.875 30.125 13.875 23.1875 \nz\n\" id=\"ArialMT-54\"/>\n      </defs>\n      <g style=\"fill:#262626;\" transform=\"translate(267.825536 238.797812)scale(0.1 -0.1)\">\n       <use xlink:href=\"#ArialMT-54\"/>\n       <use x=\"55.615234\" xlink:href=\"#ArialMT-48\"/>\n      </g>\n     </g>\n    </g>\n    <g id=\"xtick_5\">\n     <g id=\"text_5\">\n      <!-- 80 -->\n      <defs>\n       <path d=\"M 17.671875 38.8125 \nQ 12.203125 40.828125 9.5625 44.53125 \nQ 6.9375 48.25 6.9375 53.421875 \nQ 6.9375 61.234375 12.546875 66.546875 \nQ 18.171875 71.875 27.484375 71.875 \nQ 36.859375 71.875 42.578125 66.421875 \nQ 48.296875 60.984375 48.296875 53.171875 \nQ 48.296875 48.1875 45.671875 44.5 \nQ 43.0625 40.828125 37.75 38.8125 \nQ 44.34375 36.671875 47.78125 31.875 \nQ 51.21875 27.09375 51.21875 20.453125 \nQ 51.21875 11.28125 44.71875 5.03125 \nQ 38.234375 -1.21875 27.640625 -1.21875 \nQ 17.046875 -1.21875 10.546875 5.046875 \nQ 4.046875 11.328125 4.046875 20.703125 \nQ 4.046875 27.6875 7.59375 32.390625 \nQ 11.140625 37.109375 17.671875 38.8125 \nz\nM 15.921875 53.71875 \nQ 15.921875 48.640625 19.1875 45.40625 \nQ 22.46875 42.1875 27.6875 42.1875 \nQ 32.765625 42.1875 36.015625 45.375 \nQ 39.265625 48.578125 39.265625 53.21875 \nQ 39.265625 58.0625 35.90625 61.359375 \nQ 32.5625 64.65625 27.59375 64.65625 \nQ 22.5625 64.65625 19.234375 61.421875 \nQ 15.921875 58.203125 15.921875 53.71875 \nz\nM 13.09375 20.65625 \nQ 13.09375 16.890625 14.875 13.375 \nQ 16.65625 9.859375 20.171875 7.921875 \nQ 23.6875 6 27.734375 6 \nQ 34.03125 6 38.125 10.046875 \nQ 42.234375 14.109375 42.234375 20.359375 \nQ 42.234375 26.703125 38.015625 30.859375 \nQ 33.796875 35.015625 27.4375 35.015625 \nQ 21.234375 35.015625 17.15625 30.90625 \nQ 13.09375 26.8125 13.09375 20.65625 \nz\n\" id=\"ArialMT-56\"/>\n      </defs>\n      <g style=\"fill:#262626;\" transform=\"translate(327.005759 238.797812)scale(0.1 -0.1)\">\n       <use xlink:href=\"#ArialMT-56\"/>\n       <use x=\"55.615234\" xlink:href=\"#ArialMT-48\"/>\n      </g>\n     </g>\n    </g>\n    <g id=\"text_6\">\n     <!-- Número de Cigarros -->\n     <defs>\n      <path d=\"M 7.625 0 \nL 7.625 71.578125 \nL 17.328125 71.578125 \nL 54.9375 15.375 \nL 54.9375 71.578125 \nL 64.015625 71.578125 \nL 64.015625 0 \nL 54.296875 0 \nL 16.703125 56.25 \nL 16.703125 0 \nz\n\" id=\"ArialMT-78\"/>\n      <path d=\"M 40.578125 0 \nL 40.578125 7.625 \nQ 34.515625 -1.171875 24.125 -1.171875 \nQ 19.53125 -1.171875 15.546875 0.578125 \nQ 11.578125 2.34375 9.640625 5 \nQ 7.71875 7.671875 6.9375 11.53125 \nQ 6.390625 14.109375 6.390625 19.734375 \nL 6.390625 51.859375 \nL 15.1875 51.859375 \nL 15.1875 23.09375 \nQ 15.1875 16.21875 15.71875 13.8125 \nQ 16.546875 10.359375 19.234375 8.375 \nQ 21.921875 6.390625 25.875 6.390625 \nQ 29.828125 6.390625 33.296875 8.421875 \nQ 36.765625 10.453125 38.203125 13.9375 \nQ 39.65625 17.4375 39.65625 24.078125 \nL 39.65625 51.859375 \nL 48.4375 51.859375 \nL 48.4375 0 \nz\nM 22.125 58.296875 \nL 28.609375 71.96875 \nL 40.140625 71.96875 \nL 29.390625 58.296875 \nz\n\" id=\"ArialMT-250\"/>\n      <path d=\"M 6.59375 0 \nL 6.59375 51.859375 \nL 14.453125 51.859375 \nL 14.453125 44.578125 \nQ 16.890625 48.390625 20.9375 50.703125 \nQ 25 53.03125 30.171875 53.03125 \nQ 35.9375 53.03125 39.625 50.640625 \nQ 43.3125 48.25 44.828125 43.953125 \nQ 50.984375 53.03125 60.84375 53.03125 \nQ 68.5625 53.03125 72.703125 48.75 \nQ 76.859375 44.484375 76.859375 35.59375 \nL 76.859375 0 \nL 68.109375 0 \nL 68.109375 32.671875 \nQ 68.109375 37.9375 67.25 40.25 \nQ 66.40625 42.578125 64.15625 43.984375 \nQ 61.921875 45.40625 58.890625 45.40625 \nQ 53.421875 45.40625 49.796875 41.765625 \nQ 46.1875 38.140625 46.1875 30.125 \nL 46.1875 0 \nL 37.40625 0 \nL 37.40625 33.6875 \nQ 37.40625 39.546875 35.25 42.46875 \nQ 33.109375 45.40625 28.21875 45.40625 \nQ 24.515625 45.40625 21.359375 43.453125 \nQ 18.21875 41.5 16.796875 37.734375 \nQ 15.375 33.984375 15.375 26.90625 \nL 15.375 0 \nz\n\" id=\"ArialMT-109\"/>\n      <path d=\"M 42.09375 16.703125 \nL 51.171875 15.578125 \nQ 49.03125 7.625 43.21875 3.21875 \nQ 37.40625 -1.171875 28.375 -1.171875 \nQ 17 -1.171875 10.328125 5.828125 \nQ 3.65625 12.84375 3.65625 25.484375 \nQ 3.65625 38.578125 10.390625 45.796875 \nQ 17.140625 53.03125 27.875 53.03125 \nQ 38.28125 53.03125 44.875 45.953125 \nQ 51.46875 38.875 51.46875 26.03125 \nQ 51.46875 25.25 51.421875 23.6875 \nL 12.75 23.6875 \nQ 13.234375 15.140625 17.578125 10.59375 \nQ 21.921875 6.0625 28.421875 6.0625 \nQ 33.25 6.0625 36.671875 8.59375 \nQ 40.09375 11.140625 42.09375 16.703125 \nz\nM 13.234375 30.90625 \nL 42.1875 30.90625 \nQ 41.609375 37.453125 38.875 40.71875 \nQ 34.671875 45.796875 27.984375 45.796875 \nQ 21.921875 45.796875 17.796875 41.75 \nQ 13.671875 37.703125 13.234375 30.90625 \nz\n\" id=\"ArialMT-101\"/>\n      <path d=\"M 6.5 0 \nL 6.5 51.859375 \nL 14.40625 51.859375 \nL 14.40625 44 \nQ 17.4375 49.515625 20 51.265625 \nQ 22.5625 53.03125 25.640625 53.03125 \nQ 30.078125 53.03125 34.671875 50.203125 \nL 31.640625 42.046875 \nQ 28.421875 43.953125 25.203125 43.953125 \nQ 22.3125 43.953125 20.015625 42.21875 \nQ 17.71875 40.484375 16.75 37.40625 \nQ 15.28125 32.71875 15.28125 27.15625 \nL 15.28125 0 \nz\n\" id=\"ArialMT-114\"/>\n      <path d=\"M 3.328125 25.921875 \nQ 3.328125 40.328125 11.328125 47.265625 \nQ 18.015625 53.03125 27.640625 53.03125 \nQ 38.328125 53.03125 45.109375 46.015625 \nQ 51.90625 39.015625 51.90625 26.65625 \nQ 51.90625 16.65625 48.90625 10.90625 \nQ 45.90625 5.171875 40.15625 2 \nQ 34.421875 -1.171875 27.640625 -1.171875 \nQ 16.75 -1.171875 10.03125 5.8125 \nQ 3.328125 12.796875 3.328125 25.921875 \nz\nM 12.359375 25.921875 \nQ 12.359375 15.96875 16.703125 11.015625 \nQ 21.046875 6.0625 27.640625 6.0625 \nQ 34.1875 6.0625 38.53125 11.03125 \nQ 42.875 16.015625 42.875 26.21875 \nQ 42.875 35.84375 38.5 40.796875 \nQ 34.125 45.75 27.640625 45.75 \nQ 21.046875 45.75 16.703125 40.8125 \nQ 12.359375 35.890625 12.359375 25.921875 \nz\n\" id=\"ArialMT-111\"/>\n      <path id=\"ArialMT-32\"/>\n      <path d=\"M 40.234375 0 \nL 40.234375 6.546875 \nQ 35.296875 -1.171875 25.734375 -1.171875 \nQ 19.53125 -1.171875 14.328125 2.25 \nQ 9.125 5.671875 6.265625 11.796875 \nQ 3.421875 17.921875 3.421875 25.875 \nQ 3.421875 33.640625 6 39.96875 \nQ 8.59375 46.296875 13.765625 49.65625 \nQ 18.953125 53.03125 25.34375 53.03125 \nQ 30.03125 53.03125 33.6875 51.046875 \nQ 37.359375 49.078125 39.65625 45.90625 \nL 39.65625 71.578125 \nL 48.390625 71.578125 \nL 48.390625 0 \nz\nM 12.453125 25.875 \nQ 12.453125 15.921875 16.640625 10.984375 \nQ 20.84375 6.0625 26.5625 6.0625 \nQ 32.328125 6.0625 36.34375 10.765625 \nQ 40.375 15.484375 40.375 25.140625 \nQ 40.375 35.796875 36.265625 40.765625 \nQ 32.171875 45.75 26.171875 45.75 \nQ 20.3125 45.75 16.375 40.96875 \nQ 12.453125 36.1875 12.453125 25.875 \nz\n\" id=\"ArialMT-100\"/>\n      <path d=\"M 58.796875 25.09375 \nL 68.265625 22.703125 \nQ 65.28125 11.03125 57.546875 4.90625 \nQ 49.8125 -1.21875 38.625 -1.21875 \nQ 27.046875 -1.21875 19.796875 3.484375 \nQ 12.546875 8.203125 8.765625 17.140625 \nQ 4.984375 26.078125 4.984375 36.328125 \nQ 4.984375 47.515625 9.25 55.828125 \nQ 13.53125 64.15625 21.40625 68.46875 \nQ 29.296875 72.796875 38.765625 72.796875 \nQ 49.515625 72.796875 56.828125 67.328125 \nQ 64.15625 61.859375 67.046875 51.953125 \nL 57.71875 49.75 \nQ 55.21875 57.5625 50.484375 61.125 \nQ 45.75 64.703125 38.578125 64.703125 \nQ 30.328125 64.703125 24.78125 60.734375 \nQ 19.234375 56.78125 16.984375 50.109375 \nQ 14.75 43.453125 14.75 36.375 \nQ 14.75 27.25 17.40625 20.4375 \nQ 20.0625 13.625 25.671875 10.25 \nQ 31.296875 6.890625 37.84375 6.890625 \nQ 45.796875 6.890625 51.3125 11.46875 \nQ 56.84375 16.0625 58.796875 25.09375 \nz\n\" id=\"ArialMT-67\"/>\n      <path d=\"M 6.640625 61.46875 \nL 6.640625 71.578125 \nL 15.4375 71.578125 \nL 15.4375 61.46875 \nz\nM 6.640625 0 \nL 6.640625 51.859375 \nL 15.4375 51.859375 \nL 15.4375 0 \nz\n\" id=\"ArialMT-105\"/>\n      <path d=\"M 4.984375 -4.296875 \nL 13.53125 -5.5625 \nQ 14.0625 -9.515625 16.5 -11.328125 \nQ 19.78125 -13.765625 25.4375 -13.765625 \nQ 31.546875 -13.765625 34.859375 -11.328125 \nQ 38.1875 -8.890625 39.359375 -4.5 \nQ 40.046875 -1.8125 39.984375 6.78125 \nQ 34.234375 0 25.640625 0 \nQ 14.9375 0 9.078125 7.71875 \nQ 3.21875 15.4375 3.21875 26.21875 \nQ 3.21875 33.640625 5.90625 39.90625 \nQ 8.59375 46.1875 13.6875 49.609375 \nQ 18.796875 53.03125 25.6875 53.03125 \nQ 34.859375 53.03125 40.828125 45.609375 \nL 40.828125 51.859375 \nL 48.921875 51.859375 \nL 48.921875 7.03125 \nQ 48.921875 -5.078125 46.453125 -10.125 \nQ 44 -15.1875 38.640625 -18.109375 \nQ 33.296875 -21.046875 25.484375 -21.046875 \nQ 16.21875 -21.046875 10.5 -16.875 \nQ 4.78125 -12.703125 4.984375 -4.296875 \nz\nM 12.25 26.859375 \nQ 12.25 16.65625 16.296875 11.96875 \nQ 20.359375 7.28125 26.46875 7.28125 \nQ 32.515625 7.28125 36.609375 11.9375 \nQ 40.71875 16.609375 40.71875 26.5625 \nQ 40.71875 36.078125 36.5 40.90625 \nQ 32.28125 45.75 26.3125 45.75 \nQ 20.453125 45.75 16.34375 40.984375 \nQ 12.25 36.234375 12.25 26.859375 \nz\n\" id=\"ArialMT-103\"/>\n      <path d=\"M 40.4375 6.390625 \nQ 35.546875 2.25 31.03125 0.53125 \nQ 26.515625 -1.171875 21.34375 -1.171875 \nQ 12.796875 -1.171875 8.203125 3 \nQ 3.609375 7.171875 3.609375 13.671875 \nQ 3.609375 17.484375 5.34375 20.625 \nQ 7.078125 23.78125 9.890625 25.6875 \nQ 12.703125 27.59375 16.21875 28.5625 \nQ 18.796875 29.25 24.03125 29.890625 \nQ 34.671875 31.15625 39.703125 32.90625 \nQ 39.75 34.71875 39.75 35.203125 \nQ 39.75 40.578125 37.25 42.78125 \nQ 33.890625 45.75 27.25 45.75 \nQ 21.046875 45.75 18.09375 43.578125 \nQ 15.140625 41.40625 13.71875 35.890625 \nL 5.125 37.0625 \nQ 6.296875 42.578125 8.984375 45.96875 \nQ 11.671875 49.359375 16.75 51.1875 \nQ 21.828125 53.03125 28.515625 53.03125 \nQ 35.15625 53.03125 39.296875 51.46875 \nQ 43.453125 49.90625 45.40625 47.53125 \nQ 47.359375 45.171875 48.140625 41.546875 \nQ 48.578125 39.3125 48.578125 33.453125 \nL 48.578125 21.734375 \nQ 48.578125 9.46875 49.140625 6.21875 \nQ 49.703125 2.984375 51.375 0 \nL 42.1875 0 \nQ 40.828125 2.734375 40.4375 6.390625 \nz\nM 39.703125 26.03125 \nQ 34.90625 24.078125 25.34375 22.703125 \nQ 19.921875 21.921875 17.671875 20.9375 \nQ 15.4375 19.96875 14.203125 18.09375 \nQ 12.984375 16.21875 12.984375 13.921875 \nQ 12.984375 10.40625 15.640625 8.0625 \nQ 18.3125 5.71875 23.4375 5.71875 \nQ 28.515625 5.71875 32.46875 7.9375 \nQ 36.421875 10.15625 38.28125 14.015625 \nQ 39.703125 17 39.703125 22.796875 \nz\n\" id=\"ArialMT-97\"/>\n      <path d=\"M 3.078125 15.484375 \nL 11.765625 16.84375 \nQ 12.5 11.625 15.84375 8.84375 \nQ 19.1875 6.0625 25.203125 6.0625 \nQ 31.25 6.0625 34.171875 8.515625 \nQ 37.109375 10.984375 37.109375 14.3125 \nQ 37.109375 17.28125 34.515625 19 \nQ 32.71875 20.171875 25.53125 21.96875 \nQ 15.875 24.421875 12.140625 26.203125 \nQ 8.40625 27.984375 6.46875 31.125 \nQ 4.546875 34.28125 4.546875 38.09375 \nQ 4.546875 41.546875 6.125 44.5 \nQ 7.71875 47.46875 10.453125 49.421875 \nQ 12.5 50.921875 16.03125 51.96875 \nQ 19.578125 53.03125 23.640625 53.03125 \nQ 29.734375 53.03125 34.34375 51.265625 \nQ 38.96875 49.515625 41.15625 46.5 \nQ 43.359375 43.5 44.1875 38.484375 \nL 35.59375 37.3125 \nQ 35.015625 41.3125 32.203125 43.546875 \nQ 29.390625 45.796875 24.265625 45.796875 \nQ 18.21875 45.796875 15.625 43.796875 \nQ 13.03125 41.796875 13.03125 39.109375 \nQ 13.03125 37.40625 14.109375 36.03125 \nQ 15.1875 34.625 17.484375 33.6875 \nQ 18.796875 33.203125 25.25 31.453125 \nQ 34.578125 28.953125 38.25 27.359375 \nQ 41.9375 25.78125 44.03125 22.75 \nQ 46.140625 19.734375 46.140625 15.234375 \nQ 46.140625 10.84375 43.578125 6.953125 \nQ 41.015625 3.078125 36.171875 0.953125 \nQ 31.34375 -1.171875 25.25 -1.171875 \nQ 15.140625 -1.171875 9.84375 3.03125 \nQ 4.546875 7.234375 3.078125 15.484375 \nz\n\" id=\"ArialMT-115\"/>\n     </defs>\n     <g style=\"fill:#262626;\" transform=\"translate(169.192188 252.065)scale(0.1 -0.1)\">\n      <use xlink:href=\"#ArialMT-78\"/>\n      <use x=\"72.216797\" xlink:href=\"#ArialMT-250\"/>\n      <use x=\"127.832031\" xlink:href=\"#ArialMT-109\"/>\n      <use x=\"211.132812\" xlink:href=\"#ArialMT-101\"/>\n      <use x=\"266.748047\" xlink:href=\"#ArialMT-114\"/>\n      <use x=\"300.048828\" xlink:href=\"#ArialMT-111\"/>\n      <use x=\"355.664062\" xlink:href=\"#ArialMT-32\"/>\n      <use x=\"383.447266\" xlink:href=\"#ArialMT-100\"/>\n      <use x=\"439.0625\" xlink:href=\"#ArialMT-101\"/>\n      <use x=\"494.677734\" xlink:href=\"#ArialMT-32\"/>\n      <use x=\"522.460938\" xlink:href=\"#ArialMT-67\"/>\n      <use x=\"594.677734\" xlink:href=\"#ArialMT-105\"/>\n      <use x=\"616.894531\" xlink:href=\"#ArialMT-103\"/>\n      <use x=\"672.509766\" xlink:href=\"#ArialMT-97\"/>\n      <use x=\"728.125\" xlink:href=\"#ArialMT-114\"/>\n      <use x=\"761.425781\" xlink:href=\"#ArialMT-114\"/>\n      <use x=\"794.726562\" xlink:href=\"#ArialMT-111\"/>\n      <use x=\"850.341797\" xlink:href=\"#ArialMT-115\"/>\n     </g>\n    </g>\n   </g>\n   <g id=\"matplotlib.axis_2\">\n    <g id=\"ytick_1\">\n     <g id=\"text_7\">\n      <!-- 0.00 -->\n      <defs>\n       <path d=\"M 9.078125 0 \nL 9.078125 10.015625 \nL 19.09375 10.015625 \nL 19.09375 0 \nz\n\" id=\"ArialMT-46\"/>\n      </defs>\n      <g style=\"fill:#262626;\" transform=\"translate(20.345313 228.218906)scale(0.1 -0.1)\">\n       <use xlink:href=\"#ArialMT-48\"/>\n       <use x=\"55.615234\" xlink:href=\"#ArialMT-46\"/>\n       <use x=\"83.398438\" xlink:href=\"#ArialMT-48\"/>\n       <use x=\"139.013672\" xlink:href=\"#ArialMT-48\"/>\n      </g>\n     </g>\n    </g>\n    <g id=\"ytick_2\">\n     <g id=\"text_8\">\n      <!-- 0.02 -->\n      <g style=\"fill:#262626;\" transform=\"translate(20.345313 195.898138)scale(0.1 -0.1)\">\n       <use xlink:href=\"#ArialMT-48\"/>\n       <use x=\"55.615234\" xlink:href=\"#ArialMT-46\"/>\n       <use x=\"83.398438\" xlink:href=\"#ArialMT-48\"/>\n       <use x=\"139.013672\" xlink:href=\"#ArialMT-50\"/>\n      </g>\n     </g>\n    </g>\n    <g id=\"ytick_3\">\n     <g id=\"text_9\">\n      <!-- 0.04 -->\n      <g style=\"fill:#262626;\" transform=\"translate(20.345313 163.577369)scale(0.1 -0.1)\">\n       <use xlink:href=\"#ArialMT-48\"/>\n       <use x=\"55.615234\" xlink:href=\"#ArialMT-46\"/>\n       <use x=\"83.398438\" xlink:href=\"#ArialMT-48\"/>\n       <use x=\"139.013672\" xlink:href=\"#ArialMT-52\"/>\n      </g>\n     </g>\n    </g>\n    <g id=\"ytick_4\">\n     <g id=\"text_10\">\n      <!-- 0.06 -->\n      <g style=\"fill:#262626;\" transform=\"translate(20.345313 131.256601)scale(0.1 -0.1)\">\n       <use xlink:href=\"#ArialMT-48\"/>\n       <use x=\"55.615234\" xlink:href=\"#ArialMT-46\"/>\n       <use x=\"83.398438\" xlink:href=\"#ArialMT-48\"/>\n       <use x=\"139.013672\" xlink:href=\"#ArialMT-54\"/>\n      </g>\n     </g>\n    </g>\n    <g id=\"ytick_5\">\n     <g id=\"text_11\">\n      <!-- 0.08 -->\n      <g style=\"fill:#262626;\" transform=\"translate(20.345313 98.935832)scale(0.1 -0.1)\">\n       <use xlink:href=\"#ArialMT-48\"/>\n       <use x=\"55.615234\" xlink:href=\"#ArialMT-46\"/>\n       <use x=\"83.398438\" xlink:href=\"#ArialMT-48\"/>\n       <use x=\"139.013672\" xlink:href=\"#ArialMT-56\"/>\n      </g>\n     </g>\n    </g>\n    <g id=\"ytick_6\">\n     <g id=\"text_12\">\n      <!-- 0.10 -->\n      <defs>\n       <path d=\"M 37.25 0 \nL 28.46875 0 \nL 28.46875 56 \nQ 25.296875 52.984375 20.140625 49.953125 \nQ 14.984375 46.921875 10.890625 45.40625 \nL 10.890625 53.90625 \nQ 18.265625 57.375 23.78125 62.296875 \nQ 29.296875 67.234375 31.59375 71.875 \nL 37.25 71.875 \nz\n\" id=\"ArialMT-49\"/>\n      </defs>\n      <g style=\"fill:#262626;\" transform=\"translate(20.345313 66.615064)scale(0.1 -0.1)\">\n       <use xlink:href=\"#ArialMT-48\"/>\n       <use x=\"55.615234\" xlink:href=\"#ArialMT-46\"/>\n       <use x=\"83.398438\" xlink:href=\"#ArialMT-49\"/>\n       <use x=\"139.013672\" xlink:href=\"#ArialMT-48\"/>\n      </g>\n     </g>\n    </g>\n    <g id=\"ytick_7\">\n     <g id=\"text_13\">\n      <!-- 0.12 -->\n      <g style=\"fill:#262626;\" transform=\"translate(20.345313 34.294295)scale(0.1 -0.1)\">\n       <use xlink:href=\"#ArialMT-48\"/>\n       <use x=\"55.615234\" xlink:href=\"#ArialMT-46\"/>\n       <use x=\"83.398438\" xlink:href=\"#ArialMT-49\"/>\n       <use x=\"139.013672\" xlink:href=\"#ArialMT-50\"/>\n      </g>\n     </g>\n    </g>\n    <g id=\"text_14\">\n     <!-- Proporção da Distribuição dos Valores -->\n     <defs>\n      <path d=\"M 7.71875 0 \nL 7.71875 71.578125 \nL 34.71875 71.578125 \nQ 41.84375 71.578125 45.609375 70.90625 \nQ 50.875 70.015625 54.4375 67.546875 \nQ 58.015625 65.09375 60.1875 60.640625 \nQ 62.359375 56.203125 62.359375 50.875 \nQ 62.359375 41.75 56.546875 35.421875 \nQ 50.734375 29.109375 35.546875 29.109375 \nL 17.1875 29.109375 \nL 17.1875 0 \nz\nM 17.1875 37.546875 \nL 35.6875 37.546875 \nQ 44.875 37.546875 48.734375 40.96875 \nQ 52.59375 44.390625 52.59375 50.59375 \nQ 52.59375 55.078125 50.3125 58.265625 \nQ 48.046875 61.46875 44.34375 62.5 \nQ 41.9375 63.140625 35.5 63.140625 \nL 17.1875 63.140625 \nz\n\" id=\"ArialMT-80\"/>\n      <path d=\"M 6.59375 -19.875 \nL 6.59375 51.859375 \nL 14.59375 51.859375 \nL 14.59375 45.125 \nQ 17.4375 49.078125 21 51.046875 \nQ 24.5625 53.03125 29.640625 53.03125 \nQ 36.28125 53.03125 41.359375 49.609375 \nQ 46.4375 46.1875 49.015625 39.953125 \nQ 51.609375 33.734375 51.609375 26.3125 \nQ 51.609375 18.359375 48.75 11.984375 \nQ 45.90625 5.609375 40.453125 2.21875 \nQ 35.015625 -1.171875 29 -1.171875 \nQ 24.609375 -1.171875 21.109375 0.6875 \nQ 17.625 2.546875 15.375 5.375 \nL 15.375 -19.875 \nz\nM 14.546875 25.640625 \nQ 14.546875 15.625 18.59375 10.84375 \nQ 22.65625 6.0625 28.421875 6.0625 \nQ 34.28125 6.0625 38.453125 11.015625 \nQ 42.625 15.96875 42.625 26.375 \nQ 42.625 36.28125 38.546875 41.203125 \nQ 34.46875 46.140625 28.8125 46.140625 \nQ 23.1875 46.140625 18.859375 40.890625 \nQ 14.546875 35.640625 14.546875 25.640625 \nz\n\" id=\"ArialMT-112\"/>\n      <path d=\"M 40.4375 19 \nL 49.078125 17.875 \nQ 47.65625 8.9375 41.8125 3.875 \nQ 35.984375 -1.171875 27.484375 -1.171875 \nQ 16.84375 -1.171875 10.375 5.78125 \nQ 3.90625 12.75 3.90625 25.734375 \nQ 3.90625 34.125 6.6875 40.421875 \nQ 9.46875 46.734375 15.15625 49.875 \nQ 20.84375 53.03125 27.546875 53.03125 \nQ 35.984375 53.03125 41.359375 48.75 \nQ 46.734375 44.484375 48.25 36.625 \nL 39.703125 35.296875 \nQ 38.484375 40.53125 35.375 43.15625 \nQ 32.28125 45.796875 27.875 45.796875 \nQ 21.234375 45.796875 17.078125 41.03125 \nQ 12.9375 36.28125 12.9375 25.984375 \nQ 12.9375 15.53125 16.9375 10.796875 \nQ 20.953125 6.0625 27.390625 6.0625 \nQ 32.5625 6.0625 36.03125 9.234375 \nQ 39.5 12.40625 40.4375 19 \nz\nM 20.0625 -6.53125 \nL 22.609375 2.109375 \nL 29.15625 2.109375 \nL 27.546875 -3.125 \nQ 31.6875 -3.609375 33.78125 -5.671875 \nQ 35.890625 -7.75 35.890625 -10.296875 \nQ 35.890625 -13.953125 32.375 -16.765625 \nQ 28.859375 -19.578125 21.78125 -19.578125 \nQ 17.78125 -19.578125 14.75 -18.984375 \nL 15.28125 -13.28125 \nQ 18.40625 -13.46875 19.875 -13.46875 \nQ 24.46875 -13.46875 26.3125 -12.203125 \nQ 27.734375 -11.21875 27.734375 -9.8125 \nQ 27.734375 -8.921875 27.171875 -8.234375 \nQ 26.609375 -7.5625 25.09375 -7.0625 \nQ 23.578125 -6.578125 20.0625 -6.53125 \nz\n\" id=\"ArialMT-231\"/>\n      <path d=\"M 40.4375 6.390625 \nQ 35.546875 2.25 31.03125 0.53125 \nQ 26.515625 -1.171875 21.34375 -1.171875 \nQ 12.796875 -1.171875 8.203125 3 \nQ 3.609375 7.171875 3.609375 13.671875 \nQ 3.609375 17.484375 5.34375 20.625 \nQ 7.078125 23.78125 9.890625 25.6875 \nQ 12.703125 27.59375 16.21875 28.5625 \nQ 18.796875 29.25 24.03125 29.890625 \nQ 34.671875 31.15625 39.703125 32.90625 \nQ 39.75 34.71875 39.75 35.203125 \nQ 39.75 40.578125 37.25 42.78125 \nQ 33.890625 45.75 27.25 45.75 \nQ 21.046875 45.75 18.09375 43.578125 \nQ 15.140625 41.40625 13.71875 35.890625 \nL 5.125 37.0625 \nQ 6.296875 42.578125 8.984375 45.96875 \nQ 11.671875 49.359375 16.75 51.1875 \nQ 21.828125 53.03125 28.515625 53.03125 \nQ 35.15625 53.03125 39.296875 51.46875 \nQ 43.453125 49.90625 45.40625 47.53125 \nQ 47.359375 45.171875 48.140625 41.546875 \nQ 48.578125 39.3125 48.578125 33.453125 \nL 48.578125 21.734375 \nQ 48.578125 9.46875 49.140625 6.21875 \nQ 49.703125 2.984375 51.375 0 \nL 42.1875 0 \nQ 40.828125 2.734375 40.4375 6.390625 \nz\nM 39.703125 26.03125 \nQ 34.90625 24.078125 25.34375 22.703125 \nQ 19.921875 21.921875 17.671875 20.9375 \nQ 15.4375 19.96875 14.203125 18.09375 \nQ 12.984375 16.21875 12.984375 13.921875 \nQ 12.984375 10.40625 15.640625 8.0625 \nQ 18.3125 5.71875 23.4375 5.71875 \nQ 28.515625 5.71875 32.46875 7.9375 \nQ 36.421875 10.15625 38.28125 14.015625 \nQ 39.703125 17 39.703125 22.796875 \nz\nM 11.1875 59.515625 \nQ 11.140625 64.59375 13.96875 67.625 \nQ 16.75 70.65625 21.09375 70.65625 \nQ 24.125 70.65625 29.34375 68.015625 \nQ 32.234375 66.546875 33.9375 66.546875 \nQ 35.5 66.546875 36.328125 67.40625 \nQ 37.15625 68.265625 37.5 70.796875 \nL 43.84375 70.796875 \nQ 43.703125 65.234375 41.03125 62.453125 \nQ 38.375 59.671875 34.28125 59.671875 \nQ 31.203125 59.671875 26.171875 62.40625 \nQ 22.90625 64.15625 21.390625 64.15625 \nQ 19.734375 64.15625 18.703125 62.984375 \nQ 17.625 61.8125 17.671875 59.515625 \nz\n\" id=\"ArialMT-227\"/>\n      <path d=\"M 7.71875 0 \nL 7.71875 71.578125 \nL 32.375 71.578125 \nQ 40.71875 71.578125 45.125 70.5625 \nQ 51.265625 69.140625 55.609375 65.4375 \nQ 61.28125 60.640625 64.078125 53.1875 \nQ 66.890625 45.75 66.890625 36.1875 \nQ 66.890625 28.03125 64.984375 21.734375 \nQ 63.09375 15.4375 60.109375 11.296875 \nQ 57.125 7.171875 53.578125 4.796875 \nQ 50.046875 2.4375 45.046875 1.21875 \nQ 40.046875 0 33.546875 0 \nz\nM 17.1875 8.453125 \nL 32.46875 8.453125 \nQ 39.546875 8.453125 43.578125 9.765625 \nQ 47.609375 11.078125 50 13.484375 \nQ 53.375 16.84375 55.25 22.53125 \nQ 57.125 28.21875 57.125 36.328125 \nQ 57.125 47.5625 53.4375 53.59375 \nQ 49.75 59.625 44.484375 61.671875 \nQ 40.671875 63.140625 32.234375 63.140625 \nL 17.1875 63.140625 \nz\n\" id=\"ArialMT-68\"/>\n      <path d=\"M 25.78125 7.859375 \nL 27.046875 0.09375 \nQ 23.34375 -0.6875 20.40625 -0.6875 \nQ 15.625 -0.6875 12.984375 0.828125 \nQ 10.359375 2.34375 9.28125 4.8125 \nQ 8.203125 7.28125 8.203125 15.1875 \nL 8.203125 45.015625 \nL 1.765625 45.015625 \nL 1.765625 51.859375 \nL 8.203125 51.859375 \nL 8.203125 64.703125 \nL 16.9375 69.96875 \nL 16.9375 51.859375 \nL 25.78125 51.859375 \nL 25.78125 45.015625 \nL 16.9375 45.015625 \nL 16.9375 14.703125 \nQ 16.9375 10.9375 17.40625 9.859375 \nQ 17.875 8.796875 18.921875 8.15625 \nQ 19.96875 7.515625 21.921875 7.515625 \nQ 23.390625 7.515625 25.78125 7.859375 \nz\n\" id=\"ArialMT-116\"/>\n      <path d=\"M 14.703125 0 \nL 6.546875 0 \nL 6.546875 71.578125 \nL 15.328125 71.578125 \nL 15.328125 46.046875 \nQ 20.90625 53.03125 29.546875 53.03125 \nQ 34.328125 53.03125 38.59375 51.09375 \nQ 42.875 49.171875 45.625 45.671875 \nQ 48.390625 42.1875 49.953125 37.25 \nQ 51.515625 32.328125 51.515625 26.703125 \nQ 51.515625 13.375 44.921875 6.09375 \nQ 38.328125 -1.171875 29.109375 -1.171875 \nQ 19.921875 -1.171875 14.703125 6.5 \nz\nM 14.59375 26.3125 \nQ 14.59375 17 17.140625 12.84375 \nQ 21.296875 6.0625 28.375 6.0625 \nQ 34.125 6.0625 38.328125 11.0625 \nQ 42.53125 16.0625 42.53125 25.984375 \nQ 42.53125 36.140625 38.5 40.96875 \nQ 34.46875 45.796875 28.765625 45.796875 \nQ 23 45.796875 18.796875 40.796875 \nQ 14.59375 35.796875 14.59375 26.3125 \nz\n\" id=\"ArialMT-98\"/>\n      <path d=\"M 40.578125 0 \nL 40.578125 7.625 \nQ 34.515625 -1.171875 24.125 -1.171875 \nQ 19.53125 -1.171875 15.546875 0.578125 \nQ 11.578125 2.34375 9.640625 5 \nQ 7.71875 7.671875 6.9375 11.53125 \nQ 6.390625 14.109375 6.390625 19.734375 \nL 6.390625 51.859375 \nL 15.1875 51.859375 \nL 15.1875 23.09375 \nQ 15.1875 16.21875 15.71875 13.8125 \nQ 16.546875 10.359375 19.234375 8.375 \nQ 21.921875 6.390625 25.875 6.390625 \nQ 29.828125 6.390625 33.296875 8.421875 \nQ 36.765625 10.453125 38.203125 13.9375 \nQ 39.65625 17.4375 39.65625 24.078125 \nL 39.65625 51.859375 \nL 48.4375 51.859375 \nL 48.4375 0 \nz\n\" id=\"ArialMT-117\"/>\n      <path d=\"M 28.171875 0 \nL 0.4375 71.578125 \nL 10.6875 71.578125 \nL 29.296875 19.578125 \nQ 31.546875 13.328125 33.0625 7.859375 \nQ 34.71875 13.71875 36.921875 19.578125 \nL 56.25 71.578125 \nL 65.921875 71.578125 \nL 37.890625 0 \nz\n\" id=\"ArialMT-86\"/>\n      <path d=\"M 6.390625 0 \nL 6.390625 71.578125 \nL 15.1875 71.578125 \nL 15.1875 0 \nz\n\" id=\"ArialMT-108\"/>\n     </defs>\n     <g style=\"fill:#262626;\" transform=\"translate(14.357813 201.231719)rotate(-90)scale(0.1 -0.1)\">\n      <use xlink:href=\"#ArialMT-80\"/>\n      <use x=\"66.699219\" xlink:href=\"#ArialMT-114\"/>\n      <use x=\"100\" xlink:href=\"#ArialMT-111\"/>\n      <use x=\"155.615234\" xlink:href=\"#ArialMT-112\"/>\n      <use x=\"211.230469\" xlink:href=\"#ArialMT-111\"/>\n      <use x=\"266.845703\" xlink:href=\"#ArialMT-114\"/>\n      <use x=\"300.146484\" xlink:href=\"#ArialMT-231\"/>\n      <use x=\"350.146484\" xlink:href=\"#ArialMT-227\"/>\n      <use x=\"405.761719\" xlink:href=\"#ArialMT-111\"/>\n      <use x=\"461.376953\" xlink:href=\"#ArialMT-32\"/>\n      <use x=\"489.160156\" xlink:href=\"#ArialMT-100\"/>\n      <use x=\"544.775391\" xlink:href=\"#ArialMT-97\"/>\n      <use x=\"600.390625\" xlink:href=\"#ArialMT-32\"/>\n      <use x=\"628.173828\" xlink:href=\"#ArialMT-68\"/>\n      <use x=\"700.390625\" xlink:href=\"#ArialMT-105\"/>\n      <use x=\"722.607422\" xlink:href=\"#ArialMT-115\"/>\n      <use x=\"772.607422\" xlink:href=\"#ArialMT-116\"/>\n      <use x=\"800.390625\" xlink:href=\"#ArialMT-114\"/>\n      <use x=\"833.691406\" xlink:href=\"#ArialMT-105\"/>\n      <use x=\"855.908203\" xlink:href=\"#ArialMT-98\"/>\n      <use x=\"911.523438\" xlink:href=\"#ArialMT-117\"/>\n      <use x=\"967.138672\" xlink:href=\"#ArialMT-105\"/>\n      <use x=\"989.355469\" xlink:href=\"#ArialMT-231\"/>\n      <use x=\"1039.355469\" xlink:href=\"#ArialMT-227\"/>\n      <use x=\"1094.970703\" xlink:href=\"#ArialMT-111\"/>\n      <use x=\"1150.585938\" xlink:href=\"#ArialMT-32\"/>\n      <use x=\"1178.369141\" xlink:href=\"#ArialMT-100\"/>\n      <use x=\"1233.984375\" xlink:href=\"#ArialMT-111\"/>\n      <use x=\"1289.599609\" xlink:href=\"#ArialMT-115\"/>\n      <use x=\"1339.599609\" xlink:href=\"#ArialMT-32\"/>\n      <use x=\"1367.382812\" xlink:href=\"#ArialMT-86\"/>\n      <use x=\"1433.972656\" xlink:href=\"#ArialMT-97\"/>\n      <use x=\"1489.587891\" xlink:href=\"#ArialMT-108\"/>\n      <use x=\"1511.804688\" xlink:href=\"#ArialMT-111\"/>\n      <use x=\"1567.419922\" xlink:href=\"#ArialMT-114\"/>\n      <use x=\"1600.720703\" xlink:href=\"#ArialMT-101\"/>\n      <use x=\"1656.335938\" xlink:href=\"#ArialMT-115\"/>\n     </g>\n    </g>\n   </g>\n   <g id=\"line2d_1\">\n    <path clip-path=\"url(#pbcb382c178)\" d=\"M 62.024432 223.411985 \nL 64.420996 222.3849 \nL 66.81756 220.677177 \nL 69.214124 217.978792 \nL 71.610688 213.930424 \nL 74.007252 208.171248 \nL 76.403816 200.41695 \nL 78.80038 190.560462 \nL 81.196944 178.775332 \nL 88.386637 138.914228 \nL 90.783201 127.943972 \nL 93.179765 120.230196 \nL 95.576329 116.678048 \nL 97.972893 117.676143 \nL 100.369457 123.014117 \nL 102.766021 131.928518 \nL 105.162585 143.263569 \nL 109.955713 167.994377 \nL 112.352277 179.158494 \nL 114.748841 188.566394 \nL 117.145405 195.960316 \nL 119.541969 201.387676 \nL 121.938533 205.096976 \nL 124.335098 207.427015 \nL 126.731662 208.715199 \nL 129.128226 209.238794 \nL 131.52479 209.191599 \nL 133.921354 208.690508 \nL 136.317918 207.802175 \nL 138.714482 206.578687 \nL 141.111046 205.091665 \nL 145.904174 201.835062 \nL 148.300738 200.429993 \nL 150.697302 199.446605 \nL 153.093866 199.056027 \nL 155.49043 199.354982 \nL 157.886994 200.339307 \nL 160.283559 201.899297 \nL 165.076687 205.918981 \nL 167.473251 207.900054 \nL 169.869815 209.595501 \nL 172.266379 210.900168 \nL 174.662943 211.801913 \nL 177.059507 212.370523 \nL 186.645763 213.813706 \nL 191.438891 215.077555 \nL 196.23202 216.333168 \nL 198.628584 216.737371 \nL 201.025148 216.924212 \nL 203.421712 216.902963 \nL 213.007968 216.324835 \nL 215.404532 216.531609 \nL 217.801096 216.981337 \nL 220.19766 217.648726 \nL 224.990788 219.36156 \nL 229.783916 221.018786 \nL 232.18048 221.666391 \nL 234.577045 222.161045 \nL 236.973609 222.51184 \nL 241.766737 222.896387 \nL 248.956429 223.130151 \nL 256.146121 223.209507 \nL 263.335813 223.038139 \nL 270.525506 222.829066 \nL 275.318634 222.902696 \nL 280.111762 223.201373 \nL 294.491146 224.341399 \nL 301.680838 224.559764 \nL 311.267095 224.597788 \nL 344.818992 224.523439 \nL 356.801812 224.588757 \nL 361.59494 224.480877 \nL 363.991504 224.317775 \nL 366.388068 223.999152 \nL 366.388068 223.999152 \n\" style=\"fill:none;stroke:#ff0000;stroke-linecap:round;stroke-width:1.5;\"/>\n   </g>\n   <g id=\"line2d_2\">\n    <path clip-path=\"url(#pbcb382c178)\" d=\"M 89.828562 224.61186 \nL 91.465414 224.517428 \nL 92.556648 224.28357 \nL 93.647882 223.734848 \nL 94.193499 223.268371 \nL 94.739116 222.626957 \nL 95.284733 221.774994 \nL 95.83035 220.680704 \nL 96.921584 217.681698 \nL 98.012818 213.602218 \nL 99.649669 206.064315 \nL 101.28652 198.518614 \nL 102.377754 194.506448 \nL 103.468988 191.637292 \nL 105.651456 187.05064 \nL 106.197073 185.14501 \nL 106.74269 182.466329 \nL 107.288307 178.768797 \nL 107.833924 173.831143 \nL 108.379541 167.478363 \nL 109.470775 150.191556 \nL 110.562009 127.253638 \nL 113.290094 64.104367 \nL 113.835711 54.689119 \nL 114.381328 47.265717 \nL 114.926945 41.84971 \nL 115.472562 38.219394 \nL 116.018179 35.957405 \nL 117.109413 33.393113 \nL 117.65503 32.086263 \nL 118.200647 30.320914 \nL 119.291881 25.314452 \nL 120.383115 20.006147 \nL 120.928732 18.230497 \nL 121.474349 17.552946 \nL 122.019966 18.235521 \nL 122.565583 20.400507 \nL 123.1112 24.0241 \nL 123.656817 28.949412 \nL 124.748052 41.573504 \nL 126.384903 62.055411 \nL 127.476137 73.232011 \nL 128.567371 81.706164 \nL 130.204222 92.8709 \nL 131.295456 102.383755 \nL 132.38669 114.798885 \nL 134.023541 137.640538 \nL 136.206009 168.256821 \nL 137.297243 180.482026 \nL 138.388477 189.861844 \nL 139.479711 196.700469 \nL 140.570945 201.692877 \nL 141.662179 205.535261 \nL 142.753413 208.688411 \nL 144.390264 212.579278 \nL 146.027115 215.730269 \nL 147.118349 217.460745 \nL 148.209583 218.848142 \nL 149.300817 219.887698 \nL 151.483285 221.43679 \nL 154.756987 223.705208 \nL 155.848221 224.179037 \nL 156.939455 224.447865 \nL 158.576307 224.598724 \nL 159.121924 224.611454 \nL 159.121924 224.611454 \n\" style=\"fill:none;stroke:#008000;stroke-linecap:round;stroke-width:1.5;\"/>\n   </g>\n   <g id=\"patch_3\">\n    <path d=\"M 46.80625 224.64 \nL 46.80625 7.2 \n\" style=\"fill:none;stroke:#262626;stroke-linecap:square;stroke-linejoin:miter;stroke-width:0.8;\"/>\n   </g>\n   <g id=\"patch_4\">\n    <path d=\"M 46.80625 224.64 \nL 381.60625 224.64 \n\" style=\"fill:none;stroke:#262626;stroke-linecap:square;stroke-linejoin:miter;stroke-width:0.8;\"/>\n   </g>\n   <g id=\"legend_1\">\n    <g id=\"line2d_3\">\n     <path d=\"M 259.017188 19.857812 \nL 279.017188 19.857812 \n\" style=\"fill:none;stroke:#ff0000;stroke-linecap:round;stroke-width:1.5;\"/>\n    </g>\n    <g id=\"line2d_4\"/>\n    <g id=\"text_15\">\n     <!-- Valores Reais -->\n     <defs>\n      <path d=\"M 7.859375 0 \nL 7.859375 71.578125 \nL 39.59375 71.578125 \nQ 49.171875 71.578125 54.140625 69.640625 \nQ 59.125 67.71875 62.109375 62.828125 \nQ 65.09375 57.953125 65.09375 52.046875 \nQ 65.09375 44.4375 60.15625 39.203125 \nQ 55.21875 33.984375 44.921875 32.5625 \nQ 48.6875 30.765625 50.640625 29 \nQ 54.78125 25.203125 58.5 19.484375 \nL 70.953125 0 \nL 59.03125 0 \nL 49.5625 14.890625 \nQ 45.40625 21.34375 42.71875 24.75 \nQ 40.046875 28.171875 37.921875 29.53125 \nQ 35.796875 30.90625 33.59375 31.453125 \nQ 31.984375 31.78125 28.328125 31.78125 \nL 17.328125 31.78125 \nL 17.328125 0 \nz\nM 17.328125 39.984375 \nL 37.703125 39.984375 \nQ 44.1875 39.984375 47.84375 41.328125 \nQ 51.515625 42.671875 53.421875 45.625 \nQ 55.328125 48.578125 55.328125 52.046875 \nQ 55.328125 57.125 51.640625 60.390625 \nQ 47.953125 63.671875 39.984375 63.671875 \nL 17.328125 63.671875 \nz\n\" id=\"ArialMT-82\"/>\n     </defs>\n     <g style=\"fill:#262626;\" transform=\"translate(287.017188 23.357812)scale(0.1 -0.1)\">\n      <use xlink:href=\"#ArialMT-86\"/>\n      <use x=\"66.589844\" xlink:href=\"#ArialMT-97\"/>\n      <use x=\"122.205078\" xlink:href=\"#ArialMT-108\"/>\n      <use x=\"144.421875\" xlink:href=\"#ArialMT-111\"/>\n      <use x=\"200.037109\" xlink:href=\"#ArialMT-114\"/>\n      <use x=\"233.337891\" xlink:href=\"#ArialMT-101\"/>\n      <use x=\"288.953125\" xlink:href=\"#ArialMT-115\"/>\n      <use x=\"338.953125\" xlink:href=\"#ArialMT-32\"/>\n      <use x=\"366.736328\" xlink:href=\"#ArialMT-82\"/>\n      <use x=\"438.953125\" xlink:href=\"#ArialMT-101\"/>\n      <use x=\"494.568359\" xlink:href=\"#ArialMT-97\"/>\n      <use x=\"550.183594\" xlink:href=\"#ArialMT-105\"/>\n      <use x=\"572.400391\" xlink:href=\"#ArialMT-115\"/>\n     </g>\n    </g>\n    <g id=\"line2d_5\">\n     <path d=\"M 259.017188 34.003125 \nL 279.017188 34.003125 \n\" style=\"fill:none;stroke:#008000;stroke-linecap:round;stroke-width:1.5;\"/>\n    </g>\n    <g id=\"line2d_6\"/>\n    <g id=\"text_16\">\n     <!-- Valores Modelados -->\n     <defs>\n      <path d=\"M 7.421875 0 \nL 7.421875 71.578125 \nL 21.6875 71.578125 \nL 38.625 20.90625 \nQ 40.96875 13.8125 42.046875 10.296875 \nQ 43.265625 14.203125 45.84375 21.78125 \nL 62.984375 71.578125 \nL 75.734375 71.578125 \nL 75.734375 0 \nL 66.609375 0 \nL 66.609375 59.90625 \nL 45.796875 0 \nL 37.25 0 \nL 16.546875 60.9375 \nL 16.546875 0 \nz\n\" id=\"ArialMT-77\"/>\n     </defs>\n     <g style=\"fill:#262626;\" transform=\"translate(287.017188 37.503125)scale(0.1 -0.1)\">\n      <use xlink:href=\"#ArialMT-86\"/>\n      <use x=\"66.589844\" xlink:href=\"#ArialMT-97\"/>\n      <use x=\"122.205078\" xlink:href=\"#ArialMT-108\"/>\n      <use x=\"144.421875\" xlink:href=\"#ArialMT-111\"/>\n      <use x=\"200.037109\" xlink:href=\"#ArialMT-114\"/>\n      <use x=\"233.337891\" xlink:href=\"#ArialMT-101\"/>\n      <use x=\"288.953125\" xlink:href=\"#ArialMT-115\"/>\n      <use x=\"338.953125\" xlink:href=\"#ArialMT-32\"/>\n      <use x=\"366.736328\" xlink:href=\"#ArialMT-77\"/>\n      <use x=\"450.037109\" xlink:href=\"#ArialMT-111\"/>\n      <use x=\"505.652344\" xlink:href=\"#ArialMT-100\"/>\n      <use x=\"561.267578\" xlink:href=\"#ArialMT-101\"/>\n      <use x=\"616.882812\" xlink:href=\"#ArialMT-108\"/>\n      <use x=\"639.099609\" xlink:href=\"#ArialMT-97\"/>\n      <use x=\"694.714844\" xlink:href=\"#ArialMT-100\"/>\n      <use x=\"750.330078\" xlink:href=\"#ArialMT-111\"/>\n      <use x=\"805.945312\" xlink:href=\"#ArialMT-115\"/>\n     </g>\n    </g>\n   </g>\n  </g>\n </g>\n <defs>\n  <clipPath id=\"pbcb382c178\">\n   <rect height=\"217.44\" width=\"334.8\" x=\"46.80625\" y=\"7.2\"/>\n  </clipPath>\n </defs>\n</svg>\n"
     },
     "metadata": {}
    }
   ],
   "metadata": {}
  },
  {
   "cell_type": "code",
   "execution_count": 8,
   "source": [
    "## calculando o pseudo-r2\n",
    "df['cigshat'] = yhat\n",
    "df[['cigshat','cigs']].corr()**2\n",
    "\n",
    "# ix) O Pseudo R-quadrado é 0,043, indicando que os valores previstos não são um bom fit para os dados reais"
   ],
   "outputs": [
    {
     "output_type": "execute_result",
     "data": {
      "text/plain": [
       "          cigshat      cigs\n",
       "cigshat  1.000000  0.043206\n",
       "cigs     0.043206  1.000000"
      ],
      "text/html": [
       "<div>\n",
       "<style scoped>\n",
       "    .dataframe tbody tr th:only-of-type {\n",
       "        vertical-align: middle;\n",
       "    }\n",
       "\n",
       "    .dataframe tbody tr th {\n",
       "        vertical-align: top;\n",
       "    }\n",
       "\n",
       "    .dataframe thead th {\n",
       "        text-align: right;\n",
       "    }\n",
       "</style>\n",
       "<table border=\"1\" class=\"dataframe\">\n",
       "  <thead>\n",
       "    <tr style=\"text-align: right;\">\n",
       "      <th></th>\n",
       "      <th>cigshat</th>\n",
       "      <th>cigs</th>\n",
       "    </tr>\n",
       "  </thead>\n",
       "  <tbody>\n",
       "    <tr>\n",
       "      <th>cigshat</th>\n",
       "      <td>1.000000</td>\n",
       "      <td>0.043206</td>\n",
       "    </tr>\n",
       "    <tr>\n",
       "      <th>cigs</th>\n",
       "      <td>0.043206</td>\n",
       "      <td>1.000000</td>\n",
       "    </tr>\n",
       "  </tbody>\n",
       "</table>\n",
       "</div>"
      ]
     },
     "metadata": {},
     "execution_count": 8
    }
   ],
   "metadata": {}
  },
  {
   "cell_type": "code",
   "execution_count": 9,
   "source": [
    "# fazendo o modelo por MQO\n",
    "mod = ols_reg(formula = formula, data = df)\n",
    "\n",
    "# x) O R-quadrado do modelo de MQO - que busca maximizar essa variável - é cerca de 0,045. Assim, vê-se que nenhum dos modelos prevê bem os resultados, indicando que a previsão do número de cigarros fumados em um dia é difícil de ser feita com base nas características observáveis."
   ],
   "outputs": [
    {
     "output_type": "stream",
     "name": "stdout",
     "text": [
      "                            OLS Regression Results                            \n",
      "==============================================================================\n",
      "Dep. Variable:                   cigs   R-squared:                       0.045\n",
      "Model:                            OLS   Adj. R-squared:                  0.038\n",
      "Method:                 Least Squares   F-statistic:                     6.300\n",
      "Date:                Wed, 05 May 2021   Prob (F-statistic):           1.74e-06\n",
      "Time:                        10:58:04   Log-Likelihood:                -3239.5\n",
      "No. Observations:                 807   AIC:                             6493.\n",
      "Df Residuals:                     800   BIC:                             6526.\n",
      "Df Model:                           6                                         \n",
      "Covariance Type:            nonrobust                                         \n",
      "==============================================================================\n",
      "                 coef    std err          t      P>|t|      [0.025      0.975]\n",
      "------------------------------------------------------------------------------\n",
      "Intercept      5.7669     24.079      0.239      0.811     -41.499      53.033\n",
      "lcigpric      -2.9009      5.747     -0.505      0.614     -14.181       8.380\n",
      "lincome        0.7535      0.730      1.032      0.302      -0.679       2.186\n",
      "white         -0.2049      1.458     -0.141      0.888      -3.067       2.657\n",
      "educ          -0.5143      0.168     -3.067      0.002      -0.843      -0.185\n",
      "age            0.7821      0.161      4.856      0.000       0.466       1.098\n",
      "agesq         -0.0091      0.002     -5.201      0.000      -0.013      -0.006\n",
      "==============================================================================\n",
      "Omnibus:                      230.498   Durbin-Watson:                   1.997\n",
      "Prob(Omnibus):                  0.000   Jarque-Bera (JB):              514.407\n",
      "Skew:                           1.562   Prob(JB):                    1.99e-112\n",
      "Kurtosis:                       5.353   Cond. No.                     1.32e+05\n",
      "==============================================================================\n",
      "\n",
      "Warnings:\n",
      "[1] Standard Errors assume that the covariance matrix of the errors is correctly specified.\n",
      "[2] The condition number is large, 1.32e+05. This might indicate that there are\n",
      "strong multicollinearity or other numerical problems.\n"
     ]
    }
   ],
   "metadata": {}
  },
  {
   "cell_type": "markdown",
   "source": [
    "## C11"
   ],
   "metadata": {}
  },
  {
   "cell_type": "code",
   "execution_count": 7,
   "source": [
    "df = wooldridge.dataWoo('cps91')\n",
    "df"
   ],
   "outputs": [
    {
     "data": {
      "text/plain": "      husage  husunion  husearns  huseduc  husblck  hushisp  hushrs  kidge6  \\\n0         42       0.0       568       14        0        0      40       1   \n1         26       0.0       600       14        0        0       0       0   \n2         56       0.0      1500       14        0        0      40       1   \n3         35       NaN         0       12        0        0      40       0   \n4         42       0.0       450       11        0        0      45       1   \n...      ...       ...       ...      ...      ...      ...     ...     ...   \n5629      30       0.0      1000       16        0        0      50       0   \n5630      30       0.0       350       16        0        0      40       0   \n5631      57       0.0      1000       14        0        0      20       0   \n5632      52       0.0      1100       18        0        0      40       1   \n5633      47       1.0       680       13        0        0      40       1   \n\n      earns  age  ...    faminc  husexp  exper  kidlt6  hours  expersq  \\\n0     290.0   43  ...   45000.0      22     23       0      0      529   \n1     654.0   26  ...   45000.0       6      6       0      0       36   \n2     100.0   49  ...   55000.0      36     31       0     15      961   \n3       0.0   35  ...   55000.0      17     19       1      0      361   \n4       0.0   43  ...   27500.0      25     24       0      0      576   \n...     ...  ...  ...       ...     ...    ...     ...    ...      ...   \n5629  175.0   28  ...  112500.0       8      6       0     24       36   \n5630    0.0   31  ...    3000.0       8      9       1      0       81   \n5631  781.0   55  ...  112500.0      37     33       0     40     1089   \n5632  692.0   50  ...  112500.0      28     26       0     35      676   \n5633    0.0   44  ...   37500.0      28     26       0      0      676   \n\n        nwifeinc  inlf     hrwage     lwage  \n0      29.920000     0        NaN       NaN  \n1      10.992000     0        NaN       NaN  \n2      49.799999     1   6.666667  1.897120  \n3      55.000000     0        NaN       NaN  \n4      27.500000     0        NaN       NaN  \n...          ...   ...        ...       ...  \n5629  103.400002     1   7.291667  1.986732  \n5630    3.000000     0        NaN       NaN  \n5631   71.888000     1  19.525000  2.971696  \n5632   76.515999     1  19.771429  2.984238  \n5633   37.500000     0        NaN       NaN  \n\n[5634 rows x 24 columns]",
      "text/html": "<div>\n<style scoped>\n    .dataframe tbody tr th:only-of-type {\n        vertical-align: middle;\n    }\n\n    .dataframe tbody tr th {\n        vertical-align: top;\n    }\n\n    .dataframe thead th {\n        text-align: right;\n    }\n</style>\n<table border=\"1\" class=\"dataframe\">\n  <thead>\n    <tr style=\"text-align: right;\">\n      <th></th>\n      <th>husage</th>\n      <th>husunion</th>\n      <th>husearns</th>\n      <th>huseduc</th>\n      <th>husblck</th>\n      <th>hushisp</th>\n      <th>hushrs</th>\n      <th>kidge6</th>\n      <th>earns</th>\n      <th>age</th>\n      <th>...</th>\n      <th>faminc</th>\n      <th>husexp</th>\n      <th>exper</th>\n      <th>kidlt6</th>\n      <th>hours</th>\n      <th>expersq</th>\n      <th>nwifeinc</th>\n      <th>inlf</th>\n      <th>hrwage</th>\n      <th>lwage</th>\n    </tr>\n  </thead>\n  <tbody>\n    <tr>\n      <th>0</th>\n      <td>42</td>\n      <td>0.0</td>\n      <td>568</td>\n      <td>14</td>\n      <td>0</td>\n      <td>0</td>\n      <td>40</td>\n      <td>1</td>\n      <td>290.0</td>\n      <td>43</td>\n      <td>...</td>\n      <td>45000.0</td>\n      <td>22</td>\n      <td>23</td>\n      <td>0</td>\n      <td>0</td>\n      <td>529</td>\n      <td>29.920000</td>\n      <td>0</td>\n      <td>NaN</td>\n      <td>NaN</td>\n    </tr>\n    <tr>\n      <th>1</th>\n      <td>26</td>\n      <td>0.0</td>\n      <td>600</td>\n      <td>14</td>\n      <td>0</td>\n      <td>0</td>\n      <td>0</td>\n      <td>0</td>\n      <td>654.0</td>\n      <td>26</td>\n      <td>...</td>\n      <td>45000.0</td>\n      <td>6</td>\n      <td>6</td>\n      <td>0</td>\n      <td>0</td>\n      <td>36</td>\n      <td>10.992000</td>\n      <td>0</td>\n      <td>NaN</td>\n      <td>NaN</td>\n    </tr>\n    <tr>\n      <th>2</th>\n      <td>56</td>\n      <td>0.0</td>\n      <td>1500</td>\n      <td>14</td>\n      <td>0</td>\n      <td>0</td>\n      <td>40</td>\n      <td>1</td>\n      <td>100.0</td>\n      <td>49</td>\n      <td>...</td>\n      <td>55000.0</td>\n      <td>36</td>\n      <td>31</td>\n      <td>0</td>\n      <td>15</td>\n      <td>961</td>\n      <td>49.799999</td>\n      <td>1</td>\n      <td>6.666667</td>\n      <td>1.897120</td>\n    </tr>\n    <tr>\n      <th>3</th>\n      <td>35</td>\n      <td>NaN</td>\n      <td>0</td>\n      <td>12</td>\n      <td>0</td>\n      <td>0</td>\n      <td>40</td>\n      <td>0</td>\n      <td>0.0</td>\n      <td>35</td>\n      <td>...</td>\n      <td>55000.0</td>\n      <td>17</td>\n      <td>19</td>\n      <td>1</td>\n      <td>0</td>\n      <td>361</td>\n      <td>55.000000</td>\n      <td>0</td>\n      <td>NaN</td>\n      <td>NaN</td>\n    </tr>\n    <tr>\n      <th>4</th>\n      <td>42</td>\n      <td>0.0</td>\n      <td>450</td>\n      <td>11</td>\n      <td>0</td>\n      <td>0</td>\n      <td>45</td>\n      <td>1</td>\n      <td>0.0</td>\n      <td>43</td>\n      <td>...</td>\n      <td>27500.0</td>\n      <td>25</td>\n      <td>24</td>\n      <td>0</td>\n      <td>0</td>\n      <td>576</td>\n      <td>27.500000</td>\n      <td>0</td>\n      <td>NaN</td>\n      <td>NaN</td>\n    </tr>\n    <tr>\n      <th>...</th>\n      <td>...</td>\n      <td>...</td>\n      <td>...</td>\n      <td>...</td>\n      <td>...</td>\n      <td>...</td>\n      <td>...</td>\n      <td>...</td>\n      <td>...</td>\n      <td>...</td>\n      <td>...</td>\n      <td>...</td>\n      <td>...</td>\n      <td>...</td>\n      <td>...</td>\n      <td>...</td>\n      <td>...</td>\n      <td>...</td>\n      <td>...</td>\n      <td>...</td>\n      <td>...</td>\n    </tr>\n    <tr>\n      <th>5629</th>\n      <td>30</td>\n      <td>0.0</td>\n      <td>1000</td>\n      <td>16</td>\n      <td>0</td>\n      <td>0</td>\n      <td>50</td>\n      <td>0</td>\n      <td>175.0</td>\n      <td>28</td>\n      <td>...</td>\n      <td>112500.0</td>\n      <td>8</td>\n      <td>6</td>\n      <td>0</td>\n      <td>24</td>\n      <td>36</td>\n      <td>103.400002</td>\n      <td>1</td>\n      <td>7.291667</td>\n      <td>1.986732</td>\n    </tr>\n    <tr>\n      <th>5630</th>\n      <td>30</td>\n      <td>0.0</td>\n      <td>350</td>\n      <td>16</td>\n      <td>0</td>\n      <td>0</td>\n      <td>40</td>\n      <td>0</td>\n      <td>0.0</td>\n      <td>31</td>\n      <td>...</td>\n      <td>3000.0</td>\n      <td>8</td>\n      <td>9</td>\n      <td>1</td>\n      <td>0</td>\n      <td>81</td>\n      <td>3.000000</td>\n      <td>0</td>\n      <td>NaN</td>\n      <td>NaN</td>\n    </tr>\n    <tr>\n      <th>5631</th>\n      <td>57</td>\n      <td>0.0</td>\n      <td>1000</td>\n      <td>14</td>\n      <td>0</td>\n      <td>0</td>\n      <td>20</td>\n      <td>0</td>\n      <td>781.0</td>\n      <td>55</td>\n      <td>...</td>\n      <td>112500.0</td>\n      <td>37</td>\n      <td>33</td>\n      <td>0</td>\n      <td>40</td>\n      <td>1089</td>\n      <td>71.888000</td>\n      <td>1</td>\n      <td>19.525000</td>\n      <td>2.971696</td>\n    </tr>\n    <tr>\n      <th>5632</th>\n      <td>52</td>\n      <td>0.0</td>\n      <td>1100</td>\n      <td>18</td>\n      <td>0</td>\n      <td>0</td>\n      <td>40</td>\n      <td>1</td>\n      <td>692.0</td>\n      <td>50</td>\n      <td>...</td>\n      <td>112500.0</td>\n      <td>28</td>\n      <td>26</td>\n      <td>0</td>\n      <td>35</td>\n      <td>676</td>\n      <td>76.515999</td>\n      <td>1</td>\n      <td>19.771429</td>\n      <td>2.984238</td>\n    </tr>\n    <tr>\n      <th>5633</th>\n      <td>47</td>\n      <td>1.0</td>\n      <td>680</td>\n      <td>13</td>\n      <td>0</td>\n      <td>0</td>\n      <td>40</td>\n      <td>1</td>\n      <td>0.0</td>\n      <td>44</td>\n      <td>...</td>\n      <td>37500.0</td>\n      <td>28</td>\n      <td>26</td>\n      <td>0</td>\n      <td>0</td>\n      <td>676</td>\n      <td>37.500000</td>\n      <td>0</td>\n      <td>NaN</td>\n      <td>NaN</td>\n    </tr>\n  </tbody>\n</table>\n<p>5634 rows × 24 columns</p>\n</div>"
     },
     "execution_count": 7,
     "metadata": {},
     "output_type": "execute_result"
    }
   ],
   "metadata": {}
  },
  {
   "cell_type": "code",
   "execution_count": 11,
   "source": [
    "print(f\"i) O número de mulheres na amostra que está na força de trabalho é {len(df['inlf'].loc[df['inlf'] == 1])} ({round(100*len(df['inlf'].loc[df['inlf'] == 1])/len(df['inlf']),2)}% do total).\")"
   ],
   "outputs": [
    {
     "output_type": "stream",
     "name": "stdout",
     "text": [
      "i) O número de mulheres na amostra que está na força de trabalho é 3286 (58.32% do total).\n"
     ]
    }
   ],
   "metadata": {}
  },
  {
   "cell_type": "code",
   "execution_count": 12,
   "source": [
    "## estimando por MQO para aquelas que estão na FT\n",
    "df1 = df.loc[df['inlf'] == 1]\n",
    "\n",
    "formula = 'lwage ~ 1 + educ + exper + expersq + black + hispanic'\n",
    "mod = ols_reg(formula = formula, data = df1)\n",
    "print(f\"\\n{mod.f_test('black = hispanic = 0')}\")\n",
    "\n",
    "# ii) Não parece haver diferença racial estatisticamente significante nos rendimentos das mulheres da força de trabalho uma vez controlado para os anos de educação e experiência. Um teste F da significância conjunta fornece um p-valor de 0,632."
   ],
   "outputs": [
    {
     "output_type": "stream",
     "name": "stdout",
     "text": [
      "                            OLS Regression Results                            \n",
      "==============================================================================\n",
      "Dep. Variable:                  lwage   R-squared:                       0.205\n",
      "Model:                            OLS   Adj. R-squared:                  0.204\n",
      "Method:                 Least Squares   F-statistic:                     169.1\n",
      "Date:                Wed, 05 May 2021   Prob (F-statistic):          2.16e-160\n",
      "Time:                        10:58:04   Log-Likelihood:                -2168.3\n",
      "No. Observations:                3286   AIC:                             4349.\n",
      "Df Residuals:                    3280   BIC:                             4385.\n",
      "Df Model:                           5                                         \n",
      "Covariance Type:            nonrobust                                         \n",
      "==============================================================================\n",
      "                 coef    std err          t      P>|t|      [0.025      0.975]\n",
      "------------------------------------------------------------------------------\n",
      "Intercept      0.6488      0.060     10.820      0.000       0.531       0.766\n",
      "educ           0.0992      0.004     27.620      0.000       0.092       0.106\n",
      "exper          0.0199      0.003      6.043      0.000       0.013       0.026\n",
      "expersq       -0.0003    7.7e-05     -4.530      0.000      -0.000      -0.000\n",
      "black         -0.0296      0.034     -0.861      0.390      -0.097       0.038\n",
      "hispanic       0.0136      0.036      0.375      0.708      -0.058       0.085\n",
      "==============================================================================\n",
      "Omnibus:                      582.580   Durbin-Watson:                   1.965\n",
      "Prob(Omnibus):                  0.000   Jarque-Bera (JB):             8054.007\n",
      "Skew:                          -0.415   Prob(JB):                         0.00\n",
      "Kurtosis:                      10.625   Cond. No.                     4.71e+03\n",
      "==============================================================================\n",
      "\n",
      "Warnings:\n",
      "[1] Standard Errors assume that the covariance matrix of the errors is correctly specified.\n",
      "[2] The condition number is large, 4.71e+03. This might indicate that there are\n",
      "strong multicollinearity or other numerical problems.\n",
      "\n",
      "<F test: F=array([[0.45826189]]), p=0.6324223206732954, df_denom=3.28e+03, df_num=2>\n"
     ]
    }
   ],
   "metadata": {}
  },
  {
   "cell_type": "code",
   "execution_count": 8,
   "source": [
    "## fazendo um modelo probit para determinar a participação na força de trabalho\n",
    "formula = 'inlf ~ 1 + educ + exper + expersq + black + hispanic + nwifeinc + kidlt6'\n",
    "\n",
    "mod = probit_logit(formula = formula, data = df)\n",
    "\n",
    "# iii) A renda domiciliar que não é da esposa e a existência ou não de filhos pequenos parecem diminuir a probabilidade de participação na força de trabalho, sendo seus coeficientes bastante significantes estatisticamente. De fato, quanto maior a renda do resto do domicílio, menor a necessidade da mulher trabalhar. De forma semelhante, a presença de filhos pequenos faz com que a mulher tenha de ficar em casa para cuidar da criança, haja vista a atual configuração machista da sociedade.\n",
    "\n",
    "# iv) A hipótese que fizemos é que, uma vez controlado para educação e experiência, a renda domiciliar que não é da esposa e a existência ou não de filhos pequenos não afetam sua remuneração, o que pode ser um pouco extremo, haja vista a existência de discriminação contra mulheres com filhos mais novos e o cansaço oriundo do cuidado das filhos afetar negativamente a produtividade, diminuindo o salário."
   ],
   "outputs": [
    {
     "name": "stdout",
     "output_type": "stream",
     "text": [
      "                          Probit Regression Results                           \n",
      "==============================================================================\n",
      "Dep. Variable:                   inlf   No. Observations:                 5634\n",
      "Model:                         Probit   Df Residuals:                     5626\n",
      "Method:                           MLE   Df Model:                            7\n",
      "Date:                Sat, 26 Feb 2022   Pseudo R-squ.:                 0.07565\n",
      "Time:                        12:33:38   Log-Likelihood:                -3537.3\n",
      "converged:                       True   LL-Null:                       -3826.7\n",
      "Covariance Type:            nonrobust   LLR p-value:                8.184e-121\n",
      "==============================================================================\n",
      "                 coef    std err          t      P>|t|      [0.025      0.975]\n",
      "------------------------------------------------------------------------------\n",
      "Intercept     -0.4393      0.134     -3.282      0.001      -0.702      -0.177\n",
      "educ           0.0965      0.008     12.393      0.000       0.081       0.112\n",
      "exper          0.0077      0.007      1.066      0.287      -0.006       0.022\n",
      "expersq       -0.0006      0.000     -3.895      0.000      -0.001      -0.000\n",
      "black          0.0168      0.076      0.222      0.825      -0.131       0.165\n",
      "hispanic      -0.1220      0.070     -1.731      0.084      -0.260       0.016\n",
      "nwifeinc      -0.0091      0.001    -13.467      0.000      -0.010      -0.008\n",
      "kidlt6        -0.5002      0.045    -11.047      0.000      -0.589      -0.411\n",
      "==============================================================================\n",
      "\n",
      "##############################################################################\n",
      "\n",
      "       Probit Marginal Effects       \n",
      "=====================================\n",
      "Dep. Variable:                   inlf\n",
      "Method:                          dydx\n",
      "At:                           overall\n",
      "==============================================================================\n",
      "                dy/dx    std err          z      P>|z|      [0.025      0.975]\n",
      "------------------------------------------------------------------------------\n",
      "educ           0.0346      0.003     12.892      0.000       0.029       0.040\n",
      "exper          0.0028      0.003      1.066      0.286      -0.002       0.008\n",
      "expersq       -0.0002   5.64e-05     -3.910      0.000      -0.000      -0.000\n",
      "black          0.0060      0.027      0.222      0.825      -0.047       0.059\n",
      "hispanic      -0.0438      0.025     -1.732      0.083      -0.093       0.006\n",
      "nwifeinc      -0.0033      0.000    -14.144      0.000      -0.004      -0.003\n",
      "kidlt6        -0.1794      0.016    -11.418      0.000      -0.210      -0.149\n",
      "==============================================================================\n",
      "\n",
      "Marginal effects on certain values can be found using 'mod.get_margeff(atexog = values).summary()', where values must be generated using:\n",
      "values = dict(zip(range(1,n), values.tolist())).update({0:1})\n",
      "\n",
      "For discrete variables, create a list of the values which you want to test and compute 'mod.model.cdf(sum(map(lambda x, y: x * y, list(mod.params), values)))\n",
      "To predict values using the CDF, use mod.predict(X). X can be blank (use values from the dataset\n",
      "or a K x N Dimensional array, where K = number of variables and N = number of observations.\n"
     ]
    }
   ],
   "metadata": {
    "pycharm": {
     "name": "#%%\n"
    }
   }
  }
 ]
}