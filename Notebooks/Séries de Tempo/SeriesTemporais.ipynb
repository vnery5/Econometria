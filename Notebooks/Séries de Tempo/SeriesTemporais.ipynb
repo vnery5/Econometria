{
 "cells": [
  {
   "cell_type": "markdown",
   "metadata": {
    "id": "ue3atmYDsrgK"
   },
   "source": [
    "# Análise da População Ocupada no Brasil usando Séries Temporais\n",
    "\n",
    "Dados: [PNADC/Sidra](https://sidra.ibge.gov.br/home/pnadcm/brasil)\n",
    "\n",
    "----"
   ]
  },
  {
   "cell_type": "markdown",
   "metadata": {
    "id": "Yf7lWKcVjC3E"
   },
   "source": [
    "## Leitura dos Dados"
   ]
  },
  {
   "cell_type": "code",
   "execution_count": 1,
   "metadata": {
    "colab": {
     "base_uri": "https://localhost:8080/"
    },
    "executionInfo": {
     "elapsed": 1028,
     "status": "ok",
     "timestamp": 1635290095644,
     "user": {
      "displayName": "Vinicius Nery",
      "photoUrl": "https://lh3.googleusercontent.com/a-/AOh14GgskpJ_NRKHH95grqz01_Kgh6MLO26xbaMREp6wPhE=s64",
      "userId": "12869815464542738621"
     },
     "user_tz": 180
    },
    "id": "wrR02oUkRkAB",
    "outputId": "91b8183f-d21d-4659-e06f-952396bd9e28"
   },
   "outputs": [],
   "source": [
    "## Importando o que for necessário\n",
    "import pandas as pd\n",
    "import numpy as np\n",
    "from scipy import stats\n",
    "import statsmodels.api as sm\n",
    "import statsmodels.stats.api as sms\n",
    "import matplotlib.pyplot as plt\n",
    "import matplotlib as mpl\n",
    "import seaborn as sns"
   ]
  },
  {
   "cell_type": "code",
   "execution_count": 2,
   "metadata": {
    "colab": {
     "base_uri": "https://localhost:8080/"
    },
    "executionInfo": {
     "elapsed": 7,
     "status": "ok",
     "timestamp": 1635290096953,
     "user": {
      "displayName": "Vinicius Nery",
      "photoUrl": "https://lh3.googleusercontent.com/a-/AOh14GgskpJ_NRKHH95grqz01_Kgh6MLO26xbaMREp6wPhE=s64",
      "userId": "12869815464542738621"
     },
     "user_tz": 180
    },
    "id": "-bhytBXKiwGI",
    "outputId": "420330ae-9ab1-4dbd-efbb-9b9800bfcb3f"
   },
   "outputs": [
    {
     "data": {
      "text/plain": [
       "\"\\nfrom google.colab import drive\\ndrive.mount('/content/drive')\\n\""
      ]
     },
     "execution_count": 2,
     "metadata": {},
     "output_type": "execute_result"
    }
   ],
   "source": [
    "## Montando o Google Drive\n",
    "\"\"\"\n",
    "from google.colab import drive\n",
    "drive.mount('/content/drive')\n",
    "\"\"\""
   ]
  },
  {
   "cell_type": "code",
   "execution_count": 3,
   "metadata": {
    "colab": {
     "base_uri": "https://localhost:8080/"
    },
    "executionInfo": {
     "elapsed": 333,
     "status": "ok",
     "timestamp": 1635290101282,
     "user": {
      "displayName": "Vinicius Nery",
      "photoUrl": "https://lh3.googleusercontent.com/a-/AOh14GgskpJ_NRKHH95grqz01_Kgh6MLO26xbaMREp6wPhE=s64",
      "userId": "12869815464542738621"
     },
     "user_tz": 180
    },
    "id": "clixYWPVizo_",
    "outputId": "ec939e82-259f-42de-8b74-dddd2db3963a"
   },
   "outputs": [
    {
     "name": "stdout",
     "output_type": "stream",
     "text": [
      "Linhas: 114; Colunas: 2\n"
     ]
    }
   ],
   "source": [
    "## Lendo os dados (trimestre iniciado em janeiro de 2012 ao inicio em maio de 2021)\n",
    "sCaminho = \"/content/drive/Othercomputers/Meu modelo MacBook Air/Documents/IPEA/Curso IDP/Dados/\"\n",
    "sCaminho = \"/Users/vinicius/Meu Drive/UnB/Econometria/datasets/IDP/\"\n",
    "sArquivo = \"populacao_ocupada.xlsx\"\n",
    "\n",
    "## Lendo o DataFrane\n",
    "df = pd.read_excel(f\"{sCaminho}{sArquivo}\")\n",
    "\n",
    "# Vendo o tamanho da base\n",
    "print(f\"Linhas: {df.shape[0]}; Colunas: {df.shape[1]}\")"
   ]
  },
  {
   "cell_type": "code",
   "execution_count": 4,
   "metadata": {
    "executionInfo": {
     "elapsed": 4,
     "status": "ok",
     "timestamp": 1635290102592,
     "user": {
      "displayName": "Vinicius Nery",
      "photoUrl": "https://lh3.googleusercontent.com/a-/AOh14GgskpJ_NRKHH95grqz01_Kgh6MLO26xbaMREp6wPhE=s64",
      "userId": "12869815464542738621"
     },
     "user_tz": 180
    },
    "id": "2h-Fl0wVssEr"
   },
   "outputs": [],
   "source": [
    "## Convertendo a coluna de data pra datetime\n",
    "df['data'] = pd.to_datetime(df['data'])"
   ]
  },
  {
   "cell_type": "code",
   "execution_count": 5,
   "metadata": {
    "colab": {
     "base_uri": "https://localhost:8080/",
     "height": 455
    },
    "executionInfo": {
     "elapsed": 708,
     "status": "ok",
     "timestamp": 1635292996134,
     "user": {
      "displayName": "Vinicius Nery",
      "photoUrl": "https://lh3.googleusercontent.com/a-/AOh14GgskpJ_NRKHH95grqz01_Kgh6MLO26xbaMREp6wPhE=s64",
      "userId": "12869815464542738621"
     },
     "user_tz": 180
    },
    "id": "rEDAnNbXg4J9",
    "outputId": "5cc40f84-cbf3-4015-8404-da2daebb8adc"
   },
   "outputs": [
    {
     "data": {
      "text/html": [
       "<div>\n",
       "<style scoped>\n",
       "    .dataframe tbody tr th:only-of-type {\n",
       "        vertical-align: middle;\n",
       "    }\n",
       "\n",
       "    .dataframe tbody tr th {\n",
       "        vertical-align: top;\n",
       "    }\n",
       "\n",
       "    .dataframe thead th {\n",
       "        text-align: right;\n",
       "    }\n",
       "</style>\n",
       "<table border=\"1\" class=\"dataframe\">\n",
       "  <thead>\n",
       "    <tr style=\"text-align: right;\">\n",
       "      <th></th>\n",
       "      <th>data</th>\n",
       "      <th>ocupados</th>\n",
       "    </tr>\n",
       "  </thead>\n",
       "  <tbody>\n",
       "    <tr>\n",
       "      <th>101</th>\n",
       "      <td>2020-08-01</td>\n",
       "      <td>81666</td>\n",
       "    </tr>\n",
       "    <tr>\n",
       "      <th>102</th>\n",
       "      <td>2020-09-01</td>\n",
       "      <td>82464</td>\n",
       "    </tr>\n",
       "    <tr>\n",
       "      <th>103</th>\n",
       "      <td>2020-10-01</td>\n",
       "      <td>84301</td>\n",
       "    </tr>\n",
       "    <tr>\n",
       "      <th>104</th>\n",
       "      <td>2020-11-01</td>\n",
       "      <td>85578</td>\n",
       "    </tr>\n",
       "    <tr>\n",
       "      <th>105</th>\n",
       "      <td>2020-12-01</td>\n",
       "      <td>86179</td>\n",
       "    </tr>\n",
       "    <tr>\n",
       "      <th>106</th>\n",
       "      <td>2021-01-01</td>\n",
       "      <td>86025</td>\n",
       "    </tr>\n",
       "    <tr>\n",
       "      <th>107</th>\n",
       "      <td>2021-02-01</td>\n",
       "      <td>85899</td>\n",
       "    </tr>\n",
       "    <tr>\n",
       "      <th>108</th>\n",
       "      <td>2021-03-01</td>\n",
       "      <td>85650</td>\n",
       "    </tr>\n",
       "    <tr>\n",
       "      <th>109</th>\n",
       "      <td>2021-04-01</td>\n",
       "      <td>85940</td>\n",
       "    </tr>\n",
       "    <tr>\n",
       "      <th>110</th>\n",
       "      <td>2021-05-01</td>\n",
       "      <td>86708</td>\n",
       "    </tr>\n",
       "    <tr>\n",
       "      <th>111</th>\n",
       "      <td>2021-06-01</td>\n",
       "      <td>87791</td>\n",
       "    </tr>\n",
       "    <tr>\n",
       "      <th>112</th>\n",
       "      <td>2021-07-01</td>\n",
       "      <td>89042</td>\n",
       "    </tr>\n",
       "    <tr>\n",
       "      <th>113</th>\n",
       "      <td>2021-08-01</td>\n",
       "      <td>90188</td>\n",
       "    </tr>\n",
       "  </tbody>\n",
       "</table>\n",
       "</div>"
      ],
      "text/plain": [
       "          data  ocupados\n",
       "101 2020-08-01     81666\n",
       "102 2020-09-01     82464\n",
       "103 2020-10-01     84301\n",
       "104 2020-11-01     85578\n",
       "105 2020-12-01     86179\n",
       "106 2021-01-01     86025\n",
       "107 2021-02-01     85899\n",
       "108 2021-03-01     85650\n",
       "109 2021-04-01     85940\n",
       "110 2021-05-01     86708\n",
       "111 2021-06-01     87791\n",
       "112 2021-07-01     89042\n",
       "113 2021-08-01     90188"
      ]
     },
     "execution_count": 5,
     "metadata": {},
     "output_type": "execute_result"
    }
   ],
   "source": [
    "## Vendo o DataFrame\n",
    "df.tail(13)"
   ]
  },
  {
   "cell_type": "markdown",
   "metadata": {
    "id": "uswbWs7Ye1By"
   },
   "source": [
    "## Análise Descritiva da Série"
   ]
  },
  {
   "cell_type": "code",
   "execution_count": 6,
   "metadata": {
    "colab": {
     "base_uri": "https://localhost:8080/",
     "height": 346
    },
    "executionInfo": {
     "elapsed": 461,
     "status": "ok",
     "timestamp": 1635293040433,
     "user": {
      "displayName": "Vinicius Nery",
      "photoUrl": "https://lh3.googleusercontent.com/a-/AOh14GgskpJ_NRKHH95grqz01_Kgh6MLO26xbaMREp6wPhE=s64",
      "userId": "12869815464542738621"
     },
     "user_tz": 180
    },
    "id": "uXIzksHle4cZ",
    "outputId": "8924ea0b-b41c-46ac-c6fa-6d02fd6da169"
   },
   "outputs": [
    {
     "data": {
      "text/plain": [
       "[Text(0.5, 1.0, 'População Ocupada por Trimestre Móvel (milhares)'),\n",
       " Text(0.5, 0, 'Mês e Ano'),\n",
       " Text(0, 0.5, 'Ocupados')]"
      ]
     },
     "execution_count": 6,
     "metadata": {},
     "output_type": "execute_result"
    },
    {
     "data": {
      "image/png": "[encoded data removed]",
      "text/plain": [
       "<Figure size 432x288 with 1 Axes>"
      ]
     },
     "metadata": {
      "needs_background": "light"
     },
     "output_type": "display_data"
    }
   ],
   "source": [
    "## Grafando o comportamento da série\n",
    "plt.plot(df.data, df.ocupados, color=\"red\")\n",
    "plt.gca().set(title=\"População Ocupada por Trimestre Móvel (milhares)\", xlabel=\"Mês e Ano\", ylabel=\"Ocupados\")"
   ]
  },
  {
   "cell_type": "code",
   "execution_count": 7,
   "metadata": {
    "executionInfo": {
     "elapsed": 697,
     "status": "ok",
     "timestamp": 1635293155413,
     "user": {
      "displayName": "Vinicius Nery",
      "photoUrl": "https://lh3.googleusercontent.com/a-/AOh14GgskpJ_NRKHH95grqz01_Kgh6MLO26xbaMREp6wPhE=s64",
      "userId": "12869815464542738621"
     },
     "user_tz": 180
    },
    "id": "JVX0RliXxU4c"
   },
   "outputs": [],
   "source": [
    "## Criando colunas de ano e mês\n",
    "df['ano'] = [d.year for d in df.data]\n",
    "df['mes'] = [d.strftime('%b') for d in df.data]"
   ]
  },
  {
   "cell_type": "code",
   "execution_count": 8,
   "metadata": {
    "executionInfo": {
     "elapsed": 4,
     "status": "ok",
     "timestamp": 1635293158649,
     "user": {
      "displayName": "Vinicius Nery",
      "photoUrl": "https://lh3.googleusercontent.com/a-/AOh14GgskpJ_NRKHH95grqz01_Kgh6MLO26xbaMREp6wPhE=s64",
      "userId": "12869815464542738621"
     },
     "user_tz": 180
    },
    "id": "gv3nAI43ubZ5"
   },
   "outputs": [],
   "source": [
    "## Vendo o comportamento mensal a partir de 2015\n",
    "df2015 = df.query(\"data.dt.year >= 2015\")"
   ]
  },
  {
   "cell_type": "code",
   "execution_count": 9,
   "metadata": {
    "colab": {
     "base_uri": "https://localhost:8080/",
     "height": 405
    },
    "executionInfo": {
     "elapsed": 507,
     "status": "ok",
     "timestamp": 1635293448672,
     "user": {
      "displayName": "Vinicius Nery",
      "photoUrl": "https://lh3.googleusercontent.com/a-/AOh14GgskpJ_NRKHH95grqz01_Kgh6MLO26xbaMREp6wPhE=s64",
      "userId": "12869815464542738621"
     },
     "user_tz": 180
    },
    "id": "UA3fvbRiitT_",
    "outputId": "3cfede08-1bb8-4f59-abe1-61b220c4f038"
   },
   "outputs": [
    {
     "data": {
      "text/plain": [
       "Text(0.5, 1.0, 'População Ocupada por Mês')"
      ]
     },
     "execution_count": 9,
     "metadata": {},
     "output_type": "execute_result"
    },
    {
     "data": {
      "image/png": "[encoded data removed]",
      "text/plain": [
       "<Figure size 600x400 with 1 Axes>"
      ]
     },
     "metadata": {
      "needs_background": "light"
     },
     "output_type": "display_data"
    }
   ],
   "source": [
    "## Lista de anos\n",
    "lAnos = df2015['ano'].unique()\n",
    "\n",
    "# Cores\n",
    "np.random.seed(1)\n",
    "lCores = np.random.choice(list(mpl.colors.XKCD_COLORS.keys()), len(lAnos), replace=False)\n",
    "\n",
    "## Criando o gráfico\n",
    "plt.figure(figsize=(6,4), dpi=100)\n",
    "\n",
    "## Para cada ano,\n",
    "# enumerate: ver próxima célula\n",
    "for i, y in enumerate(lAnos):\n",
    "    plt.plot('mes', 'ocupados', data=df2015.loc[df2015.ano==y, :], color=lCores[i], label=y)\n",
    "    plt.text(df2015.loc[df2015.ano==y, :].shape[0] -.8, df2015.loc[df2015.ano==y, 'ocupados'][-1:].values[0], y, fontsize=8, color=lCores[i])\n",
    "\n",
    "plt.title(\"População Ocupada por Mês\", fontsize=14)\n",
    "# plt.show()"
   ]
  },
  {
   "cell_type": "code",
   "execution_count": 10,
   "metadata": {
    "colab": {
     "base_uri": "https://localhost:8080/"
    },
    "executionInfo": {
     "elapsed": 315,
     "status": "ok",
     "timestamp": 1635293399590,
     "user": {
      "displayName": "Vinicius Nery",
      "photoUrl": "https://lh3.googleusercontent.com/a-/AOh14GgskpJ_NRKHH95grqz01_Kgh6MLO26xbaMREp6wPhE=s64",
      "userId": "12869815464542738621"
     },
     "user_tz": 180
    },
    "id": "l0kNhII1i43R",
    "outputId": "fbb0419b-bedc-4161-cf02-c68318dd1320"
   },
   "outputs": [
    {
     "data": {
      "text/plain": [
       "{0: 2015, 1: 2016, 2: 2017, 3: 2018, 4: 2019, 5: 2020, 6: 2021}"
      ]
     },
     "execution_count": 10,
     "metadata": {},
     "output_type": "execute_result"
    }
   ],
   "source": [
    "## Vendo enumerate\n",
    "dict(enumerate(lAnos))"
   ]
  },
  {
   "cell_type": "code",
   "execution_count": 11,
   "metadata": {
    "executionInfo": {
     "elapsed": 367,
     "status": "ok",
     "timestamp": 1635293501895,
     "user": {
      "displayName": "Vinicius Nery",
      "photoUrl": "https://lh3.googleusercontent.com/a-/AOh14GgskpJ_NRKHH95grqz01_Kgh6MLO26xbaMREp6wPhE=s64",
      "userId": "12869815464542738621"
     },
     "user_tz": 180
    },
    "id": "JkPAo-YBoA7X"
   },
   "outputs": [],
   "source": [
    "## Colocando data como index\n",
    "df = df.set_index('data', drop=False)\n",
    "\n",
    "# Especificando frequência mensal\n",
    "df = df.asfreq('MS')"
   ]
  },
  {
   "cell_type": "code",
   "execution_count": 12,
   "metadata": {
    "colab": {
     "base_uri": "https://localhost:8080/",
     "height": 236
    },
    "executionInfo": {
     "elapsed": 511,
     "status": "ok",
     "timestamp": 1635293509538,
     "user": {
      "displayName": "Vinicius Nery",
      "photoUrl": "https://lh3.googleusercontent.com/a-/AOh14GgskpJ_NRKHH95grqz01_Kgh6MLO26xbaMREp6wPhE=s64",
      "userId": "12869815464542738621"
     },
     "user_tz": 180
    },
    "id": "6qc1nqIDFqSz",
    "outputId": "bbf96669-5c82-47db-cebd-abe7b0a89f66"
   },
   "outputs": [
    {
     "data": {
      "text/html": [
       "<div>\n",
       "<style scoped>\n",
       "    .dataframe tbody tr th:only-of-type {\n",
       "        vertical-align: middle;\n",
       "    }\n",
       "\n",
       "    .dataframe tbody tr th {\n",
       "        vertical-align: top;\n",
       "    }\n",
       "\n",
       "    .dataframe thead th {\n",
       "        text-align: right;\n",
       "    }\n",
       "</style>\n",
       "<table border=\"1\" class=\"dataframe\">\n",
       "  <thead>\n",
       "    <tr style=\"text-align: right;\">\n",
       "      <th></th>\n",
       "      <th>data</th>\n",
       "      <th>ocupados</th>\n",
       "      <th>ano</th>\n",
       "      <th>mes</th>\n",
       "    </tr>\n",
       "    <tr>\n",
       "      <th>data</th>\n",
       "      <th></th>\n",
       "      <th></th>\n",
       "      <th></th>\n",
       "      <th></th>\n",
       "    </tr>\n",
       "  </thead>\n",
       "  <tbody>\n",
       "    <tr>\n",
       "      <th>2012-03-01</th>\n",
       "      <td>2012-03-01</td>\n",
       "      <td>87632</td>\n",
       "      <td>2012</td>\n",
       "      <td>Mar</td>\n",
       "    </tr>\n",
       "    <tr>\n",
       "      <th>2012-04-01</th>\n",
       "      <td>2012-04-01</td>\n",
       "      <td>88407</td>\n",
       "      <td>2012</td>\n",
       "      <td>Apr</td>\n",
       "    </tr>\n",
       "    <tr>\n",
       "      <th>2012-05-01</th>\n",
       "      <td>2012-05-01</td>\n",
       "      <td>88863</td>\n",
       "      <td>2012</td>\n",
       "      <td>May</td>\n",
       "    </tr>\n",
       "    <tr>\n",
       "      <th>2012-06-01</th>\n",
       "      <td>2012-06-01</td>\n",
       "      <td>89129</td>\n",
       "      <td>2012</td>\n",
       "      <td>Jun</td>\n",
       "    </tr>\n",
       "    <tr>\n",
       "      <th>2012-07-01</th>\n",
       "      <td>2012-07-01</td>\n",
       "      <td>89181</td>\n",
       "      <td>2012</td>\n",
       "      <td>Jul</td>\n",
       "    </tr>\n",
       "  </tbody>\n",
       "</table>\n",
       "</div>"
      ],
      "text/plain": [
       "                 data  ocupados   ano  mes\n",
       "data                                      \n",
       "2012-03-01 2012-03-01     87632  2012  Mar\n",
       "2012-04-01 2012-04-01     88407  2012  Apr\n",
       "2012-05-01 2012-05-01     88863  2012  May\n",
       "2012-06-01 2012-06-01     89129  2012  Jun\n",
       "2012-07-01 2012-07-01     89181  2012  Jul"
      ]
     },
     "execution_count": 12,
     "metadata": {},
     "output_type": "execute_result"
    }
   ],
   "source": [
    "df.head()"
   ]
  },
  {
   "cell_type": "markdown",
   "metadata": {
    "id": "r_Gs_yj8vrMB"
   },
   "source": [
    "De modo geral, a população empregada cresce ao longo do ano e cai no primeiro trimestre do ano subsequente (fim de contratações temporárias por conta das festas de fim de ano).\n",
    "\n",
    "Podemos ver isso melhor com um gráfico de boxplots:"
   ]
  },
  {
   "cell_type": "code",
   "execution_count": 13,
   "metadata": {
    "colab": {
     "base_uri": "https://localhost:8080/",
     "height": 463
    },
    "executionInfo": {
     "elapsed": 1507,
     "status": "ok",
     "timestamp": 1635293566508,
     "user": {
      "displayName": "Vinicius Nery",
      "photoUrl": "https://lh3.googleusercontent.com/a-/AOh14GgskpJ_NRKHH95grqz01_Kgh6MLO26xbaMREp6wPhE=s64",
      "userId": "12869815464542738621"
     },
     "user_tz": 180
    },
    "id": "BGmHlHTnux9A",
    "outputId": "7d5d5c47-b1b7-4ed0-aba8-7223ca379d6f"
   },
   "outputs": [
    {
     "data": {
      "image/png": "[encoded data removed]",
      "text/plain": [
       "<Figure size 1440x504 with 2 Axes>"
      ]
     },
     "metadata": {
      "needs_background": "light"
     },
     "output_type": "display_data"
    }
   ],
   "source": [
    "## Desenhando o gráfico usando o seaborn\n",
    "# Seaborn: bibilioteca baseada no matplotlib, mas mais potente/\"científica\"\n",
    "\n",
    "# Criando um gráfico de uma linha com duas colunas\n",
    "fig, ax = plt.subplots(1, 2, figsize=(20,7))\n",
    "\n",
    "# Distribuição de cada ano\n",
    "sns.boxplot(x='ano', y='ocupados', data=df, ax=ax[0])\n",
    "\n",
    "# Distribuição de cada mês\n",
    "sns.boxplot(x='mes', y='ocupados', data=df, ax=ax[1])\n",
    "\n",
    "# Set Title\n",
    "ax[0].set_title('Boxplots por Ano: Tendência', fontsize=18); \n",
    "ax[1].set_title('Boxplots por Mês: Sazonalidade', fontsize=18)\n",
    "plt.show()"
   ]
  },
  {
   "cell_type": "markdown",
   "metadata": {
    "id": "0PbwiDZA05yR"
   },
   "source": [
    "## Séries Estacionárias e Teste de Estacionariedade\n",
    "\n",
    "Uma série é dita estacionária quando seus valores não são função do tempo.\n",
    "Em outras palavras, suas propriedades estátisticas (média, variância, autocorrelação) são constantes ao longo do tempo.\n",
    "\n",
    "Séries estacionárias são importantes porque facilitam a adoção de modelos preditivos (principalmente lineares).\n",
    "Vimos que um dos pressupostos da Regressão Linear é que as variáveis independentes não podem ser auto-correlacionadas, o que não ocorre com séries estacionárias."
   ]
  },
  {
   "cell_type": "code",
   "execution_count": 14,
   "metadata": {
    "executionInfo": {
     "elapsed": 357,
     "status": "ok",
     "timestamp": 1635293927411,
     "user": {
      "displayName": "Vinicius Nery",
      "photoUrl": "https://lh3.googleusercontent.com/a-/AOh14GgskpJ_NRKHH95grqz01_Kgh6MLO26xbaMREp6wPhE=s64",
      "userId": "12869815464542738621"
     },
     "user_tz": 180
    },
    "id": "wPDp69hezzDu"
   },
   "outputs": [],
   "source": [
    "## Testando a estacionaridade da série\n",
    "# Módulos\n",
    "import econometric_functions as ef\n",
    "from statsmodels.tsa.stattools import adfuller, kpss"
   ]
  },
  {
   "cell_type": "code",
   "execution_count": 15,
   "metadata": {
    "colab": {
     "base_uri": "https://localhost:8080/"
    },
    "executionInfo": {
     "elapsed": 379,
     "status": "ok",
     "timestamp": 1635293971748,
     "user": {
      "displayName": "Vinicius Nery",
      "photoUrl": "https://lh3.googleusercontent.com/a-/AOh14GgskpJ_NRKHH95grqz01_Kgh6MLO26xbaMREp6wPhE=s64",
      "userId": "12869815464542738621"
     },
     "user_tz": 180
    },
    "id": "Y1FHGBgq2BwW",
    "outputId": "50c99e65-294c-4d4e-cd23-1fcca7fe034a"
   },
   "outputs": [
    {
     "name": "stdout",
     "output_type": "stream",
     "text": [
      "P-valor do teste: 0.0011921050683469062\n",
      "H0: a série NÃO é estacionária e possui raiz unitária.\n"
     ]
    }
   ],
   "source": [
    "## Testando estacionariedade usando o teste Aumentado de Dickey Fuller (ADF)\n",
    "resultado_adf = adfuller(df['ocupados'], autolag='AIC')\n",
    "print(f\"P-valor do teste: {resultado_adf[1]}\")\n",
    "print(\"H0: a série NÃO é estacionária e possui raiz unitária.\")\n",
    "# Como p < 0,05, rejeitamos H0: a série é estacionária."
   ]
  },
  {
   "cell_type": "code",
   "execution_count": 16,
   "metadata": {
    "collapsed": false,
    "pycharm": {
     "name": "#%%\n"
    }
   },
   "outputs": [
    {
     "name": "stdout",
     "output_type": "stream",
     "text": [
      "ADF p-value: 0.00119. The H0 of non-stationarity and unit root is rejected (series is stationary).\n"
     ]
    },
    {
     "data": {
      "image/png": "[encoded data removed]",
      "text/plain": [
       "<Figure size 432x288 with 1 Axes>"
      ]
     },
     "metadata": {
      "needs_background": "light"
     },
     "output_type": "display_data"
    }
   ],
   "source": [
    "## Testando econometric_functions\n",
    "ef.stationarity_test(df['ocupados'])"
   ]
  },
  {
   "cell_type": "code",
   "execution_count": 18,
   "metadata": {
    "colab": {
     "base_uri": "https://localhost:8080/"
    },
    "executionInfo": {
     "elapsed": 604,
     "status": "ok",
     "timestamp": 1635294033805,
     "user": {
      "displayName": "Vinicius Nery",
      "photoUrl": "https://lh3.googleusercontent.com/a-/AOh14GgskpJ_NRKHH95grqz01_Kgh6MLO26xbaMREp6wPhE=s64",
      "userId": "12869815464542738621"
     },
     "user_tz": 180
    },
    "id": "L53mJ4U52H2i",
    "outputId": "96aa2efc-ce65-4fd9-c1c1-f7fa35b973a8"
   },
   "outputs": [
    {
     "name": "stdout",
     "output_type": "stream",
     "text": [
      "P-valor do teste: 0.1\n",
      "H0: a série é estacionária e NÃO possui raiz unitária.\n"
     ]
    },
    {
     "name": "stderr",
     "output_type": "stream",
     "text": [
      "/usr/local/lib/python3.7/dist-packages/statsmodels/tsa/stattools.py:1685: FutureWarning: The behavior of using lags=None will change in the next release. Currently lags=None is the same as lags='legacy', and so a sample-size lag length is used. After the next release, the default will change to be the same as lags='auto' which uses an automatic lag length selection method. To silence this warning, either use 'auto' or 'legacy'\n",
      "  warn(msg, FutureWarning)\n",
      "/usr/local/lib/python3.7/dist-packages/statsmodels/tsa/stattools.py:1711: InterpolationWarning: p-value is greater than the indicated p-value\n",
      "  warn(\"p-value is greater than the indicated p-value\", InterpolationWarning)\n"
     ]
    }
   ],
   "source": [
    "## Testando estacionariedade da tendência usando o teste KPSS\n",
    "resultado_kpss = kpss(df['ocupados'])\n",
    "print(f\"P-valor do teste: {resultado_kpss[1]}\")\n",
    "print(\"H0: a série é estacionária e NÃO possui raiz unitária.\")\n",
    "\n",
    "# Warning: pela distribuição da série, o p-valor não pode ser calculado de maneira exata,\n",
    "# mas tem como valor mínimo 0,1 (não se pode rejeitar H0)\n",
    "# Mais infos: https://stats.stackexchange.com/questions/286124/kpss-test-in-python-with-statsmodels/286167"
   ]
  },
  {
   "cell_type": "markdown",
   "metadata": {
    "id": "nMysPuZl9i_S"
   },
   "source": [
    "## Autocorrelação\n",
    "\n",
    "Quanto maior a autocorrelação de uma série, mais úteis são os valores anteriores como preditores dos valores futuros."
   ]
  },
  {
   "cell_type": "code",
   "execution_count": 19,
   "metadata": {
    "executionInfo": {
     "elapsed": 402,
     "status": "ok",
     "timestamp": 1635294151931,
     "user": {
      "displayName": "Vinicius Nery",
      "photoUrl": "https://lh3.googleusercontent.com/a-/AOh14GgskpJ_NRKHH95grqz01_Kgh6MLO26xbaMREp6wPhE=s64",
      "userId": "12869815464542738621"
     },
     "user_tz": 180
    },
    "id": "snAy56tF9lZs"
   },
   "outputs": [],
   "source": [
    "## Módulos necessários\n",
    "from statsmodels.tsa.stattools import acf, pacf\n",
    "from statsmodels.graphics.tsaplots import plot_acf, plot_pacf"
   ]
  },
  {
   "cell_type": "code",
   "execution_count": 20,
   "metadata": {
    "colab": {
     "base_uri": "https://localhost:8080/",
     "height": 545
    },
    "executionInfo": {
     "elapsed": 656,
     "status": "ok",
     "timestamp": 1635294190992,
     "user": {
      "displayName": "Vinicius Nery",
      "photoUrl": "https://lh3.googleusercontent.com/a-/AOh14GgskpJ_NRKHH95grqz01_Kgh6MLO26xbaMREp6wPhE=s64",
      "userId": "12869815464542738621"
     },
     "user_tz": 180
    },
    "id": "rU2MPPxG9lX2",
    "outputId": "1869cdb1-652d-4724-daca-7317fb8a796b"
   },
   "outputs": [
    {
     "data": {
      "image/png": "[encoded data removed]",
      "text/plain": [
       "<Figure size 432x288 with 1 Axes>"
      ]
     },
     "execution_count": 20,
     "metadata": {},
     "output_type": "execute_result"
    },
    {
     "data": {
      "image/png": "[encoded data removed]",
      "text/plain": [
       "<Figure size 432x288 with 1 Axes>"
      ]
     },
     "metadata": {
      "needs_background": "light"
     },
     "output_type": "display_data"
    }
   ],
   "source": [
    "## Vendo a autocorrelação com valores até 1 anos antes\n",
    "plot_acf(df.ocupados.tolist(), lags=12)\n",
    "\n",
    "# Área sombreada: zona de significância (auto correlação até 4 termos é significante)."
   ]
  },
  {
   "cell_type": "markdown",
   "metadata": {
    "id": "K5d6dskXBRB9"
   },
   "source": [
    "Uma outra forma de se distinguir ruído branco e série estacionária é pelo plot de autocorrelação: se todos os valores estiverem dentro do intervalo de confiança (que não estão), a série é um ruído branco.\n",
    "\n",
    "Nossa série, portanto, é estacionária, mas não um ruído branco."
   ]
  },
  {
   "cell_type": "code",
   "execution_count": 21,
   "metadata": {
    "colab": {
     "base_uri": "https://localhost:8080/",
     "height": 545
    },
    "executionInfo": {
     "elapsed": 1423,
     "status": "ok",
     "timestamp": 1635294432231,
     "user": {
      "displayName": "Vinicius Nery",
      "photoUrl": "https://lh3.googleusercontent.com/a-/AOh14GgskpJ_NRKHH95grqz01_Kgh6MLO26xbaMREp6wPhE=s64",
      "userId": "12869815464542738621"
     },
     "user_tz": 180
    },
    "id": "RNrvdSjc9lUz",
    "outputId": "246af03c-ab83-478d-d8aa-810addd1a11e"
   },
   "outputs": [
    {
     "data": {
      "image/png": "[encoded data removed]",
      "text/plain": [
       "<Figure size 432x288 with 1 Axes>"
      ]
     },
     "execution_count": 21,
     "metadata": {},
     "output_type": "execute_result"
    },
    {
     "data": {
      "image/png": "[encoded data removed]",
      "text/plain": [
       "<Figure size 432x288 with 1 Axes>"
      ]
     },
     "metadata": {
      "needs_background": "light"
     },
     "output_type": "display_data"
    }
   ],
   "source": [
    "## Vendo a autocorrelação com valores até 3 anos antes\n",
    "plot_acf(df.ocupados.tolist(), lags=36)"
   ]
  },
  {
   "cell_type": "code",
   "execution_count": 22,
   "metadata": {
    "colab": {
     "base_uri": "https://localhost:8080/",
     "height": 241
    },
    "executionInfo": {
     "elapsed": 582,
     "status": "ok",
     "timestamp": 1635294459174,
     "user": {
      "displayName": "Vinicius Nery",
      "photoUrl": "https://lh3.googleusercontent.com/a-/AOh14GgskpJ_NRKHH95grqz01_Kgh6MLO26xbaMREp6wPhE=s64",
      "userId": "12869815464542738621"
     },
     "user_tz": 180
    },
    "id": "IP3XFDPs_Slw",
    "outputId": "eed739f6-efc1-402b-d9dc-148ad07964bc"
   },
   "outputs": [
    {
     "data": {
      "image/png": "[encoded data removed]",
      "text/plain": [
       "<Figure size 720x216 with 5 Axes>"
      ]
     },
     "metadata": {
      "needs_background": "light"
     },
     "output_type": "display_data"
    }
   ],
   "source": [
    "## Podemos visualizar a autocorrelação de uma outra forma, criando um scatterplot \n",
    "# Eixo x: série; Eixo y: série + algum período\n",
    "from pandas.plotting import lag_plot\n",
    "\n",
    "## Criando objeto gráfico com 1 linha e 4 colunas e eixos na mesma dimensão\n",
    "fig, ax = plt.subplots(1, 5, figsize=(10,3), sharex=True, sharey=True)\n",
    "\n",
    "## Loopando através de cada posição e plotando\n",
    "for i, ax in enumerate(ax.flatten()[:5]):\n",
    "    lag_plot(df.ocupados, lag=i+1, ax=ax, c='firebrick')\n",
    "    ax.set_title('Série - ' + str(i+1))\n",
    "\n",
    "## Vemos que se forma uma reta de 45º graus em todos os plots, o que\n",
    "## significa que a série possui alta correlação (principalmente de 1º estágio)"
   ]
  },
  {
   "cell_type": "markdown",
   "metadata": {
    "id": "5M88Qu_u-MYS"
   },
   "source": [
    "## Séries Estacionárias x Ruído Branco"
   ]
  },
  {
   "cell_type": "markdown",
   "metadata": {
    "id": "5szTmi2_-SfM"
   },
   "source": [
    "Assim como uma série estacionária, um ruído branco não possui mudanças em suas estatísticas.\n",
    "Contudo, o ruído branco é completamente aleatório (ou seja, não possui autocorrelação) e possui média 0.\n",
    "\n",
    "Em termos de equação, um ruído branco é uma série temporal\n",
    "\n",
    "Y<sub>t</sub> = H Y<sub>t</sub> + e<sub>t</sub>,\n",
    "\n",
    "onde H é **zero** (não há correlação serial/autocorrelação) e e<sub>t</sub> é um termo de erro que segue uma distribuição aleatória normal com variância constante e média 0."
   ]
  },
  {
   "cell_type": "code",
   "execution_count": 23,
   "metadata": {
    "colab": {
     "base_uri": "https://localhost:8080/",
     "height": 298
    },
    "executionInfo": {
     "elapsed": 417,
     "status": "ok",
     "timestamp": 1635294561691,
     "user": {
      "displayName": "Vinicius Nery",
      "photoUrl": "https://lh3.googleusercontent.com/a-/AOh14GgskpJ_NRKHH95grqz01_Kgh6MLO26xbaMREp6wPhE=s64",
      "userId": "12869815464542738621"
     },
     "user_tz": 180
    },
    "id": "w79z1EqG956Y",
    "outputId": "31b7fc3c-dda8-418e-d6a3-ff8e6d883cf4"
   },
   "outputs": [
    {
     "data": {
      "text/plain": [
       "<matplotlib.axes._subplots.AxesSubplot at 0x7f88d33c3e50>"
      ]
     },
     "execution_count": 23,
     "metadata": {},
     "output_type": "execute_result"
    },
    {
     "data": {
      "image/png": "[encoded data removed]",
      "text/plain": [
       "<Figure size 432x288 with 1 Axes>"
      ]
     },
     "metadata": {
      "needs_background": "light"
     },
     "output_type": "display_data"
    }
   ],
   "source": [
    "## Valores normais aleatórios (nem todo ruído branco é normal!)\n",
    "valores_aleatorios_normais = np.random.randn(1000)\n",
    "\n",
    "## Plottando\n",
    "plt.hlines(y=np.mean(valores_aleatorios_normais), xmin=0, xmax=1000, color=\"red\", zorder=5)\n",
    "pd.Series(valores_aleatorios_normais).plot(title='Ruído Branco', color='gray', zorder=0)"
   ]
  },
  {
   "attachments": {},
   "cell_type": "markdown",
   "metadata": {
    "id": "fnV-CLg-CgNG"
   },
   "source": [
    "# Passeios Aleatórios\n",
    "\n",
    "\"*O melhor chute para o valor de hoje é o valor de ontem.*\""
   ]
  },
  {
   "cell_type": "markdown",
   "metadata": {
    "id": "MDnWQuQqGMDZ"
   },
   "source": [
    "### Sem deslocamento"
   ]
  },
  {
   "attachments": {},
   "cell_type": "markdown",
   "metadata": {
    "id": "Qhj-KUL_Fdot"
   },
   "source": [
    "Em termos de equação, um **passeio aleatório sem deslocamento** é uma série temporal\n",
    "\n",
    "$Y_t = Y_{t-1} + \\epsilon_t$\n",
    "\n",
    "onde $\\epsilon_t$ é um ruído branco.\n",
    "\n",
    "Assim como uma série estacionária, sua esperança será constante ao longo do tempo; sua variância, porém, varia de forma proporcional a $t$."
   ]
  },
  {
   "cell_type": "code",
   "execution_count": 24,
   "metadata": {
    "colab": {
     "base_uri": "https://localhost:8080/",
     "height": 282
    },
    "executionInfo": {
     "elapsed": 790,
     "status": "ok",
     "timestamp": 1635294679768,
     "user": {
      "displayName": "Vinicius Nery",
      "photoUrl": "https://lh3.googleusercontent.com/a-/AOh14GgskpJ_NRKHH95grqz01_Kgh6MLO26xbaMREp6wPhE=s64",
      "userId": "12869815464542738621"
     },
     "user_tz": 180
    },
    "id": "N0JH3GHn3L51",
    "outputId": "4ee35a04-806f-40f6-be3b-fced91240e01"
   },
   "outputs": [
    {
     "data": {
      "text/plain": [
       "<matplotlib.collections.LineCollection at 0x7f88d322a310>"
      ]
     },
     "execution_count": 24,
     "metadata": {},
     "output_type": "execute_result"
    },
    {
     "data": {
      "image/png": "[encoded data removed]",
      "text/plain": [
       "<Figure size 432x288 with 1 Axes>"
      ]
     },
     "metadata": {
      "needs_background": "light"
     },
     "output_type": "display_data"
    }
   ],
   "source": [
    "## Criando os dados\n",
    "# Valor inicial 0\n",
    "passeio = [0]\n",
    "\n",
    "## Criando 250 valores\n",
    "for i in range(250):\n",
    "    # Criando o erro aleatório: random fornece um valor aleatório entre 0 e 1\n",
    "    # Se menor que 0.5, diminuir 1, caso contrário, somar 1\n",
    "    erro = -1 if np.random.random() < 0.5 else 1\n",
    "    passeio.append(passeio[-1] + erro)\n",
    "\n",
    "## Plottando a série e sua média\n",
    "plt.plot(passeio)\n",
    "plt.hlines(y=np.mean(passeio), xmin=0, xmax=250, color='red')"
   ]
  },
  {
   "cell_type": "code",
   "execution_count": 25,
   "metadata": {
    "colab": {
     "base_uri": "https://localhost:8080/",
     "height": 545
    },
    "executionInfo": {
     "elapsed": 987,
     "status": "ok",
     "timestamp": 1635294787592,
     "user": {
      "displayName": "Vinicius Nery",
      "photoUrl": "https://lh3.googleusercontent.com/a-/AOh14GgskpJ_NRKHH95grqz01_Kgh6MLO26xbaMREp6wPhE=s64",
      "userId": "12869815464542738621"
     },
     "user_tz": 180
    },
    "id": "Rd98RmmtGV3r",
    "outputId": "a030f753-b78b-4d9a-df1d-089093115f58"
   },
   "outputs": [
    {
     "data": {
      "image/png": "[encoded data removed]",
      "text/plain": [
       "<Figure size 432x288 with 1 Axes>"
      ]
     },
     "execution_count": 25,
     "metadata": {},
     "output_type": "execute_result"
    },
    {
     "data": {
      "image/png": "[encoded data removed]",
      "text/plain": [
       "<Figure size 432x288 with 1 Axes>"
      ]
     },
     "metadata": {
      "needs_background": "light"
     },
     "output_type": "display_data"
    }
   ],
   "source": [
    "## Vendo a autocorrelação: ela fica, majoritariamente, fora do intervalo sombreado\n",
    "# Ou seja, não pode ser ruído branco!\n",
    "plot_acf(passeio, lags=10)"
   ]
  },
  {
   "cell_type": "code",
   "execution_count": 26,
   "metadata": {
    "colab": {
     "base_uri": "https://localhost:8080/",
     "height": 298
    },
    "executionInfo": {
     "elapsed": 1267,
     "status": "ok",
     "timestamp": 1635294824282,
     "user": {
      "displayName": "Vinicius Nery",
      "photoUrl": "https://lh3.googleusercontent.com/a-/AOh14GgskpJ_NRKHH95grqz01_Kgh6MLO26xbaMREp6wPhE=s64",
      "userId": "12869815464542738621"
     },
     "user_tz": 180
    },
    "id": "A-Nj5ujnHOw_",
    "outputId": "41d25820-bc7f-4b7c-d584-7f8c437c1862"
   },
   "outputs": [
    {
     "name": "stdout",
     "output_type": "stream",
     "text": [
      "Média: 0.056\n"
     ]
    },
    {
     "data": {
      "image/png": "[encoded data removed]",
      "text/plain": [
       "<Figure size 432x288 with 1 Axes>"
      ]
     },
     "metadata": {
      "needs_background": "light"
     },
     "output_type": "display_data"
    }
   ],
   "source": [
    "## Pela forma como são criadas, a diferenciação de um passeio aleatório deve gerar um ruído branco:\n",
    "# Diferenciado\n",
    "passeio_diferenca = pd.Series(passeio).diff()\n",
    "\n",
    "## Plottando\n",
    "plt.hlines(y=np.mean(passeio_diferenca), xmin=0, xmax=250, color=\"red\", zorder=5)\n",
    "passeio_diferenca.plot(title='Passeio Aleatório e Ruído Branco', color='gray', zorder=0)\n",
    "print(f\"Média: {np.mean(passeio_diferenca)}\")"
   ]
  },
  {
   "cell_type": "code",
   "execution_count": 27,
   "metadata": {
    "colab": {
     "base_uri": "https://localhost:8080/",
     "height": 298
    },
    "executionInfo": {
     "elapsed": 651,
     "status": "ok",
     "timestamp": 1635294950772,
     "user": {
      "displayName": "Vinicius Nery",
      "photoUrl": "https://lh3.googleusercontent.com/a-/AOh14GgskpJ_NRKHH95grqz01_Kgh6MLO26xbaMREp6wPhE=s64",
      "userId": "12869815464542738621"
     },
     "user_tz": 180
    },
    "id": "m8uUeg9XHpMg",
    "outputId": "dc74889b-0902-40f0-b2df-d38542353415"
   },
   "outputs": [
    {
     "name": "stdout",
     "output_type": "stream",
     "text": [
      "Média: 12.589285714285714\n"
     ]
    },
    {
     "data": {
      "image/png": "[encoded data removed]",
      "text/plain": [
       "<Figure size 432x288 with 1 Axes>"
      ]
     },
     "metadata": {
      "needs_background": "light"
     },
     "output_type": "display_data"
    }
   ],
   "source": [
    "## Fazendo a mesma coisa com nossa série de ocupados para testar se ela é um passeio aleatório\n",
    "# Diferenciando\n",
    "ocupados_diferenca = pd.Series(df.ocupados).diff().reset_index(drop=True)\n",
    "\n",
    "## Plottando\n",
    "plt.hlines(y=np.mean(ocupados_diferenca), xmin=0, xmax=ocupados_diferenca.shape[0], color=\"red\", zorder=5)\n",
    "ocupados_diferenca.plot(title='Passeio Aleatório e Ruído Branco?', color='gray', zorder=0)\n",
    "print(f\"Média: {np.mean(ocupados_diferenca)}\")"
   ]
  },
  {
   "attachments": {},
   "cell_type": "markdown",
   "metadata": {
    "id": "XEQdDKr5KR5G"
   },
   "source": [
    "A média é próxima de 0 (dado que os valores estão na casa de milhões); será que nossa série é um passeio aleatório?\n",
    "\n",
    "Lembre-se que uma série estacionária possui média, variância (e consequentemente, desvio-padrão) constante ao longo do tempo, enquanto isso não ocorre com passeios aleatórios."
   ]
  },
  {
   "attachments": {},
   "cell_type": "markdown",
   "metadata": {},
   "source": [
    "Vendo o passeio aleatório"
   ]
  },
  {
   "cell_type": "code",
   "execution_count": 28,
   "metadata": {
    "colab": {
     "base_uri": "https://localhost:8080/",
     "height": 305
    },
    "executionInfo": {
     "elapsed": 554,
     "status": "ok",
     "timestamp": 1635295055720,
     "user": {
      "displayName": "Vinicius Nery",
      "photoUrl": "https://lh3.googleusercontent.com/a-/AOh14GgskpJ_NRKHH95grqz01_Kgh6MLO26xbaMREp6wPhE=s64",
      "userId": "12869815464542738621"
     },
     "user_tz": 180
    },
    "id": "lrcsIxTPIohW",
    "outputId": "94017bca-8578-487f-fe25-55e92de53a63"
   },
   "outputs": [
    {
     "data": {
      "text/plain": [
       "<matplotlib.legend.Legend at 0x7f88d3088c90>"
      ]
     },
     "execution_count": 28,
     "metadata": {},
     "output_type": "execute_result"
    },
    {
     "data": {
      "image/png": "[encoded data removed]",
      "text/plain": [
       "<Figure size 432x288 with 1 Axes>"
      ]
     },
     "metadata": {
      "needs_background": "light"
     },
     "output_type": "display_data"
    }
   ],
   "source": [
    "# Separando o array em 20 grupos de tamanhos (quase) iguais (array_split)\n",
    "chunks = np.array_split(passeio, 20)\n",
    "\n",
    "# Criando lista para armazenar médias e desvios-padrão\n",
    "medias, desvios_padrao = [], []\n",
    "\n",
    "# Média e desvio padrão de cada grupo\n",
    "for chunk in chunks:\n",
    "    medias.append(np.mean(chunk))\n",
    "    desvios_padrao.append(np.std(chunk))\n",
    "    \n",
    "    \n",
    "# Plottando\n",
    "plt.title('Comparação de Médias e Desvios-Padrão', size=20)\n",
    "plt.plot(np.arange(len(medias)), [np.mean(passeio)] * len(medias), label='Média Geral', lw=1.5)\n",
    "plt.scatter(x=np.arange(len(medias)), y=medias, label='Médias Grupais', s=100)\n",
    "plt.plot(np.arange(len(desvios_padrao)), [np.std(passeio)] * len(desvios_padrao), label='DP Geral', lw=1.5, color='orange')\n",
    "plt.scatter(x=np.arange(len(desvios_padrao)), y=desvios_padrao, label='DP Grupais', color='orange', s=100)\n",
    "plt.legend()"
   ]
  },
  {
   "attachments": {},
   "cell_type": "markdown",
   "metadata": {},
   "source": [
    "Série de população ocupada"
   ]
  },
  {
   "cell_type": "code",
   "execution_count": 29,
   "metadata": {
    "colab": {
     "base_uri": "https://localhost:8080/",
     "height": 305
    },
    "executionInfo": {
     "elapsed": 748,
     "status": "ok",
     "timestamp": 1635295130031,
     "user": {
      "displayName": "Vinicius Nery",
      "photoUrl": "https://lh3.googleusercontent.com/a-/AOh14GgskpJ_NRKHH95grqz01_Kgh6MLO26xbaMREp6wPhE=s64",
      "userId": "12869815464542738621"
     },
     "user_tz": 180
    },
    "id": "sFr_eCS4IDJz",
    "outputId": "8be89875-c1dd-41c9-ef6c-30d9e4db49d1"
   },
   "outputs": [
    {
     "data": {
      "text/plain": [
       "<matplotlib.legend.Legend at 0x7f88d2fa0f10>"
      ]
     },
     "execution_count": 29,
     "metadata": {},
     "output_type": "execute_result"
    },
    {
     "data": {
      "image/png": "[encoded data removed]",
      "text/plain": [
       "<Figure size 432x288 with 1 Axes>"
      ]
     },
     "metadata": {
      "needs_background": "light"
     },
     "output_type": "display_data"
    }
   ],
   "source": [
    "# Separando o array em 20 grupos de tamanhos (quase) iguais (array_split)\n",
    "chunks = np.array_split(df.ocupados.values, 20)\n",
    "\n",
    "# Criando lista para armazenar médias e desvios-padrão\n",
    "medias, desvios_padrao = [], []\n",
    "\n",
    "# Média e desvio padrão de cada grupo\n",
    "for chunk in chunks:\n",
    "    medias.append(np.mean(chunk))\n",
    "    desvios_padrao.append(np.std(chunk))\n",
    "    \n",
    "# Plottando\n",
    "plt.title('Comparação de Médias e Desvios-Padrão', size=20)\n",
    "plt.plot(np.arange(len(medias)), [np.mean(df.ocupados.values)] * len(medias), label='Média Geral', lw=1.5)\n",
    "plt.scatter(x=np.arange(len(medias)), y=medias, label='Médias Grupais', s=100)\n",
    "plt.plot(np.arange(len(desvios_padrao)), [np.std(df.ocupados.values)] * len(desvios_padrao), label='DP Geral', lw=1.5, color='orange')\n",
    "plt.scatter(x=np.arange(len(desvios_padrao)), y=desvios_padrao, label='DP Grupais', color='orange', s=100)\n",
    "plt.legend()"
   ]
  },
  {
   "cell_type": "markdown",
   "metadata": {
    "id": "q6lA2gChLhMf"
   },
   "source": [
    "### Passeio Aleatório com Deslocamento"
   ]
  },
  {
   "cell_type": "code",
   "execution_count": 31,
   "metadata": {
    "colab": {
     "base_uri": "https://localhost:8080/",
     "height": 282
    },
    "executionInfo": {
     "elapsed": 54,
     "status": "ok",
     "timestamp": 1635285467917,
     "user": {
      "displayName": "Vinicius Nery",
      "photoUrl": "https://lh3.googleusercontent.com/a-/AOh14GgskpJ_NRKHH95grqz01_Kgh6MLO26xbaMREp6wPhE=s64",
      "userId": "12869815464542738621"
     },
     "user_tz": 180
    },
    "id": "kNLxbpJzKKcC",
    "outputId": "978efaf8-c576-44a3-a7e2-fa56f923aeac"
   },
   "outputs": [
    {
     "data": {
      "text/plain": [
       "<matplotlib.collections.LineCollection at 0x7f8fbcf4cd50>"
      ]
     },
     "execution_count": 31,
     "metadata": {},
     "output_type": "execute_result"
    },
    {
     "data": {
      "image/png": "[encoded data removed]",
      "text/plain": [
       "<Figure size 432x288 with 1 Axes>"
      ]
     },
     "metadata": {
      "needs_background": "light"
     },
     "output_type": "display_data"
    }
   ],
   "source": [
    "## Adicionando o deslocamento a cada etapa\n",
    "passeio_deslocamento = pd.Series(passeio) + 5\n",
    "\n",
    "## Plottando a série e sua média\n",
    "plt.plot(passeio_deslocamento)\n",
    "plt.hlines(y=np.mean(passeio_deslocamento), xmin=0, xmax=250, color='red')"
   ]
  },
  {
   "cell_type": "code",
   "execution_count": 32,
   "metadata": {
    "colab": {
     "base_uri": "https://localhost:8080/",
     "height": 298
    },
    "executionInfo": {
     "elapsed": 48,
     "status": "ok",
     "timestamp": 1635285467918,
     "user": {
      "displayName": "Vinicius Nery",
      "photoUrl": "https://lh3.googleusercontent.com/a-/AOh14GgskpJ_NRKHH95grqz01_Kgh6MLO26xbaMREp6wPhE=s64",
      "userId": "12869815464542738621"
     },
     "user_tz": 180
    },
    "id": "ZHxqWBWDMLl-",
    "outputId": "c671a849-d21b-45fc-d0fb-6441ae762cf5"
   },
   "outputs": [
    {
     "name": "stdout",
     "output_type": "stream",
     "text": [
      "Média: 0.056\n"
     ]
    },
    {
     "data": {
      "image/png": "[encoded data removed]",
      "text/plain": [
       "<Figure size 432x288 with 1 Axes>"
      ]
     },
     "metadata": {
      "needs_background": "light"
     },
     "output_type": "display_data"
    }
   ],
   "source": [
    "## Pela forma como são criadas, a diferenciação de um passeio aleatório deve gerar um passeio aleatório:\n",
    "# Diferenciado\n",
    "passeio_deslocamento_diferenca = pd.Series(passeio_deslocamento).diff()\n",
    "\n",
    "# Plottando\n",
    "## Plottando\n",
    "plt.hlines(y=np.mean(passeio_deslocamento_diferenca), xmin=0, xmax=250, color=\"red\", zorder=5)\n",
    "passeio_diferenca.plot(title='Passeio Aleatório com Deslocamento e Ruído Branco', color='gray', zorder=0)\n",
    "print(f\"Média: {np.mean(passeio_deslocamento_diferenca)}\")"
   ]
  },
  {
   "cell_type": "markdown",
   "metadata": {
    "id": "EpiGQtTeMwPb"
   },
   "source": [
    "----\n",
    "\n",
    "# Exportações e Importações: Teste de Cointegração e Quebras Estruturais\n",
    "\n",
    "----"
   ]
  },
  {
   "cell_type": "code",
   "execution_count": 30,
   "metadata": {
    "colab": {
     "base_uri": "https://localhost:8080/"
    },
    "executionInfo": {
     "elapsed": 335,
     "status": "ok",
     "timestamp": 1635295419337,
     "user": {
      "displayName": "Vinicius Nery",
      "photoUrl": "https://lh3.googleusercontent.com/a-/AOh14GgskpJ_NRKHH95grqz01_Kgh6MLO26xbaMREp6wPhE=s64",
      "userId": "12869815464542738621"
     },
     "user_tz": 180
    },
    "id": "VBPCntUcMiSP",
    "outputId": "0d392bc8-2d28-4971-c227-27bfe5e934b1"
   },
   "outputs": [
    {
     "name": "stdout",
     "output_type": "stream",
     "text": [
      "Linhas: 253; Colunas: 7\n"
     ]
    }
   ],
   "source": [
    "## Lendo o DataFrame\n",
    "sArquivo = \"exportacoes_importacoes.xlsx\"\n",
    "dfExpImp = pd.read_excel(f\"{sCaminho}{sArquivo}\")\n",
    "\n",
    "# Vendo o tamanho da base\n",
    "print(f\"Linhas: {dfExpImp.shape[0]}; Colunas: {dfExpImp.shape[1]}\")"
   ]
  },
  {
   "cell_type": "code",
   "execution_count": 34,
   "metadata": {
    "colab": {
     "base_uri": "https://localhost:8080/",
     "height": 675
    },
    "executionInfo": {
     "elapsed": 45,
     "status": "ok",
     "timestamp": 1635285467919,
     "user": {
      "displayName": "Vinicius Nery",
      "photoUrl": "https://lh3.googleusercontent.com/a-/AOh14GgskpJ_NRKHH95grqz01_Kgh6MLO26xbaMREp6wPhE=s64",
      "userId": "12869815464542738621"
     },
     "user_tz": 180
    },
    "id": "LBYfs9oHNQru",
    "outputId": "76fd81fc-de36-4184-b0c4-a8ac68c2092c"
   },
   "outputs": [
    {
     "data": {
      "text/html": [
       "<div>\n",
       "<style scoped>\n",
       "    .dataframe tbody tr th:only-of-type {\n",
       "        vertical-align: middle;\n",
       "    }\n",
       "\n",
       "    .dataframe tbody tr th {\n",
       "        vertical-align: top;\n",
       "    }\n",
       "\n",
       "    .dataframe thead th {\n",
       "        text-align: right;\n",
       "    }\n",
       "</style>\n",
       "<table border=\"1\" class=\"dataframe\">\n",
       "  <thead>\n",
       "    <tr style=\"text-align: right;\">\n",
       "      <th></th>\n",
       "      <th>data</th>\n",
       "      <th>exportacao_indice_quantum</th>\n",
       "      <th>exportacao_indice_preco</th>\n",
       "      <th>importacao_indice_quantum</th>\n",
       "      <th>importacao_indice_preco</th>\n",
       "      <th>txcambio_realefetiva_expor_INPC</th>\n",
       "      <th>txcambio_realefetiva_impor_INPC</th>\n",
       "    </tr>\n",
       "  </thead>\n",
       "  <tbody>\n",
       "    <tr>\n",
       "      <th>0</th>\n",
       "      <td>2000-03-01</td>\n",
       "      <td>47.806667</td>\n",
       "      <td>73.226667</td>\n",
       "      <td>68.550000</td>\n",
       "      <td>77.243333</td>\n",
       "      <td>140.360077</td>\n",
       "      <td>136.192953</td>\n",
       "    </tr>\n",
       "    <tr>\n",
       "      <th>1</th>\n",
       "      <td>2000-04-01</td>\n",
       "      <td>50.713333</td>\n",
       "      <td>73.223333</td>\n",
       "      <td>71.900000</td>\n",
       "      <td>76.050000</td>\n",
       "      <td>138.469159</td>\n",
       "      <td>134.306827</td>\n",
       "    </tr>\n",
       "    <tr>\n",
       "      <th>2</th>\n",
       "      <td>2000-05-01</td>\n",
       "      <td>54.100000</td>\n",
       "      <td>73.663333</td>\n",
       "      <td>75.543333</td>\n",
       "      <td>76.183333</td>\n",
       "      <td>138.586178</td>\n",
       "      <td>134.356733</td>\n",
       "    </tr>\n",
       "    <tr>\n",
       "      <th>3</th>\n",
       "      <td>2000-06-01</td>\n",
       "      <td>55.586667</td>\n",
       "      <td>73.733333</td>\n",
       "      <td>76.176667</td>\n",
       "      <td>76.423333</td>\n",
       "      <td>139.826678</td>\n",
       "      <td>135.669016</td>\n",
       "    </tr>\n",
       "    <tr>\n",
       "      <th>4</th>\n",
       "      <td>2000-07-01</td>\n",
       "      <td>58.330000</td>\n",
       "      <td>74.393333</td>\n",
       "      <td>81.076667</td>\n",
       "      <td>76.593333</td>\n",
       "      <td>139.646937</td>\n",
       "      <td>135.582824</td>\n",
       "    </tr>\n",
       "    <tr>\n",
       "      <th>5</th>\n",
       "      <td>2000-08-01</td>\n",
       "      <td>59.596667</td>\n",
       "      <td>75.003333</td>\n",
       "      <td>85.326667</td>\n",
       "      <td>76.560000</td>\n",
       "      <td>137.922733</td>\n",
       "      <td>133.957281</td>\n",
       "    </tr>\n",
       "    <tr>\n",
       "      <th>6</th>\n",
       "      <td>2000-09-01</td>\n",
       "      <td>58.686667</td>\n",
       "      <td>75.503333</td>\n",
       "      <td>87.930000</td>\n",
       "      <td>76.513333</td>\n",
       "      <td>136.146996</td>\n",
       "      <td>132.107348</td>\n",
       "    </tr>\n",
       "    <tr>\n",
       "      <th>7</th>\n",
       "      <td>2000-10-01</td>\n",
       "      <td>57.610000</td>\n",
       "      <td>75.046667</td>\n",
       "      <td>88.943333</td>\n",
       "      <td>77.133333</td>\n",
       "      <td>136.013910</td>\n",
       "      <td>131.831213</td>\n",
       "    </tr>\n",
       "    <tr>\n",
       "      <th>8</th>\n",
       "      <td>2000-11-01</td>\n",
       "      <td>53.903333</td>\n",
       "      <td>74.173333</td>\n",
       "      <td>86.140000</td>\n",
       "      <td>77.700000</td>\n",
       "      <td>138.215528</td>\n",
       "      <td>133.861405</td>\n",
       "    </tr>\n",
       "    <tr>\n",
       "      <th>9</th>\n",
       "      <td>2000-12-01</td>\n",
       "      <td>53.766667</td>\n",
       "      <td>74.020000</td>\n",
       "      <td>84.723333</td>\n",
       "      <td>78.066667</td>\n",
       "      <td>141.268079</td>\n",
       "      <td>136.849339</td>\n",
       "    </tr>\n",
       "    <tr>\n",
       "      <th>10</th>\n",
       "      <td>2001-01-01</td>\n",
       "      <td>53.003333</td>\n",
       "      <td>74.493333</td>\n",
       "      <td>84.450000</td>\n",
       "      <td>77.503333</td>\n",
       "      <td>143.764137</td>\n",
       "      <td>139.306342</td>\n",
       "    </tr>\n",
       "    <tr>\n",
       "      <th>11</th>\n",
       "      <td>2001-02-01</td>\n",
       "      <td>51.683333</td>\n",
       "      <td>74.606667</td>\n",
       "      <td>78.916667</td>\n",
       "      <td>77.073333</td>\n",
       "      <td>145.468837</td>\n",
       "      <td>141.011659</td>\n",
       "    </tr>\n",
       "    <tr>\n",
       "      <th>12</th>\n",
       "      <td>2001-03-01</td>\n",
       "      <td>53.646667</td>\n",
       "      <td>74.583333</td>\n",
       "      <td>83.490000</td>\n",
       "      <td>76.010000</td>\n",
       "      <td>147.690118</td>\n",
       "      <td>143.005814</td>\n",
       "    </tr>\n",
       "    <tr>\n",
       "      <th>13</th>\n",
       "      <td>2001-04-01</td>\n",
       "      <td>55.170000</td>\n",
       "      <td>73.563333</td>\n",
       "      <td>82.103333</td>\n",
       "      <td>75.113333</td>\n",
       "      <td>151.751161</td>\n",
       "      <td>146.742126</td>\n",
       "    </tr>\n",
       "    <tr>\n",
       "      <th>14</th>\n",
       "      <td>2001-05-01</td>\n",
       "      <td>60.806667</td>\n",
       "      <td>72.896667</td>\n",
       "      <td>89.246667</td>\n",
       "      <td>74.726667</td>\n",
       "      <td>157.165242</td>\n",
       "      <td>151.811889</td>\n",
       "    </tr>\n",
       "    <tr>\n",
       "      <th>15</th>\n",
       "      <td>2001-06-01</td>\n",
       "      <td>61.220000</td>\n",
       "      <td>71.803333</td>\n",
       "      <td>84.970000</td>\n",
       "      <td>74.946667</td>\n",
       "      <td>162.127509</td>\n",
       "      <td>156.546795</td>\n",
       "    </tr>\n",
       "    <tr>\n",
       "      <th>16</th>\n",
       "      <td>2001-07-01</td>\n",
       "      <td>62.223333</td>\n",
       "      <td>71.736667</td>\n",
       "      <td>86.370000</td>\n",
       "      <td>74.983333</td>\n",
       "      <td>166.568104</td>\n",
       "      <td>160.952936</td>\n",
       "    </tr>\n",
       "    <tr>\n",
       "      <th>17</th>\n",
       "      <td>2001-08-01</td>\n",
       "      <td>63.936667</td>\n",
       "      <td>71.473333</td>\n",
       "      <td>86.526667</td>\n",
       "      <td>74.556667</td>\n",
       "      <td>170.604422</td>\n",
       "      <td>165.068315</td>\n",
       "    </tr>\n",
       "    <tr>\n",
       "      <th>18</th>\n",
       "      <td>2001-09-01</td>\n",
       "      <td>62.976667</td>\n",
       "      <td>71.220000</td>\n",
       "      <td>83.113333</td>\n",
       "      <td>74.476667</td>\n",
       "      <td>177.451094</td>\n",
       "      <td>171.936937</td>\n",
       "    </tr>\n",
       "    <tr>\n",
       "      <th>19</th>\n",
       "      <td>2001-10-01</td>\n",
       "      <td>63.876667</td>\n",
       "      <td>70.370000</td>\n",
       "      <td>82.496667</td>\n",
       "      <td>74.513333</td>\n",
       "      <td>183.513454</td>\n",
       "      <td>177.954911</td>\n",
       "    </tr>\n",
       "  </tbody>\n",
       "</table>\n",
       "</div>"
      ],
      "text/plain": [
       "         data  ...  txcambio_realefetiva_impor_INPC\n",
       "0  2000-03-01  ...                       136.192953\n",
       "1  2000-04-01  ...                       134.306827\n",
       "2  2000-05-01  ...                       134.356733\n",
       "3  2000-06-01  ...                       135.669016\n",
       "4  2000-07-01  ...                       135.582824\n",
       "5  2000-08-01  ...                       133.957281\n",
       "6  2000-09-01  ...                       132.107348\n",
       "7  2000-10-01  ...                       131.831213\n",
       "8  2000-11-01  ...                       133.861405\n",
       "9  2000-12-01  ...                       136.849339\n",
       "10 2001-01-01  ...                       139.306342\n",
       "11 2001-02-01  ...                       141.011659\n",
       "12 2001-03-01  ...                       143.005814\n",
       "13 2001-04-01  ...                       146.742126\n",
       "14 2001-05-01  ...                       151.811889\n",
       "15 2001-06-01  ...                       156.546795\n",
       "16 2001-07-01  ...                       160.952936\n",
       "17 2001-08-01  ...                       165.068315\n",
       "18 2001-09-01  ...                       171.936937\n",
       "19 2001-10-01  ...                       177.954911\n",
       "\n",
       "[20 rows x 7 columns]"
      ]
     },
     "execution_count": 34,
     "metadata": {},
     "output_type": "execute_result"
    }
   ],
   "source": [
    "## Vendo a base\n",
    "dfExpImp.head(20)"
   ]
  },
  {
   "cell_type": "code",
   "execution_count": 31,
   "metadata": {
    "executionInfo": {
     "elapsed": 352,
     "status": "ok",
     "timestamp": 1635295521022,
     "user": {
      "displayName": "Vinicius Nery",
      "photoUrl": "https://lh3.googleusercontent.com/a-/AOh14GgskpJ_NRKHH95grqz01_Kgh6MLO26xbaMREp6wPhE=s64",
      "userId": "12869815464542738621"
     },
     "user_tz": 180
    },
    "id": "foYBiAGgNTEl"
   },
   "outputs": [],
   "source": [
    "## Convertendo a coluna de data pra datetime\n",
    "dfExpImp['data'] = pd.to_datetime(dfExpImp['data'])"
   ]
  },
  {
   "cell_type": "code",
   "execution_count": 32,
   "metadata": {
    "colab": {
     "base_uri": "https://localhost:8080/",
     "height": 346
    },
    "executionInfo": {
     "elapsed": 547,
     "status": "ok",
     "timestamp": 1635295549109,
     "user": {
      "displayName": "Vinicius Nery",
      "photoUrl": "https://lh3.googleusercontent.com/a-/AOh14GgskpJ_NRKHH95grqz01_Kgh6MLO26xbaMREp6wPhE=s64",
      "userId": "12869815464542738621"
     },
     "user_tz": 180
    },
    "id": "iAMTLjSRNvl5",
    "outputId": "5ce74932-5699-4487-9343-b55ba5d724ea"
   },
   "outputs": [
    {
     "data": {
      "text/plain": [
       "[Text(0, 0.5, 'Índice'),\n",
       " Text(0.5, 0, 'Mês e Ano'),\n",
       " Text(0.5, 1.0, 'Quantum de Comércio Internacional')]"
      ]
     },
     "execution_count": 32,
     "metadata": {},
     "output_type": "execute_result"
    },
    {
     "data": {
      "image/png": "[encoded data removed]",
      "text/plain": [
       "<Figure size 432x288 with 1 Axes>"
      ]
     },
     "metadata": {
      "needs_background": "light"
     },
     "output_type": "display_data"
    }
   ],
   "source": [
    "## Grafando o comportamento das séries\n",
    "plt.plot(dfExpImp.data, dfExpImp.exportacao_indice_quantum, color=\"red\", label=\"Exportações\")\n",
    "plt.plot(dfExpImp.data, dfExpImp.importacao_indice_quantum, color=\"blue\", label=\"Importações\")\n",
    "plt.legend()\n",
    "plt.gca().set(title=\"Quantum de Comércio Internacional\", xlabel=\"Mês e Ano\", ylabel=\"Índice\")"
   ]
  },
  {
   "cell_type": "code",
   "execution_count": 33,
   "metadata": {
    "colab": {
     "base_uri": "https://localhost:8080/",
     "height": 425
    },
    "executionInfo": {
     "elapsed": 907,
     "status": "ok",
     "timestamp": 1635295621449,
     "user": {
      "displayName": "Vinicius Nery",
      "photoUrl": "https://lh3.googleusercontent.com/a-/AOh14GgskpJ_NRKHH95grqz01_Kgh6MLO26xbaMREp6wPhE=s64",
      "userId": "12869815464542738621"
     },
     "user_tz": 180
    },
    "id": "eqbbsNT7Vo81",
    "outputId": "2f5f2b1b-b231-4342-b9fe-93ffddeeb1d9"
   },
   "outputs": [
    {
     "data": {
      "text/html": [
       "<div>\n",
       "<style scoped>\n",
       "    .dataframe tbody tr th:only-of-type {\n",
       "        vertical-align: middle;\n",
       "    }\n",
       "\n",
       "    .dataframe tbody tr th {\n",
       "        vertical-align: top;\n",
       "    }\n",
       "\n",
       "    .dataframe thead th {\n",
       "        text-align: right;\n",
       "    }\n",
       "</style>\n",
       "<table border=\"1\" class=\"dataframe\">\n",
       "  <thead>\n",
       "    <tr style=\"text-align: right;\">\n",
       "      <th></th>\n",
       "      <th>data</th>\n",
       "      <th>exportacao_indice_quantum</th>\n",
       "      <th>exportacao_indice_preco</th>\n",
       "      <th>importacao_indice_quantum</th>\n",
       "      <th>importacao_indice_preco</th>\n",
       "      <th>txcambio_realefetiva_expor_INPC</th>\n",
       "      <th>txcambio_realefetiva_impor_INPC</th>\n",
       "    </tr>\n",
       "  </thead>\n",
       "  <tbody>\n",
       "    <tr>\n",
       "      <th>94</th>\n",
       "      <td>2008-01-01</td>\n",
       "      <td>99.926667</td>\n",
       "      <td>121.286667</td>\n",
       "      <td>131.913333</td>\n",
       "      <td>116.586667</td>\n",
       "      <td>112.081376</td>\n",
       "      <td>111.622559</td>\n",
       "    </tr>\n",
       "    <tr>\n",
       "      <th>95</th>\n",
       "      <td>2008-02-01</td>\n",
       "      <td>95.326667</td>\n",
       "      <td>123.503333</td>\n",
       "      <td>129.053333</td>\n",
       "      <td>118.960000</td>\n",
       "      <td>111.324653</td>\n",
       "      <td>110.896073</td>\n",
       "    </tr>\n",
       "    <tr>\n",
       "      <th>96</th>\n",
       "      <td>2008-03-01</td>\n",
       "      <td>89.953333</td>\n",
       "      <td>125.800000</td>\n",
       "      <td>129.663333</td>\n",
       "      <td>122.176667</td>\n",
       "      <td>110.984124</td>\n",
       "      <td>110.567357</td>\n",
       "    </tr>\n",
       "    <tr>\n",
       "      <th>97</th>\n",
       "      <td>2008-04-01</td>\n",
       "      <td>90.040000</td>\n",
       "      <td>128.120000</td>\n",
       "      <td>124.613333</td>\n",
       "      <td>126.896667</td>\n",
       "      <td>110.447201</td>\n",
       "      <td>109.905106</td>\n",
       "    </tr>\n",
       "    <tr>\n",
       "      <th>98</th>\n",
       "      <td>2008-05-01</td>\n",
       "      <td>101.086667</td>\n",
       "      <td>132.360000</td>\n",
       "      <td>132.570000</td>\n",
       "      <td>129.956667</td>\n",
       "      <td>109.595327</td>\n",
       "      <td>108.800116</td>\n",
       "    </tr>\n",
       "    <tr>\n",
       "      <th>99</th>\n",
       "      <td>2008-06-01</td>\n",
       "      <td>109.380000</td>\n",
       "      <td>138.533333</td>\n",
       "      <td>142.943333</td>\n",
       "      <td>133.590000</td>\n",
       "      <td>107.270905</td>\n",
       "      <td>106.256802</td>\n",
       "    </tr>\n",
       "    <tr>\n",
       "      <th>100</th>\n",
       "      <td>2008-07-01</td>\n",
       "      <td>117.050000</td>\n",
       "      <td>145.903333</td>\n",
       "      <td>154.756667</td>\n",
       "      <td>137.070000</td>\n",
       "      <td>104.779823</td>\n",
       "      <td>103.658131</td>\n",
       "    </tr>\n",
       "    <tr>\n",
       "      <th>101</th>\n",
       "      <td>2008-08-01</td>\n",
       "      <td>112.733333</td>\n",
       "      <td>152.476667</td>\n",
       "      <td>158.010000</td>\n",
       "      <td>140.450000</td>\n",
       "      <td>102.951523</td>\n",
       "      <td>101.826536</td>\n",
       "    </tr>\n",
       "    <tr>\n",
       "      <th>102</th>\n",
       "      <td>2008-09-01</td>\n",
       "      <td>113.600000</td>\n",
       "      <td>155.016667</td>\n",
       "      <td>160.776667</td>\n",
       "      <td>141.903333</td>\n",
       "      <td>105.292563</td>\n",
       "      <td>104.202650</td>\n",
       "    </tr>\n",
       "    <tr>\n",
       "      <th>103</th>\n",
       "      <td>2008-10-01</td>\n",
       "      <td>110.450000</td>\n",
       "      <td>154.236667</td>\n",
       "      <td>163.543333</td>\n",
       "      <td>139.710000</td>\n",
       "      <td>113.339710</td>\n",
       "      <td>112.421258</td>\n",
       "    </tr>\n",
       "    <tr>\n",
       "      <th>104</th>\n",
       "      <td>2008-11-01</td>\n",
       "      <td>104.873333</td>\n",
       "      <td>147.996667</td>\n",
       "      <td>153.366667</td>\n",
       "      <td>136.200000</td>\n",
       "      <td>122.115517</td>\n",
       "      <td>121.395275</td>\n",
       "    </tr>\n",
       "    <tr>\n",
       "      <th>105</th>\n",
       "      <td>2008-12-01</td>\n",
       "      <td>98.616667</td>\n",
       "      <td>139.076667</td>\n",
       "      <td>141.156667</td>\n",
       "      <td>129.723333</td>\n",
       "      <td>130.764350</td>\n",
       "      <td>130.262533</td>\n",
       "    </tr>\n",
       "  </tbody>\n",
       "</table>\n",
       "</div>"
      ],
      "text/plain": [
       "          data  ...  txcambio_realefetiva_impor_INPC\n",
       "94  2008-01-01  ...                       111.622559\n",
       "95  2008-02-01  ...                       110.896073\n",
       "96  2008-03-01  ...                       110.567357\n",
       "97  2008-04-01  ...                       109.905106\n",
       "98  2008-05-01  ...                       108.800116\n",
       "99  2008-06-01  ...                       106.256802\n",
       "100 2008-07-01  ...                       103.658131\n",
       "101 2008-08-01  ...                       101.826536\n",
       "102 2008-09-01  ...                       104.202650\n",
       "103 2008-10-01  ...                       112.421258\n",
       "104 2008-11-01  ...                       121.395275\n",
       "105 2008-12-01  ...                       130.262533\n",
       "\n",
       "[12 rows x 7 columns]"
      ]
     },
     "execution_count": 33,
     "metadata": {},
     "output_type": "execute_result"
    }
   ],
   "source": [
    "## Vendo dados de 2008\n",
    "dfExpImp.query(\"data.dt.year == 2008\")"
   ]
  },
  {
   "cell_type": "markdown",
   "metadata": {
    "id": "aWzKhECiQT_U"
   },
   "source": [
    "## Testando estacionariedade e diferenciação de séries temporais"
   ]
  },
  {
   "cell_type": "code",
   "execution_count": 34,
   "metadata": {
    "colab": {
     "base_uri": "https://localhost:8080/"
    },
    "executionInfo": {
     "elapsed": 356,
     "status": "ok",
     "timestamp": 1635295722010,
     "user": {
      "displayName": "Vinicius Nery",
      "photoUrl": "https://lh3.googleusercontent.com/a-/AOh14GgskpJ_NRKHH95grqz01_Kgh6MLO26xbaMREp6wPhE=s64",
      "userId": "12869815464542738621"
     },
     "user_tz": 180
    },
    "id": "aOioY-z9QX1k",
    "outputId": "96e80c12-97a6-4759-ba28-d927a72811e2"
   },
   "outputs": [
    {
     "name": "stdout",
     "output_type": "stream",
     "text": [
      "P-valor do teste: 0.3563299012692863\n",
      "H0: a série NÃO é estacionária e possui raiz unitária.\n"
     ]
    }
   ],
   "source": [
    "## Testando estacionariedade usando o teste Aumentado de Dickey Fuller (ADF)\n",
    "# Exportações\n",
    "resultado_adf_exp = adfuller(dfExpImp['exportacao_indice_quantum'], autolag='AIC')\n",
    "print(f\"P-valor do teste: {resultado_adf_exp[1]}\")\n",
    "print(\"H0: a série NÃO é estacionária e possui raiz unitária.\")"
   ]
  },
  {
   "cell_type": "code",
   "execution_count": 35,
   "metadata": {
    "colab": {
     "base_uri": "https://localhost:8080/"
    },
    "executionInfo": {
     "elapsed": 332,
     "status": "ok",
     "timestamp": 1635295742047,
     "user": {
      "displayName": "Vinicius Nery",
      "photoUrl": "https://lh3.googleusercontent.com/a-/AOh14GgskpJ_NRKHH95grqz01_Kgh6MLO26xbaMREp6wPhE=s64",
      "userId": "12869815464542738621"
     },
     "user_tz": 180
    },
    "id": "-5jPee9wQXzK",
    "outputId": "734373b2-35dd-4749-af5f-77434fb99f0d"
   },
   "outputs": [
    {
     "name": "stdout",
     "output_type": "stream",
     "text": [
      "P-valor do teste: 0.6973008106100915\n",
      "H0: a série NÃO é estacionária e possui raiz unitária.\n"
     ]
    }
   ],
   "source": [
    "# Importações\n",
    "resultado_adf_imp = adfuller(dfExpImp['importacao_indice_quantum'], autolag='AIC')\n",
    "print(f\"P-valor do teste: {resultado_adf_imp[1]}\")\n",
    "print(\"H0: a série NÃO é estacionária e possui raiz unitária.\")"
   ]
  },
  {
   "cell_type": "markdown",
   "metadata": {
    "id": "8oCVYj6XRhqD"
   },
   "source": [
    "Ambas as séries NÃO são estacionárias: assim, precisamos torná-las estacionárias, o que pode ser feito através de diferenciação."
   ]
  },
  {
   "cell_type": "code",
   "execution_count": 36,
   "metadata": {
    "colab": {
     "base_uri": "https://localhost:8080/",
     "height": 422
    },
    "executionInfo": {
     "elapsed": 845,
     "status": "ok",
     "timestamp": 1635295777814,
     "user": {
      "displayName": "Vinicius Nery",
      "photoUrl": "https://lh3.googleusercontent.com/a-/AOh14GgskpJ_NRKHH95grqz01_Kgh6MLO26xbaMREp6wPhE=s64",
      "userId": "12869815464542738621"
     },
     "user_tz": 180
    },
    "id": "Xg0WQUSjQXwR",
    "outputId": "3da394dd-1201-4da3-858a-10af3ac869b5"
   },
   "outputs": [
    {
     "data": {
      "text/html": [
       "<div>\n",
       "<style scoped>\n",
       "    .dataframe tbody tr th:only-of-type {\n",
       "        vertical-align: middle;\n",
       "    }\n",
       "\n",
       "    .dataframe tbody tr th {\n",
       "        vertical-align: top;\n",
       "    }\n",
       "\n",
       "    .dataframe thead th {\n",
       "        text-align: right;\n",
       "    }\n",
       "</style>\n",
       "<table border=\"1\" class=\"dataframe\">\n",
       "  <thead>\n",
       "    <tr style=\"text-align: right;\">\n",
       "      <th></th>\n",
       "      <th>exportacao_indice_quantum</th>\n",
       "      <th>exportacao_diff</th>\n",
       "    </tr>\n",
       "  </thead>\n",
       "  <tbody>\n",
       "    <tr>\n",
       "      <th>0</th>\n",
       "      <td>47.806667</td>\n",
       "      <td>NaN</td>\n",
       "    </tr>\n",
       "    <tr>\n",
       "      <th>1</th>\n",
       "      <td>50.713333</td>\n",
       "      <td>2.906667</td>\n",
       "    </tr>\n",
       "    <tr>\n",
       "      <th>2</th>\n",
       "      <td>54.100000</td>\n",
       "      <td>3.386667</td>\n",
       "    </tr>\n",
       "    <tr>\n",
       "      <th>3</th>\n",
       "      <td>55.586667</td>\n",
       "      <td>1.486667</td>\n",
       "    </tr>\n",
       "    <tr>\n",
       "      <th>4</th>\n",
       "      <td>58.330000</td>\n",
       "      <td>2.743333</td>\n",
       "    </tr>\n",
       "    <tr>\n",
       "      <th>...</th>\n",
       "      <td>...</td>\n",
       "      <td>...</td>\n",
       "    </tr>\n",
       "    <tr>\n",
       "      <th>248</th>\n",
       "      <td>125.920000</td>\n",
       "      <td>-2.426667</td>\n",
       "    </tr>\n",
       "    <tr>\n",
       "      <th>249</th>\n",
       "      <td>125.363333</td>\n",
       "      <td>-0.556667</td>\n",
       "    </tr>\n",
       "    <tr>\n",
       "      <th>250</th>\n",
       "      <td>116.383333</td>\n",
       "      <td>-8.980000</td>\n",
       "    </tr>\n",
       "    <tr>\n",
       "      <th>251</th>\n",
       "      <td>109.083333</td>\n",
       "      <td>-7.300000</td>\n",
       "    </tr>\n",
       "    <tr>\n",
       "      <th>252</th>\n",
       "      <td>115.516667</td>\n",
       "      <td>6.433333</td>\n",
       "    </tr>\n",
       "  </tbody>\n",
       "</table>\n",
       "<p>253 rows × 2 columns</p>\n",
       "</div>"
      ],
      "text/plain": [
       "     exportacao_indice_quantum  exportacao_diff\n",
       "0                    47.806667              NaN\n",
       "1                    50.713333         2.906667\n",
       "2                    54.100000         3.386667\n",
       "3                    55.586667         1.486667\n",
       "4                    58.330000         2.743333\n",
       "..                         ...              ...\n",
       "248                 125.920000        -2.426667\n",
       "249                 125.363333        -0.556667\n",
       "250                 116.383333        -8.980000\n",
       "251                 109.083333        -7.300000\n",
       "252                 115.516667         6.433333\n",
       "\n",
       "[253 rows x 2 columns]"
      ]
     },
     "execution_count": 36,
     "metadata": {},
     "output_type": "execute_result"
    }
   ],
   "source": [
    "## Diferenciado Exportações\n",
    "dfExpImp['exportacao_diff'] = dfExpImp['exportacao_indice_quantum'].diff()\n",
    "dfExpImp[['exportacao_indice_quantum', 'exportacao_diff']]"
   ]
  },
  {
   "cell_type": "code",
   "execution_count": 37,
   "metadata": {
    "colab": {
     "base_uri": "https://localhost:8080/"
    },
    "executionInfo": {
     "elapsed": 406,
     "status": "ok",
     "timestamp": 1635295862033,
     "user": {
      "displayName": "Vinicius Nery",
      "photoUrl": "https://lh3.googleusercontent.com/a-/AOh14GgskpJ_NRKHH95grqz01_Kgh6MLO26xbaMREp6wPhE=s64",
      "userId": "12869815464542738621"
     },
     "user_tz": 180
    },
    "id": "DclZ3H7VQXuC",
    "outputId": "ebdda4ca-c3cc-4402-8f29-533b4f2e2fe3"
   },
   "outputs": [
    {
     "name": "stdout",
     "output_type": "stream",
     "text": [
      "P-valor do teste: 0.00015940511685706075\n",
      "H0: a série NÃO é estacionária e possui raiz unitária.\n"
     ]
    }
   ],
   "source": [
    "## Retirando o NaN do início\n",
    "exportacao_diff = dfExpImp['exportacao_diff'].values[1:]\n",
    "\n",
    "## Testando estacionariedade\n",
    "resultado_adf_exp_diff = adfuller(exportacao_diff, autolag='AIC')\n",
    "print(f\"P-valor do teste: {resultado_adf_exp_diff[1]}\")\n",
    "print(\"H0: a série NÃO é estacionária e possui raiz unitária.\")\n",
    "\n",
    "## A série se torna estacionária!!!"
   ]
  },
  {
   "cell_type": "code",
   "execution_count": 38,
   "metadata": {
    "colab": {
     "base_uri": "https://localhost:8080/"
    },
    "executionInfo": {
     "elapsed": 432,
     "status": "ok",
     "timestamp": 1635295893724,
     "user": {
      "displayName": "Vinicius Nery",
      "photoUrl": "https://lh3.googleusercontent.com/a-/AOh14GgskpJ_NRKHH95grqz01_Kgh6MLO26xbaMREp6wPhE=s64",
      "userId": "12869815464542738621"
     },
     "user_tz": 180
    },
    "id": "aMi-lerRQXql",
    "outputId": "aa11de8d-d150-4395-d2cc-20c4301a9778"
   },
   "outputs": [
    {
     "name": "stdout",
     "output_type": "stream",
     "text": [
      "P-valor do teste: 0.0009469016086370704\n",
      "H0: a série NÃO é estacionária e possui raiz unitária.\n"
     ]
    }
   ],
   "source": [
    "## Fazendo a mesma coisa com importações\n",
    "dfExpImp['importacao_diff'] = dfExpImp['importacao_indice_quantum'].diff()\n",
    "\n",
    "## Retirando o NaN do início\n",
    "importacao_diff = dfExpImp['importacao_diff'].values[1:]\n",
    "\n",
    "## Testando estacionariedade\n",
    "resultado_adf_imp_diff = adfuller(importacao_diff, autolag='AIC')\n",
    "print(f\"P-valor do teste: {resultado_adf_imp_diff[1]}\")\n",
    "print(\"H0: a série NÃO é estacionária e possui raiz unitária.\")\n",
    "\n",
    "## A série se torna estacionária!!!"
   ]
  },
  {
   "attachments": {},
   "cell_type": "markdown",
   "metadata": {
    "id": "lRdpO8UhOkjK"
   },
   "source": [
    "## Testando Cointegração\n",
    "\n",
    "Statsmodels usa o Teste Aumentado de Engle-Granger, onde $H_0$: não há cointegração.\n",
    "\n",
    "Para funcionar, ambas as séries precisam ser integradas de ordem 1."
   ]
  },
  {
   "cell_type": "code",
   "execution_count": 39,
   "metadata": {
    "executionInfo": {
     "elapsed": 394,
     "status": "ok",
     "timestamp": 1635295956311,
     "user": {
      "displayName": "Vinicius Nery",
      "photoUrl": "https://lh3.googleusercontent.com/a-/AOh14GgskpJ_NRKHH95grqz01_Kgh6MLO26xbaMREp6wPhE=s64",
      "userId": "12869815464542738621"
     },
     "user_tz": 180
    },
    "id": "5QxDe460OH7H"
   },
   "outputs": [],
   "source": [
    "## Módulo necessário\n",
    "from statsmodels.tsa.stattools import coint"
   ]
  },
  {
   "cell_type": "code",
   "execution_count": 40,
   "metadata": {
    "colab": {
     "base_uri": "https://localhost:8080/"
    },
    "executionInfo": {
     "elapsed": 365,
     "status": "ok",
     "timestamp": 1635295981341,
     "user": {
      "displayName": "Vinicius Nery",
      "photoUrl": "https://lh3.googleusercontent.com/a-/AOh14GgskpJ_NRKHH95grqz01_Kgh6MLO26xbaMREp6wPhE=s64",
      "userId": "12869815464542738621"
     },
     "user_tz": 180
    },
    "id": "KwqV__VfO3Rs",
    "outputId": "a039688d-55bb-408b-c6ed-404d6fd13409"
   },
   "outputs": [
    {
     "name": "stdout",
     "output_type": "stream",
     "text": [
      "P-valor:0.0013144927287533706\n"
     ]
    }
   ],
   "source": [
    "## Fazendo o teste de cointegração\n",
    "# trend='ct' estipula que ambas as séries possuem uma tendência linear definida ao longo do tempo\n",
    "# (no nosso caso, crescente; vide gráfico acima)\n",
    "cointegracao = coint(exportacao_diff, importacao_diff, trend='ct')\n",
    "print(f\"P-valor:{cointegracao[1]}\")"
   ]
  },
  {
   "cell_type": "markdown",
   "metadata": {
    "id": "Ar3uqkHzPeul"
   },
   "source": [
    "Séries bastante cointegradas!"
   ]
  },
  {
   "cell_type": "code",
   "execution_count": 41,
   "metadata": {
    "colab": {
     "base_uri": "https://localhost:8080/"
    },
    "executionInfo": {
     "elapsed": 362,
     "status": "ok",
     "timestamp": 1635296066093,
     "user": {
      "displayName": "Vinicius Nery",
      "photoUrl": "https://lh3.googleusercontent.com/a-/AOh14GgskpJ_NRKHH95grqz01_Kgh6MLO26xbaMREp6wPhE=s64",
      "userId": "12869815464542738621"
     },
     "user_tz": 180
    },
    "id": "7OgvMOzmTJWF",
    "outputId": "f6cb7885-698c-42bc-effe-1913a1906e9c"
   },
   "outputs": [
    {
     "name": "stdout",
     "output_type": "stream",
     "text": [
      "P-valor:0.6705834835364324\n"
     ]
    }
   ],
   "source": [
    "## Mesmo código, mas sem corrigir não-estacionariedade: não podemos mais rejeitar H0: séries não são cointegradas.\n",
    "cointegracao = coint(dfExpImp.exportacao_indice_quantum.values, \n",
    "                     dfExpImp.importacao_indice_quantum.values,\n",
    "                     trend='ct')\n",
    "print(f\"P-valor:{cointegracao[1]}\")"
   ]
  },
  {
   "cell_type": "markdown",
   "metadata": {
    "id": "L21F8hdNUWXz"
   },
   "source": [
    "## Testes de Quebra Estrutural: Testes de Chow\n",
    "\n",
    "Limitação: precisamos ter uma hipótese de data na qual ocorre a quebra.\n",
    "\n",
    "H0: não houve quebra estrutural"
   ]
  },
  {
   "cell_type": "code",
   "execution_count": 42,
   "metadata": {
    "executionInfo": {
     "elapsed": 301,
     "status": "ok",
     "timestamp": 1635296127831,
     "user": {
      "displayName": "Vinicius Nery",
      "photoUrl": "https://lh3.googleusercontent.com/a-/AOh14GgskpJ_NRKHH95grqz01_Kgh6MLO26xbaMREp6wPhE=s64",
      "userId": "12869815464542738621"
     },
     "user_tz": 180
    },
    "id": "Fm2C02mDP9dl"
   },
   "outputs": [],
   "source": [
    "## Para fazer o teste, precisamos de três regressões:\n",
    "# Uma de todo o período;\n",
    "# Uma do período pré-quebra;\n",
    "# E outra do período pé quebra\n",
    "\n",
    "## Importando o módulo\n",
    "from statsmodels.formula.api import ols"
   ]
  },
  {
   "cell_type": "code",
   "execution_count": 43,
   "metadata": {
    "colab": {
     "base_uri": "https://localhost:8080/",
     "height": 615
    },
    "executionInfo": {
     "elapsed": 862,
     "status": "ok",
     "timestamp": 1635296175326,
     "user": {
      "displayName": "Vinicius Nery",
      "photoUrl": "https://lh3.googleusercontent.com/a-/AOh14GgskpJ_NRKHH95grqz01_Kgh6MLO26xbaMREp6wPhE=s64",
      "userId": "12869815464542738621"
     },
     "user_tz": 180
    },
    "id": "fmZTc-cxXE2w",
    "outputId": "1a358123-115a-4fa0-9913-32859d2c48c2"
   },
   "outputs": [
    {
     "data": {
      "text/html": [
       "<div>\n",
       "<style scoped>\n",
       "    .dataframe tbody tr th:only-of-type {\n",
       "        vertical-align: middle;\n",
       "    }\n",
       "\n",
       "    .dataframe tbody tr th {\n",
       "        vertical-align: top;\n",
       "    }\n",
       "\n",
       "    .dataframe thead th {\n",
       "        text-align: right;\n",
       "    }\n",
       "</style>\n",
       "<table border=\"1\" class=\"dataframe\">\n",
       "  <thead>\n",
       "    <tr style=\"text-align: right;\">\n",
       "      <th></th>\n",
       "      <th>data</th>\n",
       "      <th>exportacao_indice_quantum</th>\n",
       "      <th>exportacao_indice_preco</th>\n",
       "      <th>importacao_indice_quantum</th>\n",
       "      <th>importacao_indice_preco</th>\n",
       "      <th>txcambio_realefetiva_expor_INPC</th>\n",
       "      <th>txcambio_realefetiva_impor_INPC</th>\n",
       "      <th>exportacao_diff</th>\n",
       "      <th>importacao_diff</th>\n",
       "      <th>tempo</th>\n",
       "    </tr>\n",
       "  </thead>\n",
       "  <tbody>\n",
       "    <tr>\n",
       "      <th>0</th>\n",
       "      <td>2000-03-01</td>\n",
       "      <td>47.806667</td>\n",
       "      <td>73.226667</td>\n",
       "      <td>68.550000</td>\n",
       "      <td>77.243333</td>\n",
       "      <td>140.360077</td>\n",
       "      <td>136.192953</td>\n",
       "      <td>NaN</td>\n",
       "      <td>NaN</td>\n",
       "      <td>1</td>\n",
       "    </tr>\n",
       "    <tr>\n",
       "      <th>1</th>\n",
       "      <td>2000-04-01</td>\n",
       "      <td>50.713333</td>\n",
       "      <td>73.223333</td>\n",
       "      <td>71.900000</td>\n",
       "      <td>76.050000</td>\n",
       "      <td>138.469159</td>\n",
       "      <td>134.306827</td>\n",
       "      <td>2.906667</td>\n",
       "      <td>3.350000</td>\n",
       "      <td>2</td>\n",
       "    </tr>\n",
       "    <tr>\n",
       "      <th>2</th>\n",
       "      <td>2000-05-01</td>\n",
       "      <td>54.100000</td>\n",
       "      <td>73.663333</td>\n",
       "      <td>75.543333</td>\n",
       "      <td>76.183333</td>\n",
       "      <td>138.586178</td>\n",
       "      <td>134.356733</td>\n",
       "      <td>3.386667</td>\n",
       "      <td>3.643333</td>\n",
       "      <td>3</td>\n",
       "    </tr>\n",
       "    <tr>\n",
       "      <th>3</th>\n",
       "      <td>2000-06-01</td>\n",
       "      <td>55.586667</td>\n",
       "      <td>73.733333</td>\n",
       "      <td>76.176667</td>\n",
       "      <td>76.423333</td>\n",
       "      <td>139.826678</td>\n",
       "      <td>135.669016</td>\n",
       "      <td>1.486667</td>\n",
       "      <td>0.633333</td>\n",
       "      <td>4</td>\n",
       "    </tr>\n",
       "    <tr>\n",
       "      <th>4</th>\n",
       "      <td>2000-07-01</td>\n",
       "      <td>58.330000</td>\n",
       "      <td>74.393333</td>\n",
       "      <td>81.076667</td>\n",
       "      <td>76.593333</td>\n",
       "      <td>139.646937</td>\n",
       "      <td>135.582824</td>\n",
       "      <td>2.743333</td>\n",
       "      <td>4.900000</td>\n",
       "      <td>5</td>\n",
       "    </tr>\n",
       "    <tr>\n",
       "      <th>...</th>\n",
       "      <td>...</td>\n",
       "      <td>...</td>\n",
       "      <td>...</td>\n",
       "      <td>...</td>\n",
       "      <td>...</td>\n",
       "      <td>...</td>\n",
       "      <td>...</td>\n",
       "      <td>...</td>\n",
       "      <td>...</td>\n",
       "      <td>...</td>\n",
       "    </tr>\n",
       "    <tr>\n",
       "      <th>248</th>\n",
       "      <td>2020-11-01</td>\n",
       "      <td>125.920000</td>\n",
       "      <td>122.743333</td>\n",
       "      <td>162.586667</td>\n",
       "      <td>103.683333</td>\n",
       "      <td>197.307942</td>\n",
       "      <td>197.166174</td>\n",
       "      <td>-2.426667</td>\n",
       "      <td>12.720000</td>\n",
       "      <td>249</td>\n",
       "    </tr>\n",
       "    <tr>\n",
       "      <th>249</th>\n",
       "      <td>2020-12-01</td>\n",
       "      <td>125.363333</td>\n",
       "      <td>123.543333</td>\n",
       "      <td>187.593333</td>\n",
       "      <td>103.940000</td>\n",
       "      <td>194.198149</td>\n",
       "      <td>194.012969</td>\n",
       "      <td>-0.556667</td>\n",
       "      <td>25.006667</td>\n",
       "      <td>250</td>\n",
       "    </tr>\n",
       "    <tr>\n",
       "      <th>250</th>\n",
       "      <td>2021-01-01</td>\n",
       "      <td>116.383333</td>\n",
       "      <td>126.640000</td>\n",
       "      <td>199.033333</td>\n",
       "      <td>104.533333</td>\n",
       "      <td>191.617321</td>\n",
       "      <td>191.339727</td>\n",
       "      <td>-8.980000</td>\n",
       "      <td>11.440000</td>\n",
       "      <td>251</td>\n",
       "    </tr>\n",
       "    <tr>\n",
       "      <th>251</th>\n",
       "      <td>2021-02-01</td>\n",
       "      <td>109.083333</td>\n",
       "      <td>132.283333</td>\n",
       "      <td>199.833333</td>\n",
       "      <td>105.880000</td>\n",
       "      <td>NaN</td>\n",
       "      <td>NaN</td>\n",
       "      <td>-7.300000</td>\n",
       "      <td>0.800000</td>\n",
       "      <td>252</td>\n",
       "    </tr>\n",
       "    <tr>\n",
       "      <th>252</th>\n",
       "      <td>2021-03-01</td>\n",
       "      <td>115.516667</td>\n",
       "      <td>138.633333</td>\n",
       "      <td>193.816667</td>\n",
       "      <td>107.753333</td>\n",
       "      <td>NaN</td>\n",
       "      <td>NaN</td>\n",
       "      <td>6.433333</td>\n",
       "      <td>-6.016667</td>\n",
       "      <td>253</td>\n",
       "    </tr>\n",
       "  </tbody>\n",
       "</table>\n",
       "<p>253 rows × 10 columns</p>\n",
       "</div>"
      ],
      "text/plain": [
       "          data  exportacao_indice_quantum  ...  importacao_diff  tempo\n",
       "0   2000-03-01                  47.806667  ...              NaN      1\n",
       "1   2000-04-01                  50.713333  ...         3.350000      2\n",
       "2   2000-05-01                  54.100000  ...         3.643333      3\n",
       "3   2000-06-01                  55.586667  ...         0.633333      4\n",
       "4   2000-07-01                  58.330000  ...         4.900000      5\n",
       "..         ...                        ...  ...              ...    ...\n",
       "248 2020-11-01                 125.920000  ...        12.720000    249\n",
       "249 2020-12-01                 125.363333  ...        25.006667    250\n",
       "250 2021-01-01                 116.383333  ...        11.440000    251\n",
       "251 2021-02-01                 109.083333  ...         0.800000    252\n",
       "252 2021-03-01                 115.516667  ...        -6.016667    253\n",
       "\n",
       "[253 rows x 10 columns]"
      ]
     },
     "execution_count": 43,
     "metadata": {},
     "output_type": "execute_result"
    }
   ],
   "source": [
    "## Como o python interpreta data como uma variável categórica, vamos criar uma coluna de contagem que,\n",
    "## que captará o efeito da passagem do tempo\n",
    "dfExpImp[\"tempo\"] = dfExpImp.index + 1\n",
    "dfExpImp"
   ]
  },
  {
   "cell_type": "code",
   "execution_count": 44,
   "metadata": {
    "colab": {
     "base_uri": "https://localhost:8080/"
    },
    "executionInfo": {
     "elapsed": 409,
     "status": "ok",
     "timestamp": 1635296226760,
     "user": {
      "displayName": "Vinicius Nery",
      "photoUrl": "https://lh3.googleusercontent.com/a-/AOh14GgskpJ_NRKHH95grqz01_Kgh6MLO26xbaMREp6wPhE=s64",
      "userId": "12869815464542738621"
     },
     "user_tz": 180
    },
    "id": "icx5aC9YVghq",
    "outputId": "cccfa914-1908-4e42-b2af-84685d595c02"
   },
   "outputs": [
    {
     "name": "stdout",
     "output_type": "stream",
     "text": [
      "154053.35557289794\n"
     ]
    }
   ],
   "source": [
    "## Formula\n",
    "formula = \"importacao_indice_quantum ~ 1 + tempo\"\n",
    "\n",
    "## Modelo com todos os dados\n",
    "modelo_geral = ols(formula, dfExpImp).fit(use_t=True)\n",
    "\n",
    "## Pegando a soma dos quadrados dos resíduos do modelo\n",
    "# Squared Sum of Residuals: SSR\n",
    "ssr_geral = modelo_geral.ssr\n",
    "print(ssr_geral)"
   ]
  },
  {
   "cell_type": "code",
   "execution_count": 45,
   "metadata": {
    "colab": {
     "base_uri": "https://localhost:8080/"
    },
    "executionInfo": {
     "elapsed": 344,
     "status": "ok",
     "timestamp": 1635296239371,
     "user": {
      "displayName": "Vinicius Nery",
      "photoUrl": "https://lh3.googleusercontent.com/a-/AOh14GgskpJ_NRKHH95grqz01_Kgh6MLO26xbaMREp6wPhE=s64",
      "userId": "12869815464542738621"
     },
     "user_tz": 180
    },
    "id": "eFQRHDdzWVBJ",
    "outputId": "fe22ca30-b9a4-43d8-f123-93d001004f5f"
   },
   "outputs": [
    {
     "name": "stdout",
     "output_type": "stream",
     "text": [
      "24201.487011520498\n"
     ]
    }
   ],
   "source": [
    "## Modelo com dados pré-2009\n",
    "modelo_pre2009 = ols(formula, dfExpImp.query(\"data.dt.year < 2009\")).fit(use_t=True)\n",
    "\n",
    "## Pegando a soma dos quadrados dos resíduos do modelo\n",
    "# Squared Sum of Residuals: SSR\n",
    "ssr_pre2009 = modelo_pre2009.ssr\n",
    "print(ssr_pre2009)"
   ]
  },
  {
   "cell_type": "code",
   "execution_count": 46,
   "metadata": {
    "colab": {
     "base_uri": "https://localhost:8080/"
    },
    "executionInfo": {
     "elapsed": 431,
     "status": "ok",
     "timestamp": 1635296243381,
     "user": {
      "displayName": "Vinicius Nery",
      "photoUrl": "https://lh3.googleusercontent.com/a-/AOh14GgskpJ_NRKHH95grqz01_Kgh6MLO26xbaMREp6wPhE=s64",
      "userId": "12869815464542738621"
     },
     "user_tz": 180
    },
    "id": "M7EEeNfaWigZ",
    "outputId": "52bc2cd9-746a-46c0-e71e-b247341082ef"
   },
   "outputs": [
    {
     "name": "stdout",
     "output_type": "stream",
     "text": [
      "76031.93732213415\n"
     ]
    }
   ],
   "source": [
    "## Modelo com dados pós-2009\n",
    "modelo_pos2009 = ols(formula, dfExpImp.query(\"data.dt.year >= 2009\")).fit(use_t=True)\n",
    "\n",
    "## Pegando a soma dos quadrados dos resíduos do modelo\n",
    "# Squared Sum of Residuals: SSR\n",
    "ssr_pos2009 = modelo_pos2009.ssr\n",
    "print(ssr_pos2009)"
   ]
  },
  {
   "cell_type": "code",
   "execution_count": 47,
   "metadata": {
    "executionInfo": {
     "elapsed": 360,
     "status": "ok",
     "timestamp": 1635296323741,
     "user": {
      "displayName": "Vinicius Nery",
      "photoUrl": "https://lh3.googleusercontent.com/a-/AOh14GgskpJ_NRKHH95grqz01_Kgh6MLO26xbaMREp6wPhE=s64",
      "userId": "12869815464542738621"
     },
     "user_tz": 180
    },
    "id": "pg0JOLOBWoeb"
   },
   "outputs": [],
   "source": [
    "## Computando a estatística de Chow, que segue uma distribuição F com\n",
    "# 2 graus de liiberdade no numerador (número de parametros)\n",
    "# 249 graus de liberdade no denominador (número de observações - 2*número de parâmetros)\n",
    "gl_numerador = len(modelo_geral.params)\n",
    "gl_denominador = dfExpImp.shape[0] - 2*gl_numerador"
   ]
  },
  {
   "cell_type": "code",
   "execution_count": 48,
   "metadata": {
    "executionInfo": {
     "elapsed": 475,
     "status": "ok",
     "timestamp": 1635296330477,
     "user": {
      "displayName": "Vinicius Nery",
      "photoUrl": "https://lh3.googleusercontent.com/a-/AOh14GgskpJ_NRKHH95grqz01_Kgh6MLO26xbaMREp6wPhE=s64",
      "userId": "12869815464542738621"
     },
     "user_tz": 180
    },
    "id": "C36KdLpAW-SC"
   },
   "outputs": [],
   "source": [
    "numerador_chow = (ssr_geral - (ssr_pre2009 + ssr_pos2009)) / gl_numerador\n",
    "denominador_chow = (ssr_pre2009 + ssr_pos2009) / gl_denominador\n",
    "\n",
    "estatistica_chow = numerador_chow/denominador_chow"
   ]
  },
  {
   "cell_type": "code",
   "execution_count": 50,
   "metadata": {
    "colab": {
     "base_uri": "https://localhost:8080/"
    },
    "executionInfo": {
     "elapsed": 9,
     "status": "ok",
     "timestamp": 1635296388522,
     "user": {
      "displayName": "Vinicius Nery",
      "photoUrl": "https://lh3.googleusercontent.com/a-/AOh14GgskpJ_NRKHH95grqz01_Kgh6MLO26xbaMREp6wPhE=s64",
      "userId": "12869815464542738621"
     },
     "user_tz": 180
    },
    "id": "zI50u1bqW_HW",
    "outputId": "7e0bbe2a-c692-45b6-da57-ac2af0626c92"
   },
   "outputs": [
    {
     "name": "stdout",
     "output_type": "stream",
     "text": [
      "5.7677302729597685e-24\n"
     ]
    }
   ],
   "source": [
    "## Vendo o p-valor de F(2, 249)\n",
    "p_valor_chow = stats.f.sf(estatistica_chow, gl_numerador, gl_denominador)\n",
    "print(p_valor_chow)\n",
    "\n",
    "## O p-valor é de 0 até 24 casas decimais: assim se pode rejeitar H0: não houve quebra."
   ]
  }
 ],
 "metadata": {
  "colab": {
   "authorship_tag": "ABX9TyOTZ/ecFuQR8yot1KgmGfNi",
   "collapsed_sections": [],
   "name": "Aula_2021_10_26_SeriesTemporais.ipynb",
   "provenance": []
  },
  "kernelspec": {
   "display_name": "Python 3",
   "name": "python3"
  },
  "language_info": {
   "name": "python"
  }
 },
 "nbformat": 4,
 "nbformat_minor": 0
}
